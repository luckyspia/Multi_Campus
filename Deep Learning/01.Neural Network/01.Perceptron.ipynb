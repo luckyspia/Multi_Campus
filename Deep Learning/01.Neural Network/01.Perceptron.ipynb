{
 "cells": [
  {
   "cell_type": "markdown",
   "metadata": {},
   "source": [
    "## Perceptron"
   ]
  },
  {
   "cell_type": "code",
   "execution_count": 1,
   "metadata": {},
   "outputs": [],
   "source": [
    "import numpy as np"
   ]
  },
  {
   "cell_type": "code",
   "execution_count": 3,
   "metadata": {},
   "outputs": [
    {
     "name": "stdout",
     "output_type": "stream",
     "text": [
      "-1\n",
      "0\n",
      "0\n",
      "1\n"
     ]
    }
   ],
   "source": [
    "# AND Gate\n",
    "weight = np.array([1, 1])\n",
    "bias = -1\n",
    "for x1, x2  in [(0,0), (0,1), (1,0), (1,1)]:\n",
    "    sum = weight[0] * x1 + weight[1] * x2 + bias\n",
    "    print(sum)"
   ]
  },
  {
   "cell_type": "code",
   "execution_count": 4,
   "metadata": {},
   "outputs": [
    {
     "name": "stdout",
     "output_type": "stream",
     "text": [
      "0\n",
      "0\n",
      "0\n",
      "1\n"
     ]
    }
   ],
   "source": [
    "# Step Activation Func\n",
    "for x1, x2 in [(0,0), (0,1), (1,0), (1,1)]:\n",
    "    sum = weight[0] * x1 + weight[1] * x2 + bias\n",
    "    print(0 if sum <=0 else 1)"
   ]
  },
  {
   "cell_type": "code",
   "execution_count": 5,
   "metadata": {},
   "outputs": [
    {
     "name": "stdout",
     "output_type": "stream",
     "text": [
      "0\n",
      "0\n",
      "0\n",
      "1\n"
     ]
    }
   ],
   "source": [
    "for x1, x2 in [(0,0),(0,1),(1,0),(1,1)]:\n",
    "    x = np.array([x1,x2])\n",
    "    sum = np.dot(weight, x) + bias\n",
    "    print(0 if sum <= 0 else 1)"
   ]
  },
  {
   "cell_type": "code",
   "execution_count": 8,
   "metadata": {},
   "outputs": [],
   "source": [
    "def AND_gate(x1, x2):\n",
    "    weight = np.array([1, 1])\n",
    "    bias = -1\n",
    "    x = np.array([x1, x2])\n",
    "    sum = np.dot(weight, x) + bias\n",
    "    return 0 if sum <= 0 else 1"
   ]
  },
  {
   "cell_type": "code",
   "execution_count": 9,
   "metadata": {},
   "outputs": [
    {
     "name": "stdout",
     "output_type": "stream",
     "text": [
      "0\n",
      "0\n",
      "0\n",
      "1\n"
     ]
    }
   ],
   "source": [
    "for x1, x2 in [(0,0), (0,1), (1,0), (1,1)]:\n",
    "    print(AND_gate(x1,x2))"
   ]
  },
  {
   "cell_type": "code",
   "execution_count": 10,
   "metadata": {},
   "outputs": [],
   "source": [
    "# OR Gate\n",
    "def OR_gate(x1, x2):\n",
    "    weight = np.array([2, 2])\n",
    "    bias= -1\n",
    "    x = np.array([x1, x2])\n",
    "    sum = np.dot(weight, x) + bias\n",
    "    return 0 if sum <= 0 else 1"
   ]
  },
  {
   "cell_type": "code",
   "execution_count": 11,
   "metadata": {},
   "outputs": [
    {
     "name": "stdout",
     "output_type": "stream",
     "text": [
      "0\n",
      "1\n",
      "1\n",
      "1\n"
     ]
    }
   ],
   "source": [
    "for x1, x2 in [(0,0), (0,1), (1,0), (1,1)]:\n",
    "    print(OR_gate(x1,x2))"
   ]
  },
  {
   "cell_type": "code",
   "execution_count": 12,
   "metadata": {},
   "outputs": [],
   "source": [
    "# NAND gate\n",
    "def NAND_gate(x1, x2):\n",
    "    weight = np.array([-2, -2])\n",
    "    bias= 3\n",
    "    x = np.array([x1, x2])\n",
    "    sum = np.dot(weight, x) + bias\n",
    "    return 0 if sum <= 0 else 1"
   ]
  },
  {
   "cell_type": "code",
   "execution_count": 13,
   "metadata": {},
   "outputs": [
    {
     "name": "stdout",
     "output_type": "stream",
     "text": [
      "1\n",
      "1\n",
      "1\n",
      "0\n"
     ]
    }
   ],
   "source": [
    "for x1, x2 in [(0,0), (0,1), (1,0), (1,1)]:\n",
    "    print(NAND_gate(x1,x2))"
   ]
  },
  {
   "cell_type": "code",
   "execution_count": null,
   "metadata": {},
   "outputs": [],
   "source": []
  }
 ],
 "metadata": {
  "interpreter": {
   "hash": "68756eb6c044f31c46e3e1f38723aea1f0146198488dd3d60c0e4241eb6f7dd0"
  },
  "kernelspec": {
   "display_name": "Python 3.8.8 ('base')",
   "language": "python",
   "name": "python3"
  },
  "language_info": {
   "codemirror_mode": {
    "name": "ipython",
    "version": 3
   },
   "file_extension": ".py",
   "mimetype": "text/x-python",
   "name": "python",
   "nbconvert_exporter": "python",
   "pygments_lexer": "ipython3",
   "version": "3.8.8"
  },
  "orig_nbformat": 4
 },
 "nbformat": 4,
 "nbformat_minor": 2
}
