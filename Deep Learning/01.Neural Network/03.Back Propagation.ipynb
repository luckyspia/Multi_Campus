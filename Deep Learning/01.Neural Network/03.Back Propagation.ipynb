{
 "cells": [
  {
   "cell_type": "markdown",
   "metadata": {},
   "source": [
    "## Back Propagation"
   ]
  },
  {
   "cell_type": "code",
   "execution_count": 2,
   "metadata": {},
   "outputs": [],
   "source": [
    "import numpy as np\n",
    "import matplotlib.pyplot as plt"
   ]
  },
  {
   "cell_type": "code",
   "execution_count": 3,
   "metadata": {},
   "outputs": [],
   "source": [
    "# train data (XOR Problem)\n",
    "x = np.array([[0,0], [0,1], [1,0], [1,1]])\n",
    "y = np.array([0,1,1,0])"
   ]
  },
  {
   "cell_type": "code",
   "execution_count": 7,
   "metadata": {},
   "outputs": [
    {
     "name": "stdout",
     "output_type": "stream",
     "text": [
      "w1 : [[-0.38334356 -0.30418547]\n",
      " [ 0.99729151 -0.12727384]]\n",
      "w2 : [[-1.4758859  -1.94090633]]\n"
     ]
    }
   ],
   "source": [
    "print('w1 :', np.random.randn(2,2))\n",
    "print('w2 :', np.random.randn(1,2))"
   ]
  },
  {
   "cell_type": "code",
   "execution_count": 4,
   "metadata": {},
   "outputs": [],
   "source": [
    "# initialization\n",
    "np.random.seed(2022)\n",
    "\n",
    "# input - hidden layer\n",
    "w1 = np.random.randn(2,2)\n",
    "b1 = np.random.randn(1,2)\n",
    "\n",
    "# hidden - output layer\n",
    "w2 = np.random.randn(1,2)\n",
    "b2 = np.random.randn(1)\n",
    "\n",
    "# epoch\n",
    "ep = 30000\n",
    "\n",
    "# learning rate\n",
    "lr = 1\n",
    "mse = []"
   ]
  }
 ],
 "metadata": {
  "interpreter": {
   "hash": "68756eb6c044f31c46e3e1f38723aea1f0146198488dd3d60c0e4241eb6f7dd0"
  },
  "kernelspec": {
   "display_name": "Python 3.8.8 ('base')",
   "language": "python",
   "name": "python3"
  },
  "language_info": {
   "codemirror_mode": {
    "name": "ipython",
    "version": 3
   },
   "file_extension": ".py",
   "mimetype": "text/x-python",
   "name": "python",
   "nbconvert_exporter": "python",
   "pygments_lexer": "ipython3",
   "version": "3.8.8"
  },
  "orig_nbformat": 4
 },
 "nbformat": 4,
 "nbformat_minor": 2
}
