{
 "cells": [
  {
   "cell_type": "markdown",
   "metadata": {},
   "source": [
    "## Back Propagation"
   ]
  },
  {
   "cell_type": "code",
   "execution_count": 1,
   "metadata": {},
   "outputs": [],
   "source": [
    "import numpy as np\n",
    "import matplotlib.pyplot as plt"
   ]
  },
  {
   "cell_type": "code",
   "execution_count": 2,
   "metadata": {},
   "outputs": [],
   "source": [
    "# train data (XOR Problem) = eXclusive OR Problem\n",
    "x = np.array([[0,0], [0,1], [1,0], [1,1]])\n",
    "y = np.array([0,1,1,0])"
   ]
  },
  {
   "cell_type": "code",
   "execution_count": 3,
   "metadata": {},
   "outputs": [
    {
     "name": "stdout",
     "output_type": "stream",
     "text": [
      "w1 : [[ 0.80732906 -0.68567596]\n",
      " [ 0.15590709 -0.49771381]]\n",
      "w2 : [[-0.10783535  1.04962079]]\n"
     ]
    }
   ],
   "source": [
    "print('w1 :', np.random.randn(2,2))\n",
    "print('w2 :', np.random.randn(1,2))"
   ]
  },
  {
   "cell_type": "code",
   "execution_count": 4,
   "metadata": {},
   "outputs": [],
   "source": [
    "# initialization\n",
    "np.random.seed(2022)\n",
    "\n",
    "# input - hidden layer\n",
    "w1 = np.random.randn(2,2)\n",
    "b1 = np.random.randn(1,2)\n",
    "\n",
    "# hidden - output layer\n",
    "w2 = np.random.randn(1,2)\n",
    "b2 = np.random.randn(1)\n",
    "\n",
    "# epoch\n",
    "ep = 30000\n",
    "\n",
    "# learning rate\n",
    "lr = 1\n",
    "mse = []"
   ]
  },
  {
   "cell_type": "code",
   "execution_count": 6,
   "metadata": {},
   "outputs": [
    {
     "name": "stdout",
     "output_type": "stream",
     "text": [
      "전체 샘플에 대한 반복 학습 횟수:  30000\n",
      "첫 번째 층 가중치 및 편향: \n",
      " [[-5.27899086e-04 -2.74901425e-01]\n",
      " [-1.39285562e-01  1.98468616e+00]] \n",
      " [[0.28210933 0.76080866]]\n",
      "두 번째 층 가중치 및 편향: \n",
      " [[0.30098161 0.54029727]] \n",
      " [0.37349729]\n"
     ]
    }
   ],
   "source": [
    "print('전체 샘플에 대한 반복 학습 횟수: ', ep)\n",
    "# w11, w12, w21, w22, b1, b2\n",
    "print('첫 번째 층 가중치 및 편향: \\n', w1, '\\n',b1)\n",
    "# w31, w32, b3\n",
    "print('두 번째 층 가중치 및 편향: \\n', w2, '\\n',b2)"
   ]
  },
  {
   "cell_type": "code",
   "execution_count": 7,
   "metadata": {},
   "outputs": [
    {
     "data": {
      "text/plain": [
       "0.5700632772129338"
      ]
     },
     "execution_count": 7,
     "metadata": {},
     "output_type": "execute_result"
    }
   ],
   "source": [
    "1 / (1 + np.exp(-(np.sum(x[0] * w1[0]) + b1[0][0])))"
   ]
  },
  {
   "cell_type": "code",
   "execution_count": 9,
   "metadata": {},
   "outputs": [
    {
     "data": {
      "text/plain": [
       "(array([0, 0]), array([-0.0005279 , -0.27490142]), 0.2821093257715091)"
      ]
     },
     "execution_count": 9,
     "metadata": {},
     "output_type": "execute_result"
    }
   ],
   "source": [
    "x[0], w1[0], b1[0][0]"
   ]
  },
  {
   "cell_type": "code",
   "execution_count": 10,
   "metadata": {},
   "outputs": [
    {
     "name": "stdout",
     "output_type": "stream",
     "text": [
      "Epoch: 00000 MSE: 0.313580 Results: 0 0 => 0.713676 0 1 => 0.679236 1 0 => 0.683284 1 1 => 0.736062\n",
      "Epoch: 01000 MSE: 0.031011 Results: 0 0 => 0.234844 0 1 => 0.806471 1 0 => 0.840670 1 1 => 0.077806\n",
      "Epoch: 02000 MSE: 0.004609 Results: 0 0 => 0.092626 0 1 => 0.927843 1 0 => 0.934087 1 1 => 0.017508\n",
      "Epoch: 03000 MSE: 0.002607 Results: 0 0 => 0.069890 0 1 => 0.946316 1 0 => 0.949595 1 1 => 0.010963\n",
      "Epoch: 04000 MSE: 0.001921 Results: 0 0 => 0.060074 0 1 => 0.954356 1 0 => 0.956193 1 1 => 0.008423\n",
      "Epoch: 05000 MSE: 0.001603 Results: 0 0 => 0.054917 0 1 => 0.958721 1 0 => 0.959503 1 1 => 0.007140\n",
      "Epoch: 06000 MSE: 0.001456 Results: 0 0 => 0.052352 0 1 => 0.961122 1 0 => 0.960909 1 1 => 0.006483\n",
      "Epoch: 07000 MSE: 0.001431 Results: 0 0 => 0.051902 0 1 => 0.962036 1 0 => 0.960649 1 1 => 0.006292\n",
      "Epoch: 08000 MSE: 0.001566 Results: 0 0 => 0.054277 0 1 => 0.961157 1 0 => 0.957985 1 1 => 0.006723\n",
      "Epoch: 09000 MSE: 0.002197 Results: 0 0 => 0.064168 0 1 => 0.955921 1 0 => 0.948560 1 1 => 0.009115\n",
      "Epoch: 10000 MSE: 0.009795 Results: 0 0 => 0.131592 0 1 => 0.916119 1 0 => 0.886178 1 1 => 0.043247\n",
      "Epoch: 11000 MSE: 0.006043 Results: 0 0 => 0.103092 0 1 => 0.934469 1 0 => 0.910170 1 1 => 0.034349\n",
      "Epoch: 12000 MSE: 0.004133 Results: 0 0 => 0.085252 0 1 => 0.945947 1 0 => 0.925471 1 1 => 0.028099\n",
      "Epoch: 13000 MSE: 0.003095 Results: 0 0 => 0.073770 0 1 => 0.953294 1 0 => 0.935392 1 1 => 0.024110\n",
      "Epoch: 14000 MSE: 0.002452 Results: 0 0 => 0.065674 0 1 => 0.958460 1 0 => 0.942418 1 1 => 0.021317\n",
      "Epoch: 15000 MSE: 0.002020 Results: 0 0 => 0.059608 0 1 => 0.962323 1 0 => 0.947697 1 1 => 0.019237\n",
      "Epoch: 16000 MSE: 0.001710 Results: 0 0 => 0.054863 0 1 => 0.965340 1 0 => 0.951834 1 1 => 0.017618\n",
      "Epoch: 17000 MSE: 0.001479 Results: 0 0 => 0.051031 0 1 => 0.967775 1 0 => 0.955180 1 1 => 0.016317\n",
      "Epoch: 18000 MSE: 0.001301 Results: 0 0 => 0.047857 0 1 => 0.969790 1 0 => 0.957954 1 1 => 0.015243\n",
      "Epoch: 19000 MSE: 0.001159 Results: 0 0 => 0.045177 0 1 => 0.971491 1 0 => 0.960298 1 1 => 0.014340\n",
      "Epoch: 20000 MSE: 0.001044 Results: 0 0 => 0.042877 0 1 => 0.972950 1 0 => 0.962312 1 1 => 0.013568\n",
      "Epoch: 21000 MSE: 0.000948 Results: 0 0 => 0.040876 0 1 => 0.974218 1 0 => 0.964064 1 1 => 0.012899\n",
      "Epoch: 22000 MSE: 0.000868 Results: 0 0 => 0.039117 0 1 => 0.975333 1 0 => 0.965606 1 1 => 0.012311\n",
      "Epoch: 23000 MSE: 0.000800 Results: 0 0 => 0.037554 0 1 => 0.976323 1 0 => 0.966976 1 1 => 0.011791\n",
      "Epoch: 24000 MSE: 0.000741 Results: 0 0 => 0.036155 0 1 => 0.977209 1 0 => 0.968203 1 1 => 0.011327\n",
      "Epoch: 25000 MSE: 0.000691 Results: 0 0 => 0.034893 0 1 => 0.978008 1 0 => 0.969310 1 1 => 0.010909\n",
      "Epoch: 26000 MSE: 0.000646 Results: 0 0 => 0.033748 0 1 => 0.978733 1 0 => 0.970315 1 1 => 0.010531\n",
      "Epoch: 27000 MSE: 0.000606 Results: 0 0 => 0.032703 0 1 => 0.979395 1 0 => 0.971232 1 1 => 0.010186\n",
      "Epoch: 28000 MSE: 0.000571 Results: 0 0 => 0.031745 0 1 => 0.980001 1 0 => 0.972074 1 1 => 0.009870\n",
      "Epoch: 29000 MSE: 0.000540 Results: 0 0 => 0.030861 0 1 => 0.980560 1 0 => 0.972849 1 1 => 0.009580\n",
      "업데이트 된 첫 번째 층 가중치 및 편향: \n",
      " [[-1.47747934  2.67435028]\n",
      " [-1.61623701  4.93393786]] \n",
      " [[-2.1468363   1.13978658]]\n",
      "업데이트 된 두 번째 층 가중치 및 편향: \n",
      " [[ 25.30260156 -24.27970807]] \n",
      " [12.27337614]\n",
      "두번째 층 편미분 값(Output - Hidden): [-8.59168608e-05]\n",
      "첫번째 층 편미분 값(Hidden - Input): [[-4.37364522e-04  2.36201307e-05]]\n",
      "예측치와 실제값의 차이: [-0.03004525  0.01892374  0.02643414 -0.0093126 ]\n"
     ]
    }
   ],
   "source": [
    "# Neural Network 2-2-1\n",
    "for i in range(ep):\n",
    "    E, result = np.array([]), np.array([])\n",
    "\n",
    "    for j in range(len(x)):\n",
    "        Ha = np.array([])\n",
    "\n",
    "        # Feed Forward\n",
    "        # Input - Hidden layer\n",
    "        for k in range(len(w1)):\n",
    "            Ha = np.append(Ha, 1 / (1 + np.exp(-(np.sum(x[j] * w1[k]) + b1[0][k]))))\n",
    "        \n",
    "        # Hidden - Output layer\n",
    "        Hb = 1 / (1 + np.exp(-(np.sum(Ha * w2) + b2)))\n",
    "        result = np.append(result, Hb)\n",
    "\n",
    "        # Error\n",
    "        E = np.append(E, y[j] - Hb)\n",
    "\n",
    "        # Back-Propagation\n",
    "        # Output - Hidden layer\n",
    "        alpha_2 = E[j] * Hb * (1-Hb)\n",
    "\n",
    "        # Hidden - Input Layer\n",
    "        alpha_1 = alpha_2 * Ha * (1-Ha) * w2\n",
    "\n",
    "        # update\n",
    "        w2 = w2 + lr * alpha_2 * Ha\n",
    "        b2 = b2 + lr * alpha_2\n",
    "\n",
    "        w1 = w1 + np.ones((2,2)) * lr * alpha_1 * x[j]\n",
    "        b1 = b1 + lr * alpha_1\n",
    "\n",
    "    if i % 1000 == 0:    \n",
    "        print('Epoch: %05d MSE: %04f Results: 0 0 => %04f 0 1 => %04f 1 0 => %04f 1 1 => %04f'\n",
    "              %(i, np.mean(E**2), result[0], result[1], result[2], result[3]))   \n",
    "    mse.append(np.mean(E**2))\n",
    "\n",
    "# w11, w12, w21, w22, b1, b2\n",
    "print('업데이트 된 첫 번째 층 가중치 및 편향: \\n', w1, '\\n',b1)\n",
    "# w31, w32, b3\n",
    "print('업데이트 된 두 번째 층 가중치 및 편향: \\n', w2, '\\n',b2)\n",
    "# Ha = [x1 * w11 + x2 * w 21 + b1, x1 * w12 + x2 * w22 + b2] → 입력값과 가중치의 곱 + 편향 (가중합)의 시그모이드를 취한 형태\n",
    "# Hb = 은닉층 노드의 출력값과 가중치의 곱 + 편향 (가중합)에 시그모이드를 취하는 형태\n",
    "print('두번째 층 편미분 값(Output - Hidden):', alpha_2)\n",
    "print('첫번째 층 편미분 값(Hidden - Input):', alpha_1)\n",
    "print('예측치와 실제값의 차이:', E)"
   ]
  },
  {
   "cell_type": "code",
   "execution_count": 11,
   "metadata": {},
   "outputs": [
    {
     "name": "stdout",
     "output_type": "stream",
     "text": [
      "[0 0] 0.030044465011329166\n",
      "[0 1] 0.9813362172279351\n",
      "[1 0] 0.974150473363246\n",
      "[1 1] 0.009272082156487817\n"
     ]
    }
   ],
   "source": [
    "# 검증\n",
    "for j in range(len(x)):\n",
    "    Ha = np.array([])\n",
    "\n",
    "    # Feed Forward\n",
    "    # Input - Hidden Layer\n",
    "    for k in range(len(w1)):\n",
    "        Ha = np.append(Ha, 1 / (1 + np.exp(-(np.sum(x[j] * w1[k]) + b1[0][k]))))\n",
    "\n",
    "    # Hidden - Output Layer\n",
    "    Hb = 1 / (1 + np.exp(-(np.sum(Ha * w2) + b2)))\n",
    "    print(x[j], Hb[0])"
   ]
  },
  {
   "cell_type": "code",
   "execution_count": 12,
   "metadata": {},
   "outputs": [
    {
     "data": {
      "image/png": "[encoded data removed]",
      "text/plain": [
       "<Figure size 432x288 with 1 Axes>"
      ]
     },
     "metadata": {
      "needs_background": "light"
     },
     "output_type": "display_data"
    }
   ],
   "source": [
    "# MSE\n",
    "plt.xlabel('Epoch')\n",
    "plt.ylabel('MSE')\n",
    "plt.title('MLP Training')\n",
    "plt.plot(mse)\n",
    "plt.show()"
   ]
  }
 ],
 "metadata": {
  "interpreter": {
   "hash": "68756eb6c044f31c46e3e1f38723aea1f0146198488dd3d60c0e4241eb6f7dd0"
  },
  "kernelspec": {
   "display_name": "Python 3.8.8 ('base')",
   "language": "python",
   "name": "python3"
  },
  "language_info": {
   "codemirror_mode": {
    "name": "ipython",
    "version": 3
   },
   "file_extension": ".py",
   "mimetype": "text/x-python",
   "name": "python",
   "nbconvert_exporter": "python",
   "pygments_lexer": "ipython3",
   "version": "3.9.12"
  },
  "orig_nbformat": 4
 },
 "nbformat": 4,
 "nbformat_minor": 2
}
