{
 "cells": [
  {
   "cell_type": "markdown",
   "metadata": {},
   "source": [
    "## MNIST Datasets - CNN v1\n",
    "- 2 x Conv2D layers\n",
    "- 1 FCN layer\n",
    "- 1 Output layer"
   ]
  },
  {
   "cell_type": "code",
   "execution_count": 2,
   "metadata": {},
   "outputs": [],
   "source": [
    "import numpy as np\n",
    "import matplotlib.pyplot as plt\n",
    "import tensorflow as tf\n",
    "\n",
    "seed = 2022\n",
    "np.random.seed(seed)\n",
    "tf.random.set_seed(seed)"
   ]
  },
  {
   "cell_type": "code",
   "execution_count": 3,
   "metadata": {},
   "outputs": [
    {
     "data": {
      "text/plain": [
       "((60000, 28, 28), (60000,), (10000, 28, 28), (10000,))"
      ]
     },
     "execution_count": 3,
     "metadata": {},
     "output_type": "execute_result"
    }
   ],
   "source": [
    "from tensorflow.keras.datasets import mnist\n",
    "(X_train, y_train), (X_test, y_test) = mnist.load_data()\n",
    "X_train.shape, y_train.shape, X_test.shape, y_test.shape"
   ]
  },
  {
   "cell_type": "code",
   "execution_count": 4,
   "metadata": {},
   "outputs": [
    {
     "data": {
      "text/plain": [
       "((60000, 28, 28, 1), (10000, 28, 28, 1))"
      ]
     },
     "execution_count": 4,
     "metadata": {},
     "output_type": "execute_result"
    }
   ],
   "source": [
    "# X_train, X_test 정규화(0 ~ 1), 이미지 차원 변경: 2차원 --> 3차원\n",
    "X_train = X_train.reshape(-1, 28, 28, 1) / 255.\n",
    "X_test = X_test.reshape(-1, 28, 28, 1) / 255.\n",
    "X_train.shape, X_test.shape"
   ]
  },
  {
   "cell_type": "code",
   "execution_count": 5,
   "metadata": {},
   "outputs": [
    {
     "data": {
      "text/plain": [
       "((60000, 10), (10000, 10))"
      ]
     },
     "execution_count": 5,
     "metadata": {},
     "output_type": "execute_result"
    }
   ],
   "source": [
    "# One hot encoding\n",
    "from tensorflow.keras.utils import to_categorical\n",
    "Y_train = to_categorical(y_train)\n",
    "Y_test = to_categorical(y_test)\n",
    "Y_train.shape, Y_test.shape"
   ]
  },
  {
   "cell_type": "code",
   "execution_count": 6,
   "metadata": {},
   "outputs": [
    {
     "name": "stdout",
     "output_type": "stream",
     "text": [
      "Model: \"sequential\"\n",
      "_________________________________________________________________\n",
      " Layer (type)                Output Shape              Param #   \n",
      "=================================================================\n",
      " conv2d (Conv2D)             (None, 26, 26, 32)        320       \n",
      "                                                                 \n",
      " conv2d_1 (Conv2D)           (None, 24, 24, 64)        18496     \n",
      "                                                                 \n",
      " flatten (Flatten)           (None, 36864)             0         \n",
      "                                                                 \n",
      " dense (Dense)               (None, 512)               18874880  \n",
      "                                                                 \n",
      " dense_1 (Dense)             (None, 10)                5130      \n",
      "                                                                 \n",
      "=================================================================\n",
      "Total params: 18,898,826\n",
      "Trainable params: 18,898,826\n",
      "Non-trainable params: 0\n",
      "_________________________________________________________________\n"
     ]
    }
   ],
   "source": [
    "from tensorflow.keras.models import Sequential, load_model\n",
    "from tensorflow.keras.layers import Dense, Conv2D, Flatten\n",
    "from tensorflow.keras.callbacks import ModelCheckpoint, EarlyStopping\n",
    "model = Sequential([\n",
    "    Conv2D(32, kernel_size=(3,3), input_shape=(28,28,1), activation='relu'),\n",
    "    Conv2D(64, (3,3), activation='relu'),\n",
    "    Flatten(),\n",
    "    Dense(512, activation='relu'),\n",
    "    Dense(10, activation='softmax')\n",
    "])\n",
    "model.summary()"
   ]
  },
  {
   "cell_type": "code",
   "execution_count": 7,
   "metadata": {},
   "outputs": [],
   "source": [
    "model.compile('adam', 'categorical_crossentropy', ['accuracy'])"
   ]
  },
  {
   "cell_type": "code",
   "execution_count": 8,
   "metadata": {},
   "outputs": [],
   "source": [
    "model_path = './models/best-mnist-cnn-v1.h5'\n",
    "mc = ModelCheckpoint(model_path, save_best_only=True, verbose=1)\n",
    "es = EarlyStopping(patience=10)"
   ]
  },
  {
   "cell_type": "code",
   "execution_count": 9,
   "metadata": {},
   "outputs": [
    {
     "name": "stdout",
     "output_type": "stream",
     "text": [
      "Epoch 1/100\n",
      "236/240 [============================>.] - ETA: 0s - loss: 0.1537 - accuracy: 0.9528\n",
      "Epoch 00001: val_loss improved from inf to 0.05669, saving model to ./models\\best-mnist-cnn-v1.h5\n",
      "240/240 [==============================] - 11s 14ms/step - loss: 0.1521 - accuracy: 0.9532 - val_loss: 0.0567 - val_accuracy: 0.9833\n",
      "Epoch 2/100\n",
      "239/240 [============================>.] - ETA: 0s - loss: 0.0355 - accuracy: 0.9892\n",
      "Epoch 00002: val_loss improved from 0.05669 to 0.05386, saving model to ./models\\best-mnist-cnn-v1.h5\n",
      "240/240 [==============================] - 3s 12ms/step - loss: 0.0355 - accuracy: 0.9892 - val_loss: 0.0539 - val_accuracy: 0.9858\n",
      "Epoch 3/100\n",
      "239/240 [============================>.] - ETA: 0s - loss: 0.0179 - accuracy: 0.9944\n",
      "Epoch 00003: val_loss improved from 0.05386 to 0.04580, saving model to ./models\\best-mnist-cnn-v1.h5\n",
      "240/240 [==============================] - 3s 12ms/step - loss: 0.0179 - accuracy: 0.9944 - val_loss: 0.0458 - val_accuracy: 0.9874\n",
      "Epoch 4/100\n",
      "239/240 [============================>.] - ETA: 0s - loss: 0.0106 - accuracy: 0.9964\n",
      "Epoch 00004: val_loss did not improve from 0.04580\n",
      "240/240 [==============================] - 3s 11ms/step - loss: 0.0106 - accuracy: 0.9964 - val_loss: 0.0506 - val_accuracy: 0.9860\n",
      "Epoch 5/100\n",
      "239/240 [============================>.] - ETA: 0s - loss: 0.0067 - accuracy: 0.9980\n",
      "Epoch 00005: val_loss did not improve from 0.04580\n",
      "240/240 [==============================] - 3s 11ms/step - loss: 0.0067 - accuracy: 0.9980 - val_loss: 0.0711 - val_accuracy: 0.9837\n",
      "Epoch 6/100\n",
      "240/240 [==============================] - ETA: 0s - loss: 0.0069 - accuracy: 0.9979\n",
      "Epoch 00006: val_loss did not improve from 0.04580\n",
      "240/240 [==============================] - 3s 11ms/step - loss: 0.0069 - accuracy: 0.9979 - val_loss: 0.0492 - val_accuracy: 0.9877\n",
      "Epoch 7/100\n",
      "237/240 [============================>.] - ETA: 0s - loss: 0.0050 - accuracy: 0.9986\n",
      "Epoch 00007: val_loss did not improve from 0.04580\n",
      "240/240 [==============================] - 3s 11ms/step - loss: 0.0049 - accuracy: 0.9986 - val_loss: 0.0588 - val_accuracy: 0.9881\n",
      "Epoch 8/100\n",
      "236/240 [============================>.] - ETA: 0s - loss: 0.0040 - accuracy: 0.9987\n",
      "Epoch 00008: val_loss did not improve from 0.04580\n",
      "240/240 [==============================] - 3s 11ms/step - loss: 0.0041 - accuracy: 0.9987 - val_loss: 0.0495 - val_accuracy: 0.9891\n",
      "Epoch 9/100\n",
      "240/240 [==============================] - ETA: 0s - loss: 0.0048 - accuracy: 0.9984\n",
      "Epoch 00009: val_loss did not improve from 0.04580\n",
      "240/240 [==============================] - 3s 11ms/step - loss: 0.0048 - accuracy: 0.9984 - val_loss: 0.0640 - val_accuracy: 0.9849\n",
      "Epoch 10/100\n",
      "240/240 [==============================] - ETA: 0s - loss: 0.0030 - accuracy: 0.9991\n",
      "Epoch 00010: val_loss did not improve from 0.04580\n",
      "240/240 [==============================] - 3s 11ms/step - loss: 0.0030 - accuracy: 0.9991 - val_loss: 0.0692 - val_accuracy: 0.9853\n",
      "Epoch 11/100\n",
      "237/240 [============================>.] - ETA: 0s - loss: 0.0041 - accuracy: 0.9985\n",
      "Epoch 00011: val_loss did not improve from 0.04580\n",
      "240/240 [==============================] - 3s 12ms/step - loss: 0.0041 - accuracy: 0.9986 - val_loss: 0.0693 - val_accuracy: 0.9870\n",
      "Epoch 12/100\n",
      "236/240 [============================>.] - ETA: 0s - loss: 0.0016 - accuracy: 0.9994\n",
      "Epoch 00012: val_loss did not improve from 0.04580\n",
      "240/240 [==============================] - 3s 12ms/step - loss: 0.0017 - accuracy: 0.9994 - val_loss: 0.0563 - val_accuracy: 0.9893\n",
      "Epoch 13/100\n",
      "237/240 [============================>.] - ETA: 0s - loss: 7.0337e-04 - accuracy: 0.9999\n",
      "Epoch 00013: val_loss did not improve from 0.04580\n",
      "240/240 [==============================] - 3s 11ms/step - loss: 7.1303e-04 - accuracy: 0.9999 - val_loss: 0.0595 - val_accuracy: 0.9897\n"
     ]
    }
   ],
   "source": [
    "hist = model.fit(\n",
    "    X_train, Y_train, validation_split=0.2, epochs=100, batch_size=200,\n",
    "    callbacks=[mc, es]\n",
    ")"
   ]
  },
  {
   "cell_type": "code",
   "execution_count": 10,
   "metadata": {},
   "outputs": [
    {
     "name": "stdout",
     "output_type": "stream",
     "text": [
      "313/313 [==============================] - 1s 2ms/step - loss: 0.0430 - accuracy: 0.9871\n"
     ]
    },
    {
     "data": {
      "text/plain": [
       "[0.0429680272936821, 0.9871000051498413]"
      ]
     },
     "execution_count": 10,
     "metadata": {},
     "output_type": "execute_result"
    }
   ],
   "source": [
    "best_model = load_model(model_path)\n",
    "best_model.evaluate(X_test, Y_test)"
   ]
  },
  {
   "cell_type": "code",
   "execution_count": 11,
   "metadata": {},
   "outputs": [],
   "source": [
    "y_acc = hist.history['accuracy']\n",
    "y_vloss = hist.history['val_loss']\n",
    "xs = np.arange(1, len(y_acc)+1)"
   ]
  },
  {
   "cell_type": "code",
   "execution_count": 12,
   "metadata": {},
   "outputs": [
    {
     "data": {
      "image/png": "[encoded data removed]",
      "text/plain": [
       "<Figure size 864x576 with 1 Axes>"
      ]
     },
     "metadata": {
      "needs_background": "light"
     },
     "output_type": "display_data"
    }
   ],
   "source": [
    "plt.figure(figsize=(12,8))\n",
    "plt.plot(xs, y_acc, label='train accuracy')\n",
    "plt.plot(xs, y_vloss, label='validation loss')\n",
    "plt.legend(), plt.grid()\n",
    "plt.xlabel('Epoch')\n",
    "plt.title('MNIST CNN model v1')\n",
    "plt.show()"
   ]
  },
  {
   "cell_type": "markdown",
   "metadata": {},
   "source": [
    "## MNIST Datasets - CNN v2\n",
    "- 2 x Conv2D layers\n",
    "- 1 MaxPooling2D layer\n",
    "- 1 FCN layer\n",
    "- 1 Output layer"
   ]
  },
  {
   "cell_type": "code",
   "execution_count": 13,
   "metadata": {},
   "outputs": [
    {
     "name": "stdout",
     "output_type": "stream",
     "text": [
      "Model: \"sequential_1\"\n",
      "_________________________________________________________________\n",
      " Layer (type)                Output Shape              Param #   \n",
      "=================================================================\n",
      " conv2d_2 (Conv2D)           (None, 26, 26, 32)        320       \n",
      "                                                                 \n",
      " conv2d_3 (Conv2D)           (None, 24, 24, 64)        18496     \n",
      "                                                                 \n",
      " max_pooling2d (MaxPooling2D  (None, 12, 12, 64)       0         \n",
      " )                                                               \n",
      "                                                                 \n",
      " flatten_1 (Flatten)         (None, 9216)              0         \n",
      "                                                                 \n",
      " dense_2 (Dense)             (None, 512)               4719104   \n",
      "                                                                 \n",
      " dense_3 (Dense)             (None, 10)                5130      \n",
      "                                                                 \n",
      "=================================================================\n",
      "Total params: 4,743,050\n",
      "Trainable params: 4,743,050\n",
      "Non-trainable params: 0\n",
      "_________________________________________________________________\n"
     ]
    }
   ],
   "source": [
    "from tensorflow.keras.models import Sequential, load_model\n",
    "from tensorflow.keras.layers import Dense, Conv2D, Flatten, MaxPooling2D\n",
    "from tensorflow.keras.callbacks import ModelCheckpoint, EarlyStopping\n",
    "\n",
    "model = Sequential([\n",
    "    Conv2D(32, kernel_size=(3,3), input_shape=(28,28,1), activation='relu'),\n",
    "    Conv2D(64, (3,3), activation='relu'),\n",
    "    MaxPooling2D(),                         # MaxPooling2D(pool_size=(2,2))\n",
    "    Flatten(),\n",
    "    Dense(512, activation='relu'),\n",
    "    Dense(10, activation='softmax')\n",
    "])\n",
    "model.summary()"
   ]
  },
  {
   "cell_type": "code",
   "execution_count": 14,
   "metadata": {},
   "outputs": [],
   "source": [
    "model.compile('adam', 'categorical_crossentropy', ['accuracy'])"
   ]
  },
  {
   "cell_type": "code",
   "execution_count": 15,
   "metadata": {},
   "outputs": [],
   "source": [
    "model_path = './models/best-mnist-cnn-v2.h5'\n",
    "mc = ModelCheckpoint(model_path, save_best_only=True, verbose=1)\n",
    "es = EarlyStopping(patience=10)"
   ]
  },
  {
   "cell_type": "code",
   "execution_count": 16,
   "metadata": {},
   "outputs": [
    {
     "name": "stdout",
     "output_type": "stream",
     "text": [
      "Epoch 1/100\n",
      "238/240 [============================>.] - ETA: 0s - loss: 0.1923 - accuracy: 0.9424\n",
      "Epoch 00001: val_loss improved from inf to 0.06221, saving model to ./models\\best-mnist-cnn-v2.h5\n",
      "240/240 [==============================] - 2s 8ms/step - loss: 0.1913 - accuracy: 0.9427 - val_loss: 0.0622 - val_accuracy: 0.9815\n",
      "Epoch 2/100\n",
      "240/240 [==============================] - ETA: 0s - loss: 0.0449 - accuracy: 0.9859\n",
      "Epoch 00002: val_loss improved from 0.06221 to 0.05448, saving model to ./models\\best-mnist-cnn-v2.h5\n",
      "240/240 [==============================] - 2s 8ms/step - loss: 0.0449 - accuracy: 0.9859 - val_loss: 0.0545 - val_accuracy: 0.9850\n",
      "Epoch 3/100\n",
      "233/240 [============================>.] - ETA: 0s - loss: 0.0259 - accuracy: 0.9918\n",
      "Epoch 00003: val_loss improved from 0.05448 to 0.04065, saving model to ./models\\best-mnist-cnn-v2.h5\n",
      "240/240 [==============================] - 2s 8ms/step - loss: 0.0257 - accuracy: 0.9918 - val_loss: 0.0407 - val_accuracy: 0.9882\n",
      "Epoch 4/100\n",
      "240/240 [==============================] - ETA: 0s - loss: 0.0169 - accuracy: 0.9945\n",
      "Epoch 00004: val_loss did not improve from 0.04065\n",
      "240/240 [==============================] - 2s 7ms/step - loss: 0.0169 - accuracy: 0.9945 - val_loss: 0.0458 - val_accuracy: 0.9864\n",
      "Epoch 5/100\n",
      "233/240 [============================>.] - ETA: 0s - loss: 0.0113 - accuracy: 0.9965\n",
      "Epoch 00005: val_loss did not improve from 0.04065\n",
      "240/240 [==============================] - 2s 7ms/step - loss: 0.0112 - accuracy: 0.9965 - val_loss: 0.0478 - val_accuracy: 0.9873\n",
      "Epoch 6/100\n",
      "233/240 [============================>.] - ETA: 0s - loss: 0.0080 - accuracy: 0.9974\n",
      "Epoch 00006: val_loss improved from 0.04065 to 0.03901, saving model to ./models\\best-mnist-cnn-v2.h5\n",
      "240/240 [==============================] - 2s 8ms/step - loss: 0.0083 - accuracy: 0.9974 - val_loss: 0.0390 - val_accuracy: 0.9898\n",
      "Epoch 7/100\n",
      "236/240 [============================>.] - ETA: 0s - loss: 0.0062 - accuracy: 0.9981\n",
      "Epoch 00007: val_loss did not improve from 0.03901\n",
      "240/240 [==============================] - 2s 7ms/step - loss: 0.0062 - accuracy: 0.9981 - val_loss: 0.0625 - val_accuracy: 0.9846\n",
      "Epoch 8/100\n",
      "235/240 [============================>.] - ETA: 0s - loss: 0.0061 - accuracy: 0.9977\n",
      "Epoch 00008: val_loss did not improve from 0.03901\n",
      "240/240 [==============================] - 2s 7ms/step - loss: 0.0062 - accuracy: 0.9976 - val_loss: 0.0454 - val_accuracy: 0.9907\n",
      "Epoch 9/100\n",
      "238/240 [============================>.] - ETA: 0s - loss: 0.0058 - accuracy: 0.9982\n",
      "Epoch 00009: val_loss did not improve from 0.03901\n",
      "240/240 [==============================] - 2s 7ms/step - loss: 0.0057 - accuracy: 0.9983 - val_loss: 0.0527 - val_accuracy: 0.9883\n",
      "Epoch 10/100\n",
      "234/240 [============================>.] - ETA: 0s - loss: 0.0040 - accuracy: 0.9988\n",
      "Epoch 00010: val_loss did not improve from 0.03901\n",
      "240/240 [==============================] - 2s 7ms/step - loss: 0.0040 - accuracy: 0.9988 - val_loss: 0.0472 - val_accuracy: 0.9906\n",
      "Epoch 11/100\n",
      "237/240 [============================>.] - ETA: 0s - loss: 0.0029 - accuracy: 0.9992\n",
      "Epoch 00011: val_loss did not improve from 0.03901\n",
      "240/240 [==============================] - 2s 7ms/step - loss: 0.0029 - accuracy: 0.9991 - val_loss: 0.0589 - val_accuracy: 0.9890\n",
      "Epoch 12/100\n",
      "239/240 [============================>.] - ETA: 0s - loss: 0.0046 - accuracy: 0.9985\n",
      "Epoch 00012: val_loss did not improve from 0.03901\n",
      "240/240 [==============================] - 2s 7ms/step - loss: 0.0046 - accuracy: 0.9985 - val_loss: 0.0515 - val_accuracy: 0.9883\n",
      "Epoch 13/100\n",
      "235/240 [============================>.] - ETA: 0s - loss: 0.0040 - accuracy: 0.9987\n",
      "Epoch 00013: val_loss did not improve from 0.03901\n",
      "240/240 [==============================] - 2s 7ms/step - loss: 0.0039 - accuracy: 0.9988 - val_loss: 0.0532 - val_accuracy: 0.9900\n",
      "Epoch 14/100\n",
      "235/240 [============================>.] - ETA: 0s - loss: 0.0015 - accuracy: 0.9994\n",
      "Epoch 00014: val_loss did not improve from 0.03901\n",
      "240/240 [==============================] - 2s 7ms/step - loss: 0.0015 - accuracy: 0.9995 - val_loss: 0.0464 - val_accuracy: 0.9902\n",
      "Epoch 15/100\n",
      "232/240 [============================>.] - ETA: 0s - loss: 0.0023 - accuracy: 0.9993\n",
      "Epoch 00015: val_loss did not improve from 0.03901\n",
      "240/240 [==============================] - 2s 7ms/step - loss: 0.0029 - accuracy: 0.9991 - val_loss: 0.0725 - val_accuracy: 0.9848\n",
      "Epoch 16/100\n",
      "237/240 [============================>.] - ETA: 0s - loss: 0.0035 - accuracy: 0.9988\n",
      "Epoch 00016: val_loss did not improve from 0.03901\n",
      "240/240 [==============================] - 2s 7ms/step - loss: 0.0036 - accuracy: 0.9988 - val_loss: 0.0448 - val_accuracy: 0.9906\n"
     ]
    }
   ],
   "source": [
    "hist = model.fit(\n",
    "    X_train, Y_train, validation_split=0.2, epochs=100, batch_size=200,\n",
    "    callbacks=[mc, es]\n",
    ")"
   ]
  },
  {
   "cell_type": "code",
   "execution_count": 17,
   "metadata": {},
   "outputs": [
    {
     "name": "stdout",
     "output_type": "stream",
     "text": [
      "313/313 [==============================] - 1s 2ms/step - loss: 0.0315 - accuracy: 0.9902\n"
     ]
    },
    {
     "data": {
      "text/plain": [
       "[0.03146347776055336, 0.9901999831199646]"
      ]
     },
     "execution_count": 17,
     "metadata": {},
     "output_type": "execute_result"
    }
   ],
   "source": [
    "best_model = load_model(model_path)\n",
    "best_model.evaluate(X_test, Y_test)"
   ]
  },
  {
   "cell_type": "code",
   "execution_count": 18,
   "metadata": {},
   "outputs": [],
   "source": [
    "y_acc = hist.history['accuracy']\n",
    "y_vloss = hist.history['val_loss']\n",
    "xs = np.arange(1, len(y_acc)+1)"
   ]
  },
  {
   "cell_type": "code",
   "execution_count": 19,
   "metadata": {},
   "outputs": [
    {
     "data": {
      "image/png": "[encoded data removed]",
      "text/plain": [
       "<Figure size 864x576 with 1 Axes>"
      ]
     },
     "metadata": {
      "needs_background": "light"
     },
     "output_type": "display_data"
    }
   ],
   "source": [
    "plt.figure(figsize=(12,8))\n",
    "plt.plot(xs, y_acc, label='train accuracy')\n",
    "plt.plot(xs, y_vloss, label='validation loss')\n",
    "plt.legend(), plt.grid()\n",
    "plt.xlabel('Epoch')\n",
    "plt.title('MNIST CNN model v2')\n",
    "plt.show()"
   ]
  },
  {
   "cell_type": "markdown",
   "metadata": {},
   "source": [
    "## MNIST Datasets - CNN v3\n",
    "- 2 x Conv2D layers\n",
    "- 1 MaxPooling2D layer\n",
    "- 1 Dropout(0.25) layer\n",
    "- 1 FCN layer\n",
    "- 1 Dropout(0.5) layer\n",
    "- 1 Output layer"
   ]
  },
  {
   "cell_type": "code",
   "execution_count": 20,
   "metadata": {},
   "outputs": [],
   "source": [
    "import numpy as np\n",
    "import matplotlib.pyplot as plt\n",
    "import tensorflow as tf\n",
    "\n",
    "seed = 2022\n",
    "np.random.seed(seed)\n",
    "tf.random.set_seed(seed)"
   ]
  },
  {
   "cell_type": "code",
   "execution_count": 21,
   "metadata": {},
   "outputs": [
    {
     "name": "stdout",
     "output_type": "stream",
     "text": [
      "Model: \"sequential_2\"\n",
      "_________________________________________________________________\n",
      " Layer (type)                Output Shape              Param #   \n",
      "=================================================================\n",
      " conv2d_4 (Conv2D)           (None, 26, 26, 32)        320       \n",
      "                                                                 \n",
      " conv2d_5 (Conv2D)           (None, 24, 24, 64)        18496     \n",
      "                                                                 \n",
      " max_pooling2d_1 (MaxPooling  (None, 12, 12, 64)       0         \n",
      " 2D)                                                             \n",
      "                                                                 \n",
      " dropout (Dropout)           (None, 12, 12, 64)        0         \n",
      "                                                                 \n",
      " flatten_2 (Flatten)         (None, 9216)              0         \n",
      "                                                                 \n",
      " dense_4 (Dense)             (None, 512)               4719104   \n",
      "                                                                 \n",
      " dropout_1 (Dropout)         (None, 512)               0         \n",
      "                                                                 \n",
      " dense_5 (Dense)             (None, 10)                5130      \n",
      "                                                                 \n",
      "=================================================================\n",
      "Total params: 4,743,050\n",
      "Trainable params: 4,743,050\n",
      "Non-trainable params: 0\n",
      "_________________________________________________________________\n"
     ]
    }
   ],
   "source": [
    "from tensorflow.keras.models import Sequential, load_model\n",
    "from tensorflow.keras.layers import Dense, Conv2D, Flatten, MaxPooling2D, Dropout\n",
    "from tensorflow.keras.callbacks import ModelCheckpoint, EarlyStopping\n",
    "\n",
    "model = Sequential([\n",
    "    Conv2D(32, kernel_size=(3,3), input_shape=(28,28,1), activation='relu'),\n",
    "    Conv2D(64, (3,3), activation='relu'),\n",
    "    MaxPooling2D(),                         # MaxPooling2D(pool_size=(2,2))\n",
    "    Dropout(0.25),\n",
    "    Flatten(),\n",
    "    Dense(512, activation='relu'),\n",
    "    Dropout(0.5),\n",
    "    Dense(10, activation='softmax')\n",
    "])\n",
    "model.summary()"
   ]
  },
  {
   "cell_type": "code",
   "execution_count": 22,
   "metadata": {},
   "outputs": [],
   "source": [
    "model.compile('adam', 'categorical_crossentropy', ['accuracy'])"
   ]
  },
  {
   "cell_type": "code",
   "execution_count": 23,
   "metadata": {},
   "outputs": [],
   "source": [
    "model_path = './models/best-mnist-cnn-v3.h5'\n",
    "mc = ModelCheckpoint(model_path, save_best_only=True, verbose=1)\n",
    "es = EarlyStopping(patience=10)"
   ]
  },
  {
   "cell_type": "code",
   "execution_count": 24,
   "metadata": {},
   "outputs": [
    {
     "name": "stdout",
     "output_type": "stream",
     "text": [
      "Epoch 1/100\n",
      "240/240 [==============================] - ETA: 0s - loss: 0.2200 - accuracy: 0.9325\n",
      "Epoch 00001: val_loss improved from inf to 0.05639, saving model to ./models\\best-mnist-cnn-v3.h5\n",
      "240/240 [==============================] - 2s 8ms/step - loss: 0.2200 - accuracy: 0.9325 - val_loss: 0.0564 - val_accuracy: 0.9829\n",
      "Epoch 2/100\n",
      "238/240 [============================>.] - ETA: 0s - loss: 0.0622 - accuracy: 0.9811\n",
      "Epoch 00002: val_loss improved from 0.05639 to 0.04965, saving model to ./models\\best-mnist-cnn-v3.h5\n",
      "240/240 [==============================] - 2s 8ms/step - loss: 0.0621 - accuracy: 0.9811 - val_loss: 0.0497 - val_accuracy: 0.9852\n",
      "Epoch 3/100\n",
      "236/240 [============================>.] - ETA: 0s - loss: 0.0425 - accuracy: 0.9870\n",
      "Epoch 00003: val_loss improved from 0.04965 to 0.03875, saving model to ./models\\best-mnist-cnn-v3.h5\n",
      "240/240 [==============================] - 2s 8ms/step - loss: 0.0424 - accuracy: 0.9870 - val_loss: 0.0388 - val_accuracy: 0.9884\n",
      "Epoch 4/100\n",
      "236/240 [============================>.] - ETA: 0s - loss: 0.0341 - accuracy: 0.9889\n",
      "Epoch 00004: val_loss improved from 0.03875 to 0.03613, saving model to ./models\\best-mnist-cnn-v3.h5\n",
      "240/240 [==============================] - 2s 8ms/step - loss: 0.0341 - accuracy: 0.9889 - val_loss: 0.0361 - val_accuracy: 0.9896\n",
      "Epoch 5/100\n",
      "240/240 [==============================] - ETA: 0s - loss: 0.0271 - accuracy: 0.9912\n",
      "Epoch 00005: val_loss did not improve from 0.03613\n",
      "240/240 [==============================] - 2s 7ms/step - loss: 0.0271 - accuracy: 0.9912 - val_loss: 0.0404 - val_accuracy: 0.9892\n",
      "Epoch 6/100\n",
      "236/240 [============================>.] - ETA: 0s - loss: 0.0219 - accuracy: 0.9926\n",
      "Epoch 00006: val_loss improved from 0.03613 to 0.03399, saving model to ./models\\best-mnist-cnn-v3.h5\n",
      "240/240 [==============================] - 2s 8ms/step - loss: 0.0220 - accuracy: 0.9926 - val_loss: 0.0340 - val_accuracy: 0.9890\n",
      "Epoch 7/100\n",
      "238/240 [============================>.] - ETA: 0s - loss: 0.0190 - accuracy: 0.9941\n",
      "Epoch 00007: val_loss improved from 0.03399 to 0.03309, saving model to ./models\\best-mnist-cnn-v3.h5\n",
      "240/240 [==============================] - 2s 8ms/step - loss: 0.0188 - accuracy: 0.9941 - val_loss: 0.0331 - val_accuracy: 0.9911\n",
      "Epoch 8/100\n",
      "233/240 [============================>.] - ETA: 0s - loss: 0.0167 - accuracy: 0.9943\n",
      "Epoch 00008: val_loss did not improve from 0.03309\n",
      "240/240 [==============================] - 2s 7ms/step - loss: 0.0169 - accuracy: 0.9942 - val_loss: 0.0363 - val_accuracy: 0.9908\n",
      "Epoch 9/100\n",
      "234/240 [============================>.] - ETA: 0s - loss: 0.0162 - accuracy: 0.9944\n",
      "Epoch 00009: val_loss did not improve from 0.03309\n",
      "240/240 [==============================] - 2s 8ms/step - loss: 0.0161 - accuracy: 0.9945 - val_loss: 0.0354 - val_accuracy: 0.9902\n",
      "Epoch 10/100\n",
      "240/240 [==============================] - ETA: 0s - loss: 0.0134 - accuracy: 0.9955\n",
      "Epoch 00010: val_loss did not improve from 0.03309\n",
      "240/240 [==============================] - 2s 7ms/step - loss: 0.0134 - accuracy: 0.9955 - val_loss: 0.0370 - val_accuracy: 0.9895\n",
      "Epoch 11/100\n",
      "235/240 [============================>.] - ETA: 0s - loss: 0.0125 - accuracy: 0.9956\n",
      "Epoch 00011: val_loss did not improve from 0.03309\n",
      "240/240 [==============================] - 2s 8ms/step - loss: 0.0126 - accuracy: 0.9956 - val_loss: 0.0413 - val_accuracy: 0.9902\n",
      "Epoch 12/100\n",
      "237/240 [============================>.] - ETA: 0s - loss: 0.0107 - accuracy: 0.9962\n",
      "Epoch 00012: val_loss did not improve from 0.03309\n",
      "240/240 [==============================] - 2s 8ms/step - loss: 0.0107 - accuracy: 0.9962 - val_loss: 0.0389 - val_accuracy: 0.9906\n",
      "Epoch 13/100\n",
      "235/240 [============================>.] - ETA: 0s - loss: 0.0114 - accuracy: 0.9958\n",
      "Epoch 00013: val_loss did not improve from 0.03309\n",
      "240/240 [==============================] - 2s 8ms/step - loss: 0.0114 - accuracy: 0.9958 - val_loss: 0.0371 - val_accuracy: 0.9902\n",
      "Epoch 14/100\n",
      "239/240 [============================>.] - ETA: 0s - loss: 0.0108 - accuracy: 0.9962\n",
      "Epoch 00014: val_loss did not improve from 0.03309\n",
      "240/240 [==============================] - 2s 7ms/step - loss: 0.0108 - accuracy: 0.9962 - val_loss: 0.0372 - val_accuracy: 0.9901\n",
      "Epoch 15/100\n",
      "235/240 [============================>.] - ETA: 0s - loss: 0.0083 - accuracy: 0.9973\n",
      "Epoch 00015: val_loss did not improve from 0.03309\n",
      "240/240 [==============================] - 2s 8ms/step - loss: 0.0082 - accuracy: 0.9974 - val_loss: 0.0412 - val_accuracy: 0.9906\n",
      "Epoch 16/100\n",
      "237/240 [============================>.] - ETA: 0s - loss: 0.0084 - accuracy: 0.9971\n",
      "Epoch 00016: val_loss did not improve from 0.03309\n",
      "240/240 [==============================] - 2s 8ms/step - loss: 0.0084 - accuracy: 0.9971 - val_loss: 0.0386 - val_accuracy: 0.9909\n",
      "Epoch 17/100\n",
      "240/240 [==============================] - ETA: 0s - loss: 0.0070 - accuracy: 0.9975\n",
      "Epoch 00017: val_loss did not improve from 0.03309\n",
      "240/240 [==============================] - 2s 7ms/step - loss: 0.0070 - accuracy: 0.9975 - val_loss: 0.0456 - val_accuracy: 0.9912\n"
     ]
    }
   ],
   "source": [
    "hist = model.fit(\n",
    "    X_train, Y_train, validation_split=0.2, epochs=100, batch_size=200,\n",
    "    callbacks=[mc, es]\n",
    ")"
   ]
  },
  {
   "cell_type": "code",
   "execution_count": 25,
   "metadata": {},
   "outputs": [
    {
     "name": "stdout",
     "output_type": "stream",
     "text": [
      "313/313 [==============================] - 1s 2ms/step - loss: 0.0277 - accuracy: 0.9911\n"
     ]
    },
    {
     "data": {
      "text/plain": [
       "[0.027654193341732025, 0.991100013256073]"
      ]
     },
     "execution_count": 25,
     "metadata": {},
     "output_type": "execute_result"
    }
   ],
   "source": [
    "best_model = load_model(model_path)\n",
    "best_model.evaluate(X_test, Y_test)"
   ]
  },
  {
   "cell_type": "code",
   "execution_count": 26,
   "metadata": {},
   "outputs": [],
   "source": [
    "y_acc = hist.history['accuracy']\n",
    "y_vloss = hist.history['val_loss']\n",
    "xs = np.arange(1, len(y_acc)+1)"
   ]
  },
  {
   "cell_type": "code",
   "execution_count": 27,
   "metadata": {},
   "outputs": [
    {
     "data": {
      "image/png": "[encoded data removed]",
      "text/plain": [
       "<Figure size 864x576 with 1 Axes>"
      ]
     },
     "metadata": {
      "needs_background": "light"
     },
     "output_type": "display_data"
    }
   ],
   "source": [
    "plt.figure(figsize=(12,8))\n",
    "plt.plot(xs, y_acc, label='train accuracy')\n",
    "plt.plot(xs, y_vloss, label='validation loss')\n",
    "plt.legend(), plt.grid()\n",
    "plt.xlabel('Epoch')\n",
    "plt.title('MNIST CNN model v3')\n",
    "plt.show()"
   ]
  }
 ],
 "metadata": {
  "interpreter": {
   "hash": "68756eb6c044f31c46e3e1f38723aea1f0146198488dd3d60c0e4241eb6f7dd0"
  },
  "kernelspec": {
   "display_name": "Python 3.8.8 ('base')",
   "language": "python",
   "name": "python3"
  },
  "language_info": {
   "codemirror_mode": {
    "name": "ipython",
    "version": 3
   },
   "file_extension": ".py",
   "mimetype": "text/x-python",
   "name": "python",
   "nbconvert_exporter": "python",
   "pygments_lexer": "ipython3",
   "version": "3.9.12"
  },
  "orig_nbformat": 4
 },
 "nbformat": 4,
 "nbformat_minor": 2
}
