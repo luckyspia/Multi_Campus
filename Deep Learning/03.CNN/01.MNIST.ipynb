{
 "cells": [
  {
   "cell_type": "markdown",
   "metadata": {},
   "source": [
    "## MNIST Datasets"
   ]
  },
  {
   "cell_type": "code",
   "execution_count": 2,
   "metadata": {},
   "outputs": [
    {
     "ename": "TypeError",
     "evalue": "bases must be types",
     "output_type": "error",
     "traceback": [
      "\u001b[1;31m---------------------------------------------------------------------------\u001b[0m",
      "\u001b[1;31mTypeError\u001b[0m                                 Traceback (most recent call last)",
      "\u001b[1;32mc:\\Users\\lucky\\Multi_Campus\\Workspace\\Machine_Learning\\Deep Learning\\03.CNN\\01.MNIST.ipynb Cell 2'\u001b[0m in \u001b[0;36m<cell line: 3>\u001b[1;34m()\u001b[0m\n\u001b[0;32m      <a href='vscode-notebook-cell:/c%3A/Users/lucky/Multi_Campus/Workspace/Machine_Learning/Deep%20Learning/03.CNN/01.MNIST.ipynb#ch0000001?line=0'>1</a>\u001b[0m \u001b[39mimport\u001b[39;00m \u001b[39mnumpy\u001b[39;00m \u001b[39mas\u001b[39;00m \u001b[39mnp\u001b[39;00m\n\u001b[0;32m      <a href='vscode-notebook-cell:/c%3A/Users/lucky/Multi_Campus/Workspace/Machine_Learning/Deep%20Learning/03.CNN/01.MNIST.ipynb#ch0000001?line=1'>2</a>\u001b[0m \u001b[39mimport\u001b[39;00m \u001b[39mmatplotlib\u001b[39;00m\u001b[39m.\u001b[39;00m\u001b[39mpyplot\u001b[39;00m \u001b[39mas\u001b[39;00m \u001b[39mplt\u001b[39;00m\n\u001b[1;32m----> <a href='vscode-notebook-cell:/c%3A/Users/lucky/Multi_Campus/Workspace/Machine_Learning/Deep%20Learning/03.CNN/01.MNIST.ipynb#ch0000001?line=2'>3</a>\u001b[0m \u001b[39mimport\u001b[39;00m \u001b[39mtensorflow\u001b[39;00m \u001b[39mas\u001b[39;00m \u001b[39mtf\u001b[39;00m\n\u001b[0;32m      <a href='vscode-notebook-cell:/c%3A/Users/lucky/Multi_Campus/Workspace/Machine_Learning/Deep%20Learning/03.CNN/01.MNIST.ipynb#ch0000001?line=3'>4</a>\u001b[0m seed \u001b[39m=\u001b[39m \u001b[39m2022\u001b[39m\n\u001b[0;32m      <a href='vscode-notebook-cell:/c%3A/Users/lucky/Multi_Campus/Workspace/Machine_Learning/Deep%20Learning/03.CNN/01.MNIST.ipynb#ch0000001?line=4'>5</a>\u001b[0m np\u001b[39m.\u001b[39mrandom\u001b[39m.\u001b[39mseed(seed)\n",
      "File \u001b[1;32mc:\\Users\\lucky\\anaconda3\\lib\\site-packages\\tensorflow\\__init__.py:37\u001b[0m, in \u001b[0;36m<module>\u001b[1;34m\u001b[0m\n\u001b[0;32m     <a href='file:///c%3A/Users/lucky/anaconda3/lib/site-packages/tensorflow/__init__.py?line=33'>34</a>\u001b[0m \u001b[39mimport\u001b[39;00m \u001b[39msys\u001b[39;00m \u001b[39mas\u001b[39;00m \u001b[39m_sys\u001b[39;00m\n\u001b[0;32m     <a href='file:///c%3A/Users/lucky/anaconda3/lib/site-packages/tensorflow/__init__.py?line=34'>35</a>\u001b[0m \u001b[39mimport\u001b[39;00m \u001b[39mtyping\u001b[39;00m \u001b[39mas\u001b[39;00m \u001b[39m_typing\u001b[39;00m\n\u001b[1;32m---> <a href='file:///c%3A/Users/lucky/anaconda3/lib/site-packages/tensorflow/__init__.py?line=36'>37</a>\u001b[0m \u001b[39mfrom\u001b[39;00m \u001b[39mtensorflow\u001b[39;00m\u001b[39m.\u001b[39;00m\u001b[39mpython\u001b[39;00m\u001b[39m.\u001b[39;00m\u001b[39mtools\u001b[39;00m \u001b[39mimport\u001b[39;00m module_util \u001b[39mas\u001b[39;00m _module_util\n\u001b[0;32m     <a href='file:///c%3A/Users/lucky/anaconda3/lib/site-packages/tensorflow/__init__.py?line=37'>38</a>\u001b[0m \u001b[39mfrom\u001b[39;00m \u001b[39mtensorflow\u001b[39;00m\u001b[39m.\u001b[39;00m\u001b[39mpython\u001b[39;00m\u001b[39m.\u001b[39;00m\u001b[39mutil\u001b[39;00m\u001b[39m.\u001b[39;00m\u001b[39mlazy_loader\u001b[39;00m \u001b[39mimport\u001b[39;00m LazyLoader \u001b[39mas\u001b[39;00m _LazyLoader\n\u001b[0;32m     <a href='file:///c%3A/Users/lucky/anaconda3/lib/site-packages/tensorflow/__init__.py?line=39'>40</a>\u001b[0m \u001b[39m# Make sure code inside the TensorFlow codebase can use tf2.enabled() at import.\u001b[39;00m\n",
      "File \u001b[1;32mc:\\Users\\lucky\\anaconda3\\lib\\site-packages\\tensorflow\\python\\__init__.py:37\u001b[0m, in \u001b[0;36m<module>\u001b[1;34m\u001b[0m\n\u001b[0;32m     <a href='file:///c%3A/Users/lucky/anaconda3/lib/site-packages/tensorflow/python/__init__.py?line=28'>29</a>\u001b[0m \u001b[39m# We aim to keep this file minimal and ideally remove completely.\u001b[39;00m\n\u001b[0;32m     <a href='file:///c%3A/Users/lucky/anaconda3/lib/site-packages/tensorflow/python/__init__.py?line=29'>30</a>\u001b[0m \u001b[39m# If you are adding a new file with @tf_export decorators,\u001b[39;00m\n\u001b[0;32m     <a href='file:///c%3A/Users/lucky/anaconda3/lib/site-packages/tensorflow/python/__init__.py?line=30'>31</a>\u001b[0m \u001b[39m# import it in modules_with_exports.py instead.\u001b[39;00m\n\u001b[0;32m     <a href='file:///c%3A/Users/lucky/anaconda3/lib/site-packages/tensorflow/python/__init__.py?line=31'>32</a>\u001b[0m \n\u001b[0;32m     <a href='file:///c%3A/Users/lucky/anaconda3/lib/site-packages/tensorflow/python/__init__.py?line=32'>33</a>\u001b[0m \u001b[39m# go/tf-wildcard-import\u001b[39;00m\n\u001b[0;32m     <a href='file:///c%3A/Users/lucky/anaconda3/lib/site-packages/tensorflow/python/__init__.py?line=33'>34</a>\u001b[0m \u001b[39m# pylint: disable=wildcard-import,g-bad-import-order,g-import-not-at-top\u001b[39;00m\n\u001b[0;32m     <a href='file:///c%3A/Users/lucky/anaconda3/lib/site-packages/tensorflow/python/__init__.py?line=35'>36</a>\u001b[0m \u001b[39mfrom\u001b[39;00m \u001b[39mtensorflow\u001b[39;00m\u001b[39m.\u001b[39;00m\u001b[39mpython\u001b[39;00m \u001b[39mimport\u001b[39;00m pywrap_tensorflow \u001b[39mas\u001b[39;00m _pywrap_tensorflow\n\u001b[1;32m---> <a href='file:///c%3A/Users/lucky/anaconda3/lib/site-packages/tensorflow/python/__init__.py?line=36'>37</a>\u001b[0m \u001b[39mfrom\u001b[39;00m \u001b[39mtensorflow\u001b[39;00m\u001b[39m.\u001b[39;00m\u001b[39mpython\u001b[39;00m\u001b[39m.\u001b[39;00m\u001b[39meager\u001b[39;00m \u001b[39mimport\u001b[39;00m context\n\u001b[0;32m     <a href='file:///c%3A/Users/lucky/anaconda3/lib/site-packages/tensorflow/python/__init__.py?line=38'>39</a>\u001b[0m \u001b[39m# pylint: enable=wildcard-import\u001b[39;00m\n\u001b[0;32m     <a href='file:///c%3A/Users/lucky/anaconda3/lib/site-packages/tensorflow/python/__init__.py?line=39'>40</a>\u001b[0m \n\u001b[0;32m     <a href='file:///c%3A/Users/lucky/anaconda3/lib/site-packages/tensorflow/python/__init__.py?line=40'>41</a>\u001b[0m \u001b[39m# Bring in subpackages.\u001b[39;00m\n\u001b[0;32m     <a href='file:///c%3A/Users/lucky/anaconda3/lib/site-packages/tensorflow/python/__init__.py?line=41'>42</a>\u001b[0m \u001b[39mfrom\u001b[39;00m \u001b[39mtensorflow\u001b[39;00m\u001b[39m.\u001b[39;00m\u001b[39mpython\u001b[39;00m \u001b[39mimport\u001b[39;00m data\n",
      "File \u001b[1;32mc:\\Users\\lucky\\anaconda3\\lib\\site-packages\\tensorflow\\python\\eager\\context.py:29\u001b[0m, in \u001b[0;36m<module>\u001b[1;34m\u001b[0m\n\u001b[0;32m     <a href='file:///c%3A/Users/lucky/anaconda3/lib/site-packages/tensorflow/python/eager/context.py?line=25'>26</a>\u001b[0m \u001b[39mimport\u001b[39;00m \u001b[39mnumpy\u001b[39;00m \u001b[39mas\u001b[39;00m \u001b[39mnp\u001b[39;00m\n\u001b[0;32m     <a href='file:///c%3A/Users/lucky/anaconda3/lib/site-packages/tensorflow/python/eager/context.py?line=26'>27</a>\u001b[0m \u001b[39mimport\u001b[39;00m \u001b[39msix\u001b[39;00m\n\u001b[1;32m---> <a href='file:///c%3A/Users/lucky/anaconda3/lib/site-packages/tensorflow/python/eager/context.py?line=28'>29</a>\u001b[0m \u001b[39mfrom\u001b[39;00m \u001b[39mtensorflow\u001b[39;00m\u001b[39m.\u001b[39;00m\u001b[39mcore\u001b[39;00m\u001b[39m.\u001b[39;00m\u001b[39mframework\u001b[39;00m \u001b[39mimport\u001b[39;00m function_pb2\n\u001b[0;32m     <a href='file:///c%3A/Users/lucky/anaconda3/lib/site-packages/tensorflow/python/eager/context.py?line=29'>30</a>\u001b[0m \u001b[39mfrom\u001b[39;00m \u001b[39mtensorflow\u001b[39;00m\u001b[39m.\u001b[39;00m\u001b[39mcore\u001b[39;00m\u001b[39m.\u001b[39;00m\u001b[39mprotobuf\u001b[39;00m \u001b[39mimport\u001b[39;00m config_pb2\n\u001b[0;32m     <a href='file:///c%3A/Users/lucky/anaconda3/lib/site-packages/tensorflow/python/eager/context.py?line=30'>31</a>\u001b[0m \u001b[39mfrom\u001b[39;00m \u001b[39mtensorflow\u001b[39;00m\u001b[39m.\u001b[39;00m\u001b[39mcore\u001b[39;00m\u001b[39m.\u001b[39;00m\u001b[39mprotobuf\u001b[39;00m \u001b[39mimport\u001b[39;00m coordination_config_pb2\n",
      "File \u001b[1;32mc:\\Users\\lucky\\anaconda3\\lib\\site-packages\\tensorflow\\core\\framework\\function_pb2.py:7\u001b[0m, in \u001b[0;36m<module>\u001b[1;34m\u001b[0m\n\u001b[0;32m      <a href='file:///c%3A/Users/lucky/anaconda3/lib/site-packages/tensorflow/core/framework/function_pb2.py?line=4'>5</a>\u001b[0m \u001b[39mimport\u001b[39;00m \u001b[39msys\u001b[39;00m\n\u001b[0;32m      <a href='file:///c%3A/Users/lucky/anaconda3/lib/site-packages/tensorflow/core/framework/function_pb2.py?line=5'>6</a>\u001b[0m _b\u001b[39m=\u001b[39msys\u001b[39m.\u001b[39mversion_info[\u001b[39m0\u001b[39m]\u001b[39m<\u001b[39m\u001b[39m3\u001b[39m \u001b[39mand\u001b[39;00m (\u001b[39mlambda\u001b[39;00m x:x) \u001b[39mor\u001b[39;00m (\u001b[39mlambda\u001b[39;00m x:x\u001b[39m.\u001b[39mencode(\u001b[39m'\u001b[39m\u001b[39mlatin1\u001b[39m\u001b[39m'\u001b[39m))\n\u001b[1;32m----> <a href='file:///c%3A/Users/lucky/anaconda3/lib/site-packages/tensorflow/core/framework/function_pb2.py?line=6'>7</a>\u001b[0m \u001b[39mfrom\u001b[39;00m \u001b[39mgoogle\u001b[39;00m\u001b[39m.\u001b[39;00m\u001b[39mprotobuf\u001b[39;00m \u001b[39mimport\u001b[39;00m descriptor \u001b[39mas\u001b[39;00m _descriptor\n\u001b[0;32m      <a href='file:///c%3A/Users/lucky/anaconda3/lib/site-packages/tensorflow/core/framework/function_pb2.py?line=7'>8</a>\u001b[0m \u001b[39mfrom\u001b[39;00m \u001b[39mgoogle\u001b[39;00m\u001b[39m.\u001b[39;00m\u001b[39mprotobuf\u001b[39;00m \u001b[39mimport\u001b[39;00m message \u001b[39mas\u001b[39;00m _message\n\u001b[0;32m      <a href='file:///c%3A/Users/lucky/anaconda3/lib/site-packages/tensorflow/core/framework/function_pb2.py?line=8'>9</a>\u001b[0m \u001b[39mfrom\u001b[39;00m \u001b[39mgoogle\u001b[39;00m\u001b[39m.\u001b[39;00m\u001b[39mprotobuf\u001b[39;00m \u001b[39mimport\u001b[39;00m reflection \u001b[39mas\u001b[39;00m _reflection\n",
      "File \u001b[1;32mc:\\Users\\lucky\\anaconda3\\lib\\site-packages\\google\\protobuf\\descriptor.py:47\u001b[0m, in \u001b[0;36m<module>\u001b[1;34m\u001b[0m\n\u001b[0;32m     <a href='file:///c%3A/Users/lucky/anaconda3/lib/site-packages/google/protobuf/descriptor.py?line=44'>45</a>\u001b[0m   \u001b[39mimport\u001b[39;00m \u001b[39mbinascii\u001b[39;00m\n\u001b[0;32m     <a href='file:///c%3A/Users/lucky/anaconda3/lib/site-packages/google/protobuf/descriptor.py?line=45'>46</a>\u001b[0m   \u001b[39mimport\u001b[39;00m \u001b[39mos\u001b[39;00m\n\u001b[1;32m---> <a href='file:///c%3A/Users/lucky/anaconda3/lib/site-packages/google/protobuf/descriptor.py?line=46'>47</a>\u001b[0m   \u001b[39mfrom\u001b[39;00m \u001b[39mgoogle\u001b[39;00m\u001b[39m.\u001b[39;00m\u001b[39mprotobuf\u001b[39;00m\u001b[39m.\u001b[39;00m\u001b[39mpyext\u001b[39;00m \u001b[39mimport\u001b[39;00m _message\n\u001b[0;32m     <a href='file:///c%3A/Users/lucky/anaconda3/lib/site-packages/google/protobuf/descriptor.py?line=47'>48</a>\u001b[0m   _USE_C_DESCRIPTORS \u001b[39m=\u001b[39m \u001b[39mTrue\u001b[39;00m\n\u001b[0;32m     <a href='file:///c%3A/Users/lucky/anaconda3/lib/site-packages/google/protobuf/descriptor.py?line=50'>51</a>\u001b[0m \u001b[39mclass\u001b[39;00m \u001b[39mError\u001b[39;00m(\u001b[39mException\u001b[39;00m):\n",
      "\u001b[1;31mTypeError\u001b[0m: bases must be types"
     ]
    }
   ],
   "source": [
    "import numpy as np\n",
    "import matplotlib.pyplot as plt\n",
    "import tensorflow as tf\n",
    "seed = 2022\n",
    "np.random.seed(seed)\n",
    "tf.random.set_seed(seed)"
   ]
  },
  {
   "cell_type": "code",
   "execution_count": 4,
   "metadata": {},
   "outputs": [],
   "source": [
    "import json\n",
    "\n",
    "with open('../kaggle.json') as f:\n",
    "    kaggle = json.load(f)\n",
    "username = kaggle['username']\n",
    "kaggle_key = kaggle['key']"
   ]
  },
  {
   "cell_type": "code",
   "execution_count": 6,
   "metadata": {},
   "outputs": [
    {
     "data": {
      "text/plain": [
       "'8b4eff52fc73ee047b5a83e71962d43a'"
      ]
     },
     "execution_count": 6,
     "metadata": {},
     "output_type": "execute_result"
    }
   ],
   "source": [
    "kaggle_key"
   ]
  },
  {
   "cell_type": "code",
   "execution_count": 7,
   "metadata": {},
   "outputs": [
    {
     "name": "stderr",
     "output_type": "stream",
     "text": [
      "'wget'��(��) ���� �Ǵ� �ܺ� ����, ������ �� �ִ� ���α׷�, �Ǵ�\n",
      "��ġ ������ �ƴմϴ�.\n"
     ]
    }
   ],
   "source": [
    "!wget https://storage.googleapis.com/mledu-datasets/cats_and_dogs_filltered.zip"
   ]
  },
  {
   "cell_type": "code",
   "execution_count": 8,
   "metadata": {},
   "outputs": [
    {
     "name": "stderr",
     "output_type": "stream",
     "text": [
      "������ ��θ� ã�� �� �����ϴ�.\n"
     ]
    }
   ],
   "source": [
    "!unzip cats_and_dogs_filtered.zip > /dev/null"
   ]
  },
  {
   "cell_type": "code",
   "execution_count": 11,
   "metadata": {},
   "outputs": [
    {
     "name": "stderr",
     "output_type": "stream",
     "text": [
      "'kaggle'��(��) ���� �Ǵ� �ܺ� ����, ������ �� �ִ� ���α׷�, �Ǵ�\n",
      "��ġ ������ �ƴմϴ�.\n"
     ]
    }
   ],
   "source": [
    "!kaggle datasets download -d birajsth/cats-and-dogs-filtered"
   ]
  },
  {
   "cell_type": "code",
   "execution_count": null,
   "metadata": {},
   "outputs": [],
   "source": []
  }
 ],
 "metadata": {
  "interpreter": {
   "hash": "68756eb6c044f31c46e3e1f38723aea1f0146198488dd3d60c0e4241eb6f7dd0"
  },
  "kernelspec": {
   "display_name": "Python 3.8.8 ('base')",
   "language": "python",
   "name": "python3"
  },
  "language_info": {
   "codemirror_mode": {
    "name": "ipython",
    "version": 3
   },
   "file_extension": ".py",
   "mimetype": "text/x-python",
   "name": "python",
   "nbconvert_exporter": "python",
   "pygments_lexer": "ipython3",
   "version": "3.8.8"
  },
  "orig_nbformat": 4
 },
 "nbformat": 4,
 "nbformat_minor": 2
}
