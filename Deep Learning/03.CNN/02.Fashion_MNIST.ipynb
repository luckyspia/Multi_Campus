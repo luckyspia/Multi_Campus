{
 "cells": [
  {
   "cell_type": "markdown",
   "metadata": {},
   "source": [
    "## Fashion MNIST - CNN v1\n",
    "- 2 x Conv2D layers\n",
    "- 1 MaxPooling2D layer\n",
    "- 1 Dropout(2.5) layer\n",
    "- 1 FCN layer\n",
    "- 1 Dropout(0.5) layer\n",
    "- 1 Output layer"
   ]
  },
  {
   "cell_type": "code",
   "execution_count": 3,
   "metadata": {},
   "outputs": [],
   "source": [
    "import numpy as np\n",
    "import matplotlib.pyplot as plt\n",
    "import tensorflow as tf\n",
    "\n",
    "seed = 2022\n",
    "np.random.seed(seed)\n",
    "tf.random.set_seed(seed)"
   ]
  },
  {
   "cell_type": "code",
   "execution_count": 4,
   "metadata": {},
   "outputs": [
    {
     "data": {
      "text/plain": [
       "((60000, 28, 28), (60000,), (10000, 28, 28), (10000,))"
      ]
     },
     "execution_count": 4,
     "metadata": {},
     "output_type": "execute_result"
    }
   ],
   "source": [
    "from tensorflow.keras.datasets import fashion_mnist\n",
    "(X_train, y_train), (X_test, y_test) = fashion_mnist.load_data()\n",
    "X_train.shape, y_train.shape, X_test.shape, y_test.shape"
   ]
  },
  {
   "cell_type": "code",
   "execution_count": 5,
   "metadata": {},
   "outputs": [
    {
     "data": {
      "image/png": "[encoded data removed]",
      "text/plain": [
       "<Figure size 432x288 with 1 Axes>"
      ]
     },
     "metadata": {
      "needs_background": "light"
     },
     "output_type": "display_data"
    }
   ],
   "source": [
    "plt.imshow(X_train[0], cmap='Greys');"
   ]
  },
  {
   "cell_type": "code",
   "execution_count": 6,
   "metadata": {},
   "outputs": [],
   "source": [
    "class_names = ['T-shirt/top', 'Trouser', 'Pullover', 'Dress', 'Coat',\n",
    "               'Sandal', 'Shirt', 'Sneaker', 'Bag', 'Ankle boot']"
   ]
  },
  {
   "cell_type": "code",
   "execution_count": 7,
   "metadata": {},
   "outputs": [
    {
     "data": {
      "image/png": "[encoded data removed]",
      "text/plain": [
       "<Figure size 936x360 with 10 Axes>"
      ]
     },
     "metadata": {},
     "output_type": "display_data"
    }
   ],
   "source": [
    "plt.figure(figsize=(13,5))\n",
    "for i in range(1, 11):\n",
    "    plt.subplot(2, 5, i)\n",
    "    plt.imshow(X_train[i], cmap='Greys')\n",
    "    plt.title(class_names[y_train[i]])\n",
    "    plt.xticks([]), plt.yticks([])\n",
    "plt.show()"
   ]
  },
  {
   "cell_type": "code",
   "execution_count": 8,
   "metadata": {},
   "outputs": [
    {
     "data": {
      "text/plain": [
       "((60000, 28, 28, 1), (10000, 28, 28, 1))"
      ]
     },
     "execution_count": 8,
     "metadata": {},
     "output_type": "execute_result"
    }
   ],
   "source": [
    "# X_train, X_test 정규화(0 ~ 1), 이미지 차원 변경: 2차원 --> 3차원\n",
    "X_train = X_train.reshape(-1, 28, 28, 1) / 255.\n",
    "X_test = X_test.reshape(-1, 28, 28, 1) / 255.\n",
    "X_train.shape, X_test.shape"
   ]
  },
  {
   "cell_type": "code",
   "execution_count": 9,
   "metadata": {},
   "outputs": [
    {
     "data": {
      "text/plain": [
       "((60000, 10), (10000, 10))"
      ]
     },
     "execution_count": 9,
     "metadata": {},
     "output_type": "execute_result"
    }
   ],
   "source": [
    "# One hot encoding\n",
    "from tensorflow.keras.utils import to_categorical\n",
    "Y_train = to_categorical(y_train)\n",
    "Y_test = to_categorical(y_test)\n",
    "Y_train.shape, Y_test.shape"
   ]
  },
  {
   "cell_type": "code",
   "execution_count": 10,
   "metadata": {},
   "outputs": [
    {
     "name": "stdout",
     "output_type": "stream",
     "text": [
      "Model: \"sequential\"\n",
      "_________________________________________________________________\n",
      " Layer (type)                Output Shape              Param #   \n",
      "=================================================================\n",
      " conv2d (Conv2D)             (None, 26, 26, 32)        320       \n",
      "                                                                 \n",
      " conv2d_1 (Conv2D)           (None, 24, 24, 64)        18496     \n",
      "                                                                 \n",
      " max_pooling2d (MaxPooling2D  (None, 12, 12, 64)       0         \n",
      " )                                                               \n",
      "                                                                 \n",
      " dropout (Dropout)           (None, 12, 12, 64)        0         \n",
      "                                                                 \n",
      " flatten (Flatten)           (None, 9216)              0         \n",
      "                                                                 \n",
      " dense (Dense)               (None, 512)               4719104   \n",
      "                                                                 \n",
      " dropout_1 (Dropout)         (None, 512)               0         \n",
      "                                                                 \n",
      " dense_1 (Dense)             (None, 10)                5130      \n",
      "                                                                 \n",
      "=================================================================\n",
      "Total params: 4,743,050\n",
      "Trainable params: 4,743,050\n",
      "Non-trainable params: 0\n",
      "_________________________________________________________________\n"
     ]
    }
   ],
   "source": [
    "from tensorflow.keras.models import Sequential, load_model\n",
    "from tensorflow.keras.layers import Dense, Conv2D, Flatten, MaxPooling2D, Dropout\n",
    "from tensorflow.keras.callbacks import ModelCheckpoint, EarlyStopping\n",
    "\n",
    "model = Sequential([\n",
    "    Conv2D(32, kernel_size=(3,3), input_shape=(28,28,1), activation='relu'),\n",
    "    Conv2D(64, (3,3), activation='relu'),\n",
    "    MaxPooling2D(),                         # MaxPooling2D(pool_size=(2,2))\n",
    "    Dropout(0.25),\n",
    "    Flatten(),\n",
    "    Dense(512, activation='relu'),\n",
    "    Dropout(0.5),\n",
    "    Dense(10, activation='softmax')\n",
    "])\n",
    "model.summary()"
   ]
  },
  {
   "cell_type": "code",
   "execution_count": 11,
   "metadata": {},
   "outputs": [],
   "source": [
    "model.compile('adam', 'categorical_crossentropy', ['accuracy'])"
   ]
  },
  {
   "cell_type": "code",
   "execution_count": 12,
   "metadata": {},
   "outputs": [],
   "source": [
    "model_path = './models/best-fashion-mnist-cnn-v1.h5'\n",
    "mc = ModelCheckpoint(model_path, save_best_only=True, verbose=1)\n",
    "es = EarlyStopping(patience=10)"
   ]
  },
  {
   "cell_type": "code",
   "execution_count": 13,
   "metadata": {},
   "outputs": [
    {
     "name": "stdout",
     "output_type": "stream",
     "text": [
      "Epoch 1/100\n",
      "234/240 [============================>.] - ETA: 0s - loss: 0.5052 - accuracy: 0.8209\n",
      "Epoch 00001: val_loss improved from inf to 0.32221, saving model to ./models\\best-fashion-mnist-cnn-v1.h5\n",
      "240/240 [==============================] - 5s 9ms/step - loss: 0.5020 - accuracy: 0.8221 - val_loss: 0.3222 - val_accuracy: 0.8830\n",
      "Epoch 2/100\n",
      "239/240 [============================>.] - ETA: 0s - loss: 0.3145 - accuracy: 0.8863\n",
      "Epoch 00002: val_loss improved from 0.32221 to 0.27348, saving model to ./models\\best-fashion-mnist-cnn-v1.h5\n",
      "240/240 [==============================] - 2s 8ms/step - loss: 0.3144 - accuracy: 0.8863 - val_loss: 0.2735 - val_accuracy: 0.9012\n",
      "Epoch 3/100\n",
      "235/240 [============================>.] - ETA: 0s - loss: 0.2613 - accuracy: 0.9060\n",
      "Epoch 00003: val_loss improved from 0.27348 to 0.23903, saving model to ./models\\best-fashion-mnist-cnn-v1.h5\n",
      "240/240 [==============================] - 2s 8ms/step - loss: 0.2614 - accuracy: 0.9059 - val_loss: 0.2390 - val_accuracy: 0.9112\n",
      "Epoch 4/100\n",
      "240/240 [==============================] - ETA: 0s - loss: 0.2264 - accuracy: 0.9157\n",
      "Epoch 00004: val_loss improved from 0.23903 to 0.23044, saving model to ./models\\best-fashion-mnist-cnn-v1.h5\n",
      "240/240 [==============================] - 2s 8ms/step - loss: 0.2264 - accuracy: 0.9157 - val_loss: 0.2304 - val_accuracy: 0.9150\n",
      "Epoch 5/100\n",
      "239/240 [============================>.] - ETA: 0s - loss: 0.2024 - accuracy: 0.9255\n",
      "Epoch 00005: val_loss improved from 0.23044 to 0.22955, saving model to ./models\\best-fashion-mnist-cnn-v1.h5\n",
      "240/240 [==============================] - 2s 8ms/step - loss: 0.2025 - accuracy: 0.9254 - val_loss: 0.2296 - val_accuracy: 0.9143\n",
      "Epoch 6/100\n",
      "234/240 [============================>.] - ETA: 0s - loss: 0.1818 - accuracy: 0.9336\n",
      "Epoch 00006: val_loss improved from 0.22955 to 0.21383, saving model to ./models\\best-fashion-mnist-cnn-v1.h5\n",
      "240/240 [==============================] - 2s 8ms/step - loss: 0.1816 - accuracy: 0.9337 - val_loss: 0.2138 - val_accuracy: 0.9213\n",
      "Epoch 7/100\n",
      "233/240 [============================>.] - ETA: 0s - loss: 0.1594 - accuracy: 0.9405\n",
      "Epoch 00007: val_loss improved from 0.21383 to 0.20354, saving model to ./models\\best-fashion-mnist-cnn-v1.h5\n",
      "240/240 [==============================] - 2s 8ms/step - loss: 0.1592 - accuracy: 0.9406 - val_loss: 0.2035 - val_accuracy: 0.9275\n",
      "Epoch 8/100\n",
      "235/240 [============================>.] - ETA: 0s - loss: 0.1421 - accuracy: 0.9477\n",
      "Epoch 00008: val_loss did not improve from 0.20354\n",
      "240/240 [==============================] - 2s 8ms/step - loss: 0.1428 - accuracy: 0.9476 - val_loss: 0.2084 - val_accuracy: 0.9259\n",
      "Epoch 9/100\n",
      "238/240 [============================>.] - ETA: 0s - loss: 0.1283 - accuracy: 0.9530\n",
      "Epoch 00009: val_loss improved from 0.20354 to 0.20221, saving model to ./models\\best-fashion-mnist-cnn-v1.h5\n",
      "240/240 [==============================] - 2s 8ms/step - loss: 0.1284 - accuracy: 0.9530 - val_loss: 0.2022 - val_accuracy: 0.9290\n",
      "Epoch 10/100\n",
      "237/240 [============================>.] - ETA: 0s - loss: 0.1123 - accuracy: 0.9578\n",
      "Epoch 00010: val_loss did not improve from 0.20221\n",
      "240/240 [==============================] - 2s 8ms/step - loss: 0.1122 - accuracy: 0.9579 - val_loss: 0.2208 - val_accuracy: 0.9241\n",
      "Epoch 11/100\n",
      "239/240 [============================>.] - ETA: 0s - loss: 0.0991 - accuracy: 0.9630\n",
      "Epoch 00011: val_loss did not improve from 0.20221\n",
      "240/240 [==============================] - 2s 8ms/step - loss: 0.0991 - accuracy: 0.9630 - val_loss: 0.2219 - val_accuracy: 0.9269\n",
      "Epoch 12/100\n",
      "235/240 [============================>.] - ETA: 0s - loss: 0.0902 - accuracy: 0.9660\n",
      "Epoch 00012: val_loss did not improve from 0.20221\n",
      "240/240 [==============================] - 2s 8ms/step - loss: 0.0902 - accuracy: 0.9660 - val_loss: 0.2147 - val_accuracy: 0.9284\n",
      "Epoch 13/100\n",
      "234/240 [============================>.] - ETA: 0s - loss: 0.0778 - accuracy: 0.9714\n",
      "Epoch 00013: val_loss did not improve from 0.20221\n",
      "240/240 [==============================] - 2s 8ms/step - loss: 0.0780 - accuracy: 0.9714 - val_loss: 0.2287 - val_accuracy: 0.9283\n",
      "Epoch 14/100\n",
      "239/240 [============================>.] - ETA: 0s - loss: 0.0727 - accuracy: 0.9731\n",
      "Epoch 00014: val_loss did not improve from 0.20221\n",
      "240/240 [==============================] - 2s 7ms/step - loss: 0.0729 - accuracy: 0.9730 - val_loss: 0.2420 - val_accuracy: 0.9279\n",
      "Epoch 15/100\n",
      "233/240 [============================>.] - ETA: 0s - loss: 0.0660 - accuracy: 0.9753\n",
      "Epoch 00015: val_loss did not improve from 0.20221\n",
      "240/240 [==============================] - 2s 7ms/step - loss: 0.0662 - accuracy: 0.9752 - val_loss: 0.2356 - val_accuracy: 0.9308\n",
      "Epoch 16/100\n",
      "237/240 [============================>.] - ETA: 0s - loss: 0.0620 - accuracy: 0.9773\n",
      "Epoch 00016: val_loss did not improve from 0.20221\n",
      "240/240 [==============================] - 2s 8ms/step - loss: 0.0621 - accuracy: 0.9773 - val_loss: 0.2475 - val_accuracy: 0.9287\n",
      "Epoch 17/100\n",
      "240/240 [==============================] - ETA: 0s - loss: 0.0562 - accuracy: 0.9793\n",
      "Epoch 00017: val_loss did not improve from 0.20221\n",
      "240/240 [==============================] - 2s 8ms/step - loss: 0.0562 - accuracy: 0.9793 - val_loss: 0.2458 - val_accuracy: 0.9295\n",
      "Epoch 18/100\n",
      "237/240 [============================>.] - ETA: 0s - loss: 0.0499 - accuracy: 0.9819\n",
      "Epoch 00018: val_loss did not improve from 0.20221\n",
      "240/240 [==============================] - 2s 7ms/step - loss: 0.0499 - accuracy: 0.9820 - val_loss: 0.2584 - val_accuracy: 0.9295\n",
      "Epoch 19/100\n",
      "233/240 [============================>.] - ETA: 0s - loss: 0.0447 - accuracy: 0.9839\n",
      "Epoch 00019: val_loss did not improve from 0.20221\n",
      "240/240 [==============================] - 2s 7ms/step - loss: 0.0450 - accuracy: 0.9839 - val_loss: 0.2550 - val_accuracy: 0.9308\n"
     ]
    }
   ],
   "source": [
    "hist = model.fit(\n",
    "    X_train, Y_train, validation_split=0.2, epochs=100, batch_size=200,\n",
    "    callbacks=[mc, es]\n",
    ")"
   ]
  },
  {
   "cell_type": "code",
   "execution_count": 14,
   "metadata": {},
   "outputs": [
    {
     "name": "stdout",
     "output_type": "stream",
     "text": [
      "313/313 [==============================] - 1s 2ms/step - loss: 0.2156 - accuracy: 0.9265\n"
     ]
    },
    {
     "data": {
      "text/plain": [
       "[0.21564899384975433, 0.9265000224113464]"
      ]
     },
     "execution_count": 14,
     "metadata": {},
     "output_type": "execute_result"
    }
   ],
   "source": [
    "best_model = load_model(model_path)\n",
    "best_model.evaluate(X_test, Y_test)"
   ]
  },
  {
   "cell_type": "code",
   "execution_count": 15,
   "metadata": {},
   "outputs": [
    {
     "data": {
      "image/png": "[encoded data removed]",
      "text/plain": [
       "<Figure size 864x576 with 1 Axes>"
      ]
     },
     "metadata": {
      "needs_background": "light"
     },
     "output_type": "display_data"
    }
   ],
   "source": [
    "y_acc = hist.history['accuracy']\n",
    "y_vloss = hist.history['val_loss']\n",
    "xs = np.arange(1, len(y_acc)+1)\n",
    "\n",
    "plt.figure(figsize=(12,8))\n",
    "plt.plot(xs, y_acc, label='train accuracy')\n",
    "plt.plot(xs, y_vloss, label='validation loss')\n",
    "plt.legend(), plt.grid()\n",
    "plt.xlabel('Epoch')\n",
    "plt.title('Fashion MNIST CNN model v1')\n",
    "plt.show()"
   ]
  },
  {
   "cell_type": "markdown",
   "metadata": {},
   "source": [
    "## Fashion MNIST - CNN v2\n",
    "- 2 x Conv2D layers with padding\n",
    "- 1 MaxPooling2D layer\n",
    "- 1 Dropout(0.25) layer\n",
    "- 1 FCN layer\n",
    "- 1 Dropout(0.5) layer\n",
    "- 1 Output layer"
   ]
  },
  {
   "cell_type": "code",
   "execution_count": 17,
   "metadata": {},
   "outputs": [
    {
     "name": "stdout",
     "output_type": "stream",
     "text": [
      "Model: \"sequential_1\"\n",
      "_________________________________________________________________\n",
      " Layer (type)                Output Shape              Param #   \n",
      "=================================================================\n",
      " conv2d_2 (Conv2D)           (None, 28, 28, 32)        320       \n",
      "                                                                 \n",
      " conv2d_3 (Conv2D)           (None, 28, 28, 64)        18496     \n",
      "                                                                 \n",
      " max_pooling2d_1 (MaxPooling  (None, 14, 14, 64)       0         \n",
      " 2D)                                                             \n",
      "                                                                 \n",
      " dropout_2 (Dropout)         (None, 14, 14, 64)        0         \n",
      "                                                                 \n",
      " flatten_1 (Flatten)         (None, 12544)             0         \n",
      "                                                                 \n",
      " dense_2 (Dense)             (None, 512)               6423040   \n",
      "                                                                 \n",
      " dropout_3 (Dropout)         (None, 512)               0         \n",
      "                                                                 \n",
      " dense_3 (Dense)             (None, 10)                5130      \n",
      "                                                                 \n",
      "=================================================================\n",
      "Total params: 6,446,986\n",
      "Trainable params: 6,446,986\n",
      "Non-trainable params: 0\n",
      "_________________________________________________________________\n"
     ]
    }
   ],
   "source": [
    "model = Sequential([\n",
    "    Conv2D(32, kernel_size=(3,3), padding='same', input_shape=(28,28,1), activation='relu'),\n",
    "    Conv2D(64, (3,3), padding='same', activation='relu'),\n",
    "    MaxPooling2D(),                         # MaxPooling2D(pool_size=(2,2))\n",
    "    Dropout(0.25),\n",
    "    Flatten(),\n",
    "    Dense(512, activation='relu'),\n",
    "    Dropout(0.5),\n",
    "    Dense(10, activation='softmax')\n",
    "])\n",
    "model.summary()"
   ]
  },
  {
   "cell_type": "code",
   "execution_count": 18,
   "metadata": {},
   "outputs": [],
   "source": [
    "model.compile('adam', 'categorical_crossentropy', ['accuracy'])"
   ]
  },
  {
   "cell_type": "code",
   "execution_count": 19,
   "metadata": {},
   "outputs": [],
   "source": [
    "model_path = './models/best-fashion-mnist-cnn-v2.h5'\n",
    "mc = ModelCheckpoint(model_path, save_best_only=True, verbose=1)\n",
    "es = EarlyStopping(patience=10)"
   ]
  },
  {
   "cell_type": "code",
   "execution_count": 20,
   "metadata": {},
   "outputs": [
    {
     "name": "stdout",
     "output_type": "stream",
     "text": [
      "Epoch 1/100\n",
      "234/240 [============================>.] - ETA: 0s - loss: 0.4691 - accuracy: 0.8339\n",
      "Epoch 00001: val_loss improved from inf to 0.29993, saving model to ./models\\best-fashion-mnist-cnn-v2.h5\n",
      "240/240 [==============================] - 3s 10ms/step - loss: 0.4660 - accuracy: 0.8351 - val_loss: 0.2999 - val_accuracy: 0.8880\n",
      "Epoch 2/100\n",
      "237/240 [============================>.] - ETA: 0s - loss: 0.2896 - accuracy: 0.8959\n",
      "Epoch 00002: val_loss improved from 0.29993 to 0.26020, saving model to ./models\\best-fashion-mnist-cnn-v2.h5\n",
      "240/240 [==============================] - 2s 10ms/step - loss: 0.2895 - accuracy: 0.8959 - val_loss: 0.2602 - val_accuracy: 0.9055\n",
      "Epoch 3/100\n",
      "236/240 [============================>.] - ETA: 0s - loss: 0.2378 - accuracy: 0.9137\n",
      "Epoch 00003: val_loss improved from 0.26020 to 0.22531, saving model to ./models\\best-fashion-mnist-cnn-v2.h5\n",
      "240/240 [==============================] - 2s 10ms/step - loss: 0.2380 - accuracy: 0.9136 - val_loss: 0.2253 - val_accuracy: 0.9159\n",
      "Epoch 4/100\n",
      "240/240 [==============================] - ETA: 0s - loss: 0.2030 - accuracy: 0.9246\n",
      "Epoch 00004: val_loss improved from 0.22531 to 0.21987, saving model to ./models\\best-fashion-mnist-cnn-v2.h5\n",
      "240/240 [==============================] - 2s 10ms/step - loss: 0.2030 - accuracy: 0.9246 - val_loss: 0.2199 - val_accuracy: 0.9191\n",
      "Epoch 5/100\n",
      "237/240 [============================>.] - ETA: 0s - loss: 0.1778 - accuracy: 0.9345\n",
      "Epoch 00005: val_loss improved from 0.21987 to 0.20912, saving model to ./models\\best-fashion-mnist-cnn-v2.h5\n",
      "240/240 [==============================] - 2s 10ms/step - loss: 0.1782 - accuracy: 0.9342 - val_loss: 0.2091 - val_accuracy: 0.9236\n",
      "Epoch 6/100\n",
      "236/240 [============================>.] - ETA: 0s - loss: 0.1555 - accuracy: 0.9426\n",
      "Epoch 00006: val_loss improved from 0.20912 to 0.20391, saving model to ./models\\best-fashion-mnist-cnn-v2.h5\n",
      "240/240 [==============================] - 2s 9ms/step - loss: 0.1556 - accuracy: 0.9426 - val_loss: 0.2039 - val_accuracy: 0.9272\n",
      "Epoch 7/100\n",
      "236/240 [============================>.] - ETA: 0s - loss: 0.1343 - accuracy: 0.9501\n",
      "Epoch 00007: val_loss did not improve from 0.20391\n",
      "240/240 [==============================] - 2s 9ms/step - loss: 0.1345 - accuracy: 0.9501 - val_loss: 0.2045 - val_accuracy: 0.9287\n",
      "Epoch 8/100\n",
      "238/240 [============================>.] - ETA: 0s - loss: 0.1174 - accuracy: 0.9565\n",
      "Epoch 00008: val_loss did not improve from 0.20391\n",
      "240/240 [==============================] - 2s 9ms/step - loss: 0.1176 - accuracy: 0.9563 - val_loss: 0.2047 - val_accuracy: 0.9286\n",
      "Epoch 9/100\n",
      "236/240 [============================>.] - ETA: 0s - loss: 0.1032 - accuracy: 0.9622\n",
      "Epoch 00009: val_loss improved from 0.20391 to 0.19754, saving model to ./models\\best-fashion-mnist-cnn-v2.h5\n",
      "240/240 [==============================] - 2s 10ms/step - loss: 0.1037 - accuracy: 0.9619 - val_loss: 0.1975 - val_accuracy: 0.9321\n",
      "Epoch 10/100\n",
      "235/240 [============================>.] - ETA: 0s - loss: 0.0868 - accuracy: 0.9677\n",
      "Epoch 00010: val_loss did not improve from 0.19754\n",
      "240/240 [==============================] - 2s 10ms/step - loss: 0.0866 - accuracy: 0.9678 - val_loss: 0.2133 - val_accuracy: 0.9307\n",
      "Epoch 11/100\n",
      "235/240 [============================>.] - ETA: 0s - loss: 0.0742 - accuracy: 0.9717\n",
      "Epoch 00011: val_loss did not improve from 0.19754\n",
      "240/240 [==============================] - 2s 9ms/step - loss: 0.0746 - accuracy: 0.9715 - val_loss: 0.2087 - val_accuracy: 0.9347\n",
      "Epoch 12/100\n",
      "237/240 [============================>.] - ETA: 0s - loss: 0.0692 - accuracy: 0.9742\n",
      "Epoch 00012: val_loss did not improve from 0.19754\n",
      "240/240 [==============================] - 2s 9ms/step - loss: 0.0692 - accuracy: 0.9742 - val_loss: 0.2197 - val_accuracy: 0.9332\n",
      "Epoch 13/100\n",
      "236/240 [============================>.] - ETA: 0s - loss: 0.0560 - accuracy: 0.9801\n",
      "Epoch 00013: val_loss did not improve from 0.19754\n",
      "240/240 [==============================] - 2s 9ms/step - loss: 0.0561 - accuracy: 0.9801 - val_loss: 0.2236 - val_accuracy: 0.9322\n",
      "Epoch 14/100\n",
      "235/240 [============================>.] - ETA: 0s - loss: 0.0541 - accuracy: 0.9802\n",
      "Epoch 00014: val_loss did not improve from 0.19754\n",
      "240/240 [==============================] - 2s 9ms/step - loss: 0.0542 - accuracy: 0.9802 - val_loss: 0.2503 - val_accuracy: 0.9308\n",
      "Epoch 15/100\n",
      "234/240 [============================>.] - ETA: 0s - loss: 0.0473 - accuracy: 0.9831\n",
      "Epoch 00015: val_loss did not improve from 0.19754\n",
      "240/240 [==============================] - 2s 9ms/step - loss: 0.0475 - accuracy: 0.9830 - val_loss: 0.2430 - val_accuracy: 0.9330\n",
      "Epoch 16/100\n",
      "235/240 [============================>.] - ETA: 0s - loss: 0.0447 - accuracy: 0.9832\n",
      "Epoch 00016: val_loss did not improve from 0.19754\n",
      "240/240 [==============================] - 2s 9ms/step - loss: 0.0448 - accuracy: 0.9831 - val_loss: 0.2618 - val_accuracy: 0.9307\n",
      "Epoch 17/100\n",
      "237/240 [============================>.] - ETA: 0s - loss: 0.0389 - accuracy: 0.9859\n",
      "Epoch 00017: val_loss did not improve from 0.19754\n",
      "240/240 [==============================] - 2s 9ms/step - loss: 0.0388 - accuracy: 0.9859 - val_loss: 0.2642 - val_accuracy: 0.9329\n",
      "Epoch 18/100\n",
      "240/240 [==============================] - ETA: 0s - loss: 0.0343 - accuracy: 0.9877\n",
      "Epoch 00018: val_loss did not improve from 0.19754\n",
      "240/240 [==============================] - 2s 9ms/step - loss: 0.0343 - accuracy: 0.9877 - val_loss: 0.2700 - val_accuracy: 0.9294\n",
      "Epoch 19/100\n",
      "235/240 [============================>.] - ETA: 0s - loss: 0.0333 - accuracy: 0.9882\n",
      "Epoch 00019: val_loss did not improve from 0.19754\n",
      "240/240 [==============================] - 2s 9ms/step - loss: 0.0333 - accuracy: 0.9882 - val_loss: 0.2791 - val_accuracy: 0.9314\n"
     ]
    }
   ],
   "source": [
    "hist = model.fit(\n",
    "    X_train, Y_train, validation_split=0.2, epochs=100, batch_size=200,\n",
    "    callbacks=[mc, es]\n",
    ")"
   ]
  },
  {
   "cell_type": "code",
   "execution_count": 21,
   "metadata": {},
   "outputs": [
    {
     "name": "stdout",
     "output_type": "stream",
     "text": [
      "313/313 [==============================] - 1s 2ms/step - loss: 0.2146 - accuracy: 0.9290\n"
     ]
    },
    {
     "data": {
      "text/plain": [
       "[0.21460112929344177, 0.9290000200271606]"
      ]
     },
     "execution_count": 21,
     "metadata": {},
     "output_type": "execute_result"
    }
   ],
   "source": [
    "best_model = load_model(model_path)\n",
    "best_model.evaluate(X_test, Y_test)"
   ]
  },
  {
   "cell_type": "code",
   "execution_count": 22,
   "metadata": {},
   "outputs": [
    {
     "data": {
      "image/png": "[encoded data removed]",
      "text/plain": [
       "<Figure size 864x576 with 1 Axes>"
      ]
     },
     "metadata": {
      "needs_background": "light"
     },
     "output_type": "display_data"
    }
   ],
   "source": [
    "y_acc = hist.history['accuracy']\n",
    "y_vloss = hist.history['val_loss']\n",
    "xs = np.arange(1, len(y_acc)+1)\n",
    "\n",
    "plt.figure(figsize=(12,8))\n",
    "plt.plot(xs, y_acc, label='train accuracy')\n",
    "plt.plot(xs, y_vloss, label='validation loss')\n",
    "plt.legend(), plt.grid()\n",
    "plt.xlabel('Epoch')\n",
    "plt.title('Fashion MNIST CNN model v2')\n",
    "plt.show()"
   ]
  }
 ],
 "metadata": {
  "interpreter": {
   "hash": "68756eb6c044f31c46e3e1f38723aea1f0146198488dd3d60c0e4241eb6f7dd0"
  },
  "kernelspec": {
   "display_name": "Python 3.9.12 ('base')",
   "language": "python",
   "name": "python3"
  },
  "language_info": {
   "codemirror_mode": {
    "name": "ipython",
    "version": 3
   },
   "file_extension": ".py",
   "mimetype": "text/x-python",
   "name": "python",
   "nbconvert_exporter": "python",
   "pygments_lexer": "ipython3",
   "version": "3.9.12"
  },
  "orig_nbformat": 4
 },
 "nbformat": 4,
 "nbformat_minor": 2
}
