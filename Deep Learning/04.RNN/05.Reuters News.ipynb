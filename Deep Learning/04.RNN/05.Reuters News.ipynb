{
 "cells": [
  {
   "cell_type": "markdown",
   "metadata": {},
   "source": [
    "## Reuters News Classification - LSTM"
   ]
  },
  {
   "cell_type": "code",
   "execution_count": 2,
   "metadata": {},
   "outputs": [
    {
     "name": "stdout",
     "output_type": "stream",
     "text": [
      "Downloading data from https://storage.googleapis.com/tensorflow/tf-keras-datasets/reuters.npz\n",
      "2113536/2110848 [==============================] - 0s 0us/step\n",
      "2121728/2110848 [==============================] - 0s 0us/step\n"
     ]
    },
    {
     "data": {
      "text/plain": [
       "(8982, 2246)"
      ]
     },
     "execution_count": 2,
     "metadata": {},
     "output_type": "execute_result"
    }
   ],
   "source": [
    "import numpy as np\n",
    "import seaborn as sns\n",
    "import matplotlib.pyplot as plt\n",
    "from tensorflow.keras.datasets import reuters\n",
    "\n",
    "(X_train, y_train), (X_test, y_test) = reuters.load_data()\n",
    "len(X_train), len(X_test)"
   ]
  },
  {
   "cell_type": "code",
   "execution_count": 3,
   "metadata": {},
   "outputs": [
    {
     "data": {
      "text/plain": [
       "46"
      ]
     },
     "execution_count": 3,
     "metadata": {},
     "output_type": "execute_result"
    }
   ],
   "source": [
    "# 카테고리 갯수\n",
    "max(y_train) + 1"
   ]
  },
  {
   "cell_type": "code",
   "execution_count": 4,
   "metadata": {},
   "outputs": [
    {
     "name": "stdout",
     "output_type": "stream",
     "text": [
      "[1, 27595, 28842, 8, 43, 10, 447, 5, 25, 207, 270, 5, 3095, 111, 16, 369, 186, 90, 67, 7, 89, 5, 19, 102, 6, 19, 124, 15, 90, 67, 84, 22, 482, 26, 7, 48, 4, 49, 8, 864, 39, 209, 154, 6, 151, 6, 83, 11, 15, 22, 155, 11, 15, 7, 48, 9, 4579, 1005, 504, 6, 258, 6, 272, 11, 15, 22, 134, 44, 11, 15, 16, 8, 197, 1245, 90, 67, 52, 29, 209, 30, 32, 132, 6, 109, 15, 17, 12]\n"
     ]
    }
   ],
   "source": [
    "# 첫번째 뉴스\n",
    "print(X_train[0])"
   ]
  },
  {
   "cell_type": "code",
   "execution_count": 5,
   "metadata": {},
   "outputs": [
    {
     "name": "stdout",
     "output_type": "stream",
     "text": [
      "Downloading data from https://storage.googleapis.com/tensorflow/tf-keras-datasets/reuters_word_index.json\n",
      "557056/550378 [==============================] - 0s 0us/step\n",
      "565248/550378 [==============================] - 0s 0us/step\n"
     ]
    },
    {
     "data": {
      "text/plain": [
       "dict"
      ]
     },
     "execution_count": 5,
     "metadata": {},
     "output_type": "execute_result"
    }
   ],
   "source": [
    "type(reuters.get_word_index())"
   ]
  },
  {
   "cell_type": "code",
   "execution_count": 6,
   "metadata": {},
   "outputs": [
    {
     "data": {
      "text/plain": [
       "1"
      ]
     },
     "execution_count": 6,
     "metadata": {},
     "output_type": "execute_result"
    }
   ],
   "source": [
    "reuters.get_word_index()['the']"
   ]
  },
  {
   "cell_type": "code",
   "execution_count": 7,
   "metadata": {},
   "outputs": [
    {
     "data": {
      "text/plain": [
       "30979"
      ]
     },
     "execution_count": 7,
     "metadata": {},
     "output_type": "execute_result"
    }
   ],
   "source": [
    "index_word = {}\n",
    "for key, value in reuters.get_word_index().items():\n",
    "    index_word[value] = key\n",
    "len(index_word)"
   ]
  },
  {
   "cell_type": "code",
   "execution_count": 9,
   "metadata": {},
   "outputs": [
    {
     "data": {
      "text/plain": [
       "'the'"
      ]
     },
     "execution_count": 9,
     "metadata": {},
     "output_type": "execute_result"
    }
   ],
   "source": [
    "index_word[1]"
   ]
  },
  {
   "cell_type": "code",
   "execution_count": 10,
   "metadata": {},
   "outputs": [
    {
     "data": {
      "text/plain": [
       "'the wattie nondiscriminatory mln loss for plc said at only ended said commonwealth could 1 traders now april 0 a after said from 1985 and from foreign 000 april 0 prices its account year a but in this mln home an states earlier and rise and revs vs 000 its 16 vs 000 a but 3 psbr oils several and shareholders and dividend vs 000 its all 4 vs 000 1 mln agreed largely april 0 are 2 states will billion total and against 000 pct dlrs'"
      ]
     },
     "execution_count": 10,
     "metadata": {},
     "output_type": "execute_result"
    }
   ],
   "source": [
    "# 첫번째 기사 복원\n",
    "' '.join(index_word[index] for index in X_train[0])"
   ]
  },
  {
   "cell_type": "code",
   "execution_count": 11,
   "metadata": {},
   "outputs": [
    {
     "data": {
      "text/plain": [
       "(2376, 145.5398574927633)"
      ]
     },
     "execution_count": 11,
     "metadata": {},
     "output_type": "execute_result"
    }
   ],
   "source": [
    "# 뉴스 기사의 최대/평균 길이\n",
    "max(len(s) for s in X_train), sum(map(len, X_train)) / len(X_train)"
   ]
  },
  {
   "cell_type": "code",
   "execution_count": 12,
   "metadata": {},
   "outputs": [
    {
     "data": {
      "image/png": "[encoded data removed]",
      "text/plain": [
       "<Figure size 432x288 with 1 Axes>"
      ]
     },
     "metadata": {
      "needs_background": "light"
     },
     "output_type": "display_data"
    }
   ],
   "source": [
    "# 뉴스 기사 단어수의 분포\n",
    "plt.hist([len(s) for s in X_train], bins=50)\n",
    "plt.xlabel('length of samples')\n",
    "plt.ylabel('number of samples')\n",
    "plt.show()"
   ]
  },
  {
   "cell_type": "code",
   "execution_count": 13,
   "metadata": {},
   "outputs": [
    {
     "data": {
      "image/png": "[encoded data removed]",
      "text/plain": [
       "<Figure size 864x360 with 1 Axes>"
      ]
     },
     "metadata": {
      "needs_background": "light"
     },
     "output_type": "display_data"
    }
   ],
   "source": [
    "# 뉴스 그룹의 분포\n",
    "import warnings\n",
    "warnings.filterwarnings('ignore')\n",
    "plt.figure(figsize=(12,5))\n",
    "sns.countplot(y_train);"
   ]
  },
  {
   "cell_type": "markdown",
   "metadata": {},
   "source": [
    "#### Modeling \n",
    "- 문장 길이: 100 단어까지 (최대: 2,376)\n",
    "- 단어 : 빈도수 기준 1,000 단어 (총 단어수: 30,979)"
   ]
  },
  {
   "cell_type": "code",
   "execution_count": 15,
   "metadata": {},
   "outputs": [],
   "source": [
    "max_words = 1000\n",
    "max_len = 100"
   ]
  },
  {
   "cell_type": "code",
   "execution_count": 16,
   "metadata": {},
   "outputs": [],
   "source": [
    "(X_train, y_train), (X_test, y_test) = reuters.load_data(\n",
    "    num_words=max_words, test_split=0.2\n",
    ")"
   ]
  },
  {
   "cell_type": "code",
   "execution_count": 17,
   "metadata": {},
   "outputs": [],
   "source": [
    "import tensorflow as tf\n",
    "\n",
    "seed = 2022\n",
    "np.random.seed(seed)\n",
    "tf.random.set_seed(seed)"
   ]
  },
  {
   "cell_type": "code",
   "execution_count": 19,
   "metadata": {},
   "outputs": [
    {
     "data": {
      "text/plain": [
       "((8982, 100), (2246, 100), (8982, 46), (2246, 46))"
      ]
     },
     "execution_count": 19,
     "metadata": {},
     "output_type": "execute_result"
    }
   ],
   "source": [
    "from tensorflow.keras.models import Sequential, load_model\n",
    "from tensorflow.keras.layers import Embedding, LSTM, Dense\n",
    "from tensorflow.keras.callbacks import ModelCheckpoint, EarlyStopping\n",
    "from tensorflow.keras.preprocessing.sequence import pad_sequences\n",
    "from tensorflow.keras.utils import to_categorical\n",
    "\n",
    "X_train = pad_sequences(X_train, maxlen=max_len)\n",
    "X_test = pad_sequences(X_test, maxlen=max_len)\n",
    "Y_train = to_categorical(y_train)\n",
    "Y_test = to_categorical(y_test)\n",
    "X_train.shape, X_test.shape, Y_train.shape, Y_test.shape"
   ]
  },
  {
   "cell_type": "code",
   "execution_count": 20,
   "metadata": {},
   "outputs": [
    {
     "name": "stdout",
     "output_type": "stream",
     "text": [
      "Model: \"sequential\"\n",
      "_________________________________________________________________\n",
      " Layer (type)                Output Shape              Param #   \n",
      "=================================================================\n",
      " embedding (Embedding)       (None, 100, 64)           64000     \n",
      "                                                                 \n",
      " lstm (LSTM)                 (None, 100)               66000     \n",
      "                                                                 \n",
      " dense (Dense)               (None, 46)                4646      \n",
      "                                                                 \n",
      "=================================================================\n",
      "Total params: 134,646\n",
      "Trainable params: 134,646\n",
      "Non-trainable params: 0\n",
      "_________________________________________________________________\n"
     ]
    }
   ],
   "source": [
    "model = Sequential([ \n",
    "    Embedding(max_words, 64, input_length=max_len),\n",
    "    LSTM(100),\n",
    "    Dense(46, activation='softmax')\n",
    "])\n",
    "model.summary()"
   ]
  },
  {
   "cell_type": "code",
   "execution_count": 21,
   "metadata": {},
   "outputs": [],
   "source": [
    "model.compile('adam', 'categorical_crossentropy', ['accuracy'])"
   ]
  },
  {
   "cell_type": "code",
   "execution_count": 22,
   "metadata": {},
   "outputs": [],
   "source": [
    "model_path = './models/best-reuters-lstm.h5'\n",
    "mc = ModelCheckpoint(model_path, verbose=1, save_best_only=True)\n",
    "es = EarlyStopping(patience=10)"
   ]
  },
  {
   "cell_type": "code",
   "execution_count": 23,
   "metadata": {},
   "outputs": [
    {
     "name": "stdout",
     "output_type": "stream",
     "text": [
      "Epoch 1/100\n",
      "57/57 [==============================] - ETA: 0s - loss: 2.7159 - accuracy: 0.3317\n",
      "Epoch 00001: val_loss improved from inf to 2.40400, saving model to ./models\\best-reuters-lstm.h5\n",
      "57/57 [==============================] - 12s 25ms/step - loss: 2.7159 - accuracy: 0.3317 - val_loss: 2.4040 - val_accuracy: 0.3450\n",
      "Epoch 2/100\n",
      "56/57 [============================>.] - ETA: 0s - loss: 2.4047 - accuracy: 0.3532\n",
      "Epoch 00002: val_loss improved from 2.40400 to 2.38775, saving model to ./models\\best-reuters-lstm.h5\n",
      "57/57 [==============================] - 1s 17ms/step - loss: 2.4047 - accuracy: 0.3534 - val_loss: 2.3877 - val_accuracy: 0.3450\n",
      "Epoch 3/100\n",
      "56/57 [============================>.] - ETA: 0s - loss: 2.1794 - accuracy: 0.4399\n",
      "Epoch 00003: val_loss improved from 2.38775 to 2.01504, saving model to ./models\\best-reuters-lstm.h5\n",
      "57/57 [==============================] - 1s 16ms/step - loss: 2.1788 - accuracy: 0.4401 - val_loss: 2.0150 - val_accuracy: 0.4763\n",
      "Epoch 4/100\n",
      "57/57 [==============================] - ETA: 0s - loss: 1.9448 - accuracy: 0.4965\n",
      "Epoch 00004: val_loss improved from 2.01504 to 1.86378, saving model to ./models\\best-reuters-lstm.h5\n",
      "57/57 [==============================] - 1s 17ms/step - loss: 1.9448 - accuracy: 0.4965 - val_loss: 1.8638 - val_accuracy: 0.5198\n",
      "Epoch 5/100\n",
      "57/57 [==============================] - ETA: 0s - loss: 1.8295 - accuracy: 0.5305\n",
      "Epoch 00005: val_loss improved from 1.86378 to 1.79899, saving model to ./models\\best-reuters-lstm.h5\n",
      "57/57 [==============================] - 1s 16ms/step - loss: 1.8295 - accuracy: 0.5305 - val_loss: 1.7990 - val_accuracy: 0.5342\n",
      "Epoch 6/100\n",
      "57/57 [==============================] - ETA: 0s - loss: 1.7918 - accuracy: 0.5311\n",
      "Epoch 00006: val_loss improved from 1.79899 to 1.73957, saving model to ./models\\best-reuters-lstm.h5\n",
      "57/57 [==============================] - 1s 16ms/step - loss: 1.7918 - accuracy: 0.5311 - val_loss: 1.7396 - val_accuracy: 0.5515\n",
      "Epoch 7/100\n",
      "57/57 [==============================] - ETA: 0s - loss: 1.6900 - accuracy: 0.5646\n",
      "Epoch 00007: val_loss improved from 1.73957 to 1.68916, saving model to ./models\\best-reuters-lstm.h5\n",
      "57/57 [==============================] - 1s 17ms/step - loss: 1.6900 - accuracy: 0.5646 - val_loss: 1.6892 - val_accuracy: 0.5732\n",
      "Epoch 8/100\n",
      "54/57 [===========================>..] - ETA: 0s - loss: 1.6652 - accuracy: 0.5700\n",
      "Epoch 00008: val_loss improved from 1.68916 to 1.62225, saving model to ./models\\best-reuters-lstm.h5\n",
      "57/57 [==============================] - 1s 16ms/step - loss: 1.6608 - accuracy: 0.5717 - val_loss: 1.6223 - val_accuracy: 0.5826\n",
      "Epoch 9/100\n",
      "57/57 [==============================] - ETA: 0s - loss: 1.5878 - accuracy: 0.6021\n",
      "Epoch 00009: val_loss improved from 1.62225 to 1.59923, saving model to ./models\\best-reuters-lstm.h5\n",
      "57/57 [==============================] - 1s 15ms/step - loss: 1.5878 - accuracy: 0.6021 - val_loss: 1.5992 - val_accuracy: 0.6027\n",
      "Epoch 10/100\n",
      "55/57 [===========================>..] - ETA: 0s - loss: 1.5064 - accuracy: 0.6226\n",
      "Epoch 00010: val_loss improved from 1.59923 to 1.53828, saving model to ./models\\best-reuters-lstm.h5\n",
      "57/57 [==============================] - 1s 16ms/step - loss: 1.5019 - accuracy: 0.6239 - val_loss: 1.5383 - val_accuracy: 0.5971\n",
      "Epoch 11/100\n",
      "53/57 [==========================>...] - ETA: 0s - loss: 1.4295 - accuracy: 0.6334\n",
      "Epoch 00011: val_loss improved from 1.53828 to 1.51383, saving model to ./models\\best-reuters-lstm.h5\n",
      "57/57 [==============================] - 1s 15ms/step - loss: 1.4292 - accuracy: 0.6344 - val_loss: 1.5138 - val_accuracy: 0.6221\n",
      "Epoch 12/100\n",
      "55/57 [===========================>..] - ETA: 0s - loss: 1.4095 - accuracy: 0.6392\n",
      "Epoch 00012: val_loss improved from 1.51383 to 1.48103, saving model to ./models\\best-reuters-lstm.h5\n",
      "57/57 [==============================] - 1s 15ms/step - loss: 1.4088 - accuracy: 0.6395 - val_loss: 1.4810 - val_accuracy: 0.6238\n",
      "Epoch 13/100\n",
      "53/57 [==========================>...] - ETA: 0s - loss: 1.3564 - accuracy: 0.6557\n",
      "Epoch 00013: val_loss improved from 1.48103 to 1.46313, saving model to ./models\\best-reuters-lstm.h5\n",
      "57/57 [==============================] - 1s 16ms/step - loss: 1.3561 - accuracy: 0.6555 - val_loss: 1.4631 - val_accuracy: 0.6394\n",
      "Epoch 14/100\n",
      "57/57 [==============================] - ETA: 0s - loss: 1.3157 - accuracy: 0.6650\n",
      "Epoch 00014: val_loss improved from 1.46313 to 1.41829, saving model to ./models\\best-reuters-lstm.h5\n",
      "57/57 [==============================] - 1s 15ms/step - loss: 1.3157 - accuracy: 0.6650 - val_loss: 1.4183 - val_accuracy: 0.6439\n",
      "Epoch 15/100\n",
      "54/57 [===========================>..] - ETA: 0s - loss: 1.2658 - accuracy: 0.6769\n",
      "Epoch 00015: val_loss did not improve from 1.41829\n",
      "57/57 [==============================] - 1s 16ms/step - loss: 1.2705 - accuracy: 0.6750 - val_loss: 1.4445 - val_accuracy: 0.6461\n",
      "Epoch 16/100\n",
      "54/57 [===========================>..] - ETA: 0s - loss: 1.2480 - accuracy: 0.6833\n",
      "Epoch 00016: val_loss improved from 1.41829 to 1.37422, saving model to ./models\\best-reuters-lstm.h5\n",
      "57/57 [==============================] - 1s 15ms/step - loss: 1.2464 - accuracy: 0.6838 - val_loss: 1.3742 - val_accuracy: 0.6561\n",
      "Epoch 17/100\n",
      "57/57 [==============================] - ETA: 0s - loss: 1.1961 - accuracy: 0.6926\n",
      "Epoch 00017: val_loss did not improve from 1.37422\n",
      "57/57 [==============================] - 1s 15ms/step - loss: 1.1961 - accuracy: 0.6926 - val_loss: 1.3762 - val_accuracy: 0.6667\n",
      "Epoch 18/100\n",
      "54/57 [===========================>..] - ETA: 0s - loss: 1.2069 - accuracy: 0.6889\n",
      "Epoch 00018: val_loss improved from 1.37422 to 1.35704, saving model to ./models\\best-reuters-lstm.h5\n",
      "57/57 [==============================] - 1s 15ms/step - loss: 1.2099 - accuracy: 0.6882 - val_loss: 1.3570 - val_accuracy: 0.6750\n",
      "Epoch 19/100\n",
      "55/57 [===========================>..] - ETA: 0s - loss: 1.1314 - accuracy: 0.7091\n",
      "Epoch 00019: val_loss improved from 1.35704 to 1.33435, saving model to ./models\\best-reuters-lstm.h5\n",
      "57/57 [==============================] - 1s 15ms/step - loss: 1.1303 - accuracy: 0.7090 - val_loss: 1.3343 - val_accuracy: 0.6756\n",
      "Epoch 20/100\n",
      "57/57 [==============================] - ETA: 0s - loss: 1.0945 - accuracy: 0.7166\n",
      "Epoch 00020: val_loss improved from 1.33435 to 1.32093, saving model to ./models\\best-reuters-lstm.h5\n",
      "57/57 [==============================] - 1s 16ms/step - loss: 1.0945 - accuracy: 0.7166 - val_loss: 1.3209 - val_accuracy: 0.6733\n",
      "Epoch 21/100\n",
      "57/57 [==============================] - ETA: 0s - loss: 1.0618 - accuracy: 0.7317\n",
      "Epoch 00021: val_loss improved from 1.32093 to 1.31589, saving model to ./models\\best-reuters-lstm.h5\n",
      "57/57 [==============================] - 1s 16ms/step - loss: 1.0618 - accuracy: 0.7317 - val_loss: 1.3159 - val_accuracy: 0.6839\n",
      "Epoch 22/100\n",
      "53/57 [==========================>...] - ETA: 0s - loss: 1.0399 - accuracy: 0.7354\n",
      "Epoch 00022: val_loss improved from 1.31589 to 1.28839, saving model to ./models\\best-reuters-lstm.h5\n",
      "57/57 [==============================] - 1s 16ms/step - loss: 1.0432 - accuracy: 0.7340 - val_loss: 1.2884 - val_accuracy: 0.6867\n",
      "Epoch 23/100\n",
      "53/57 [==========================>...] - ETA: 0s - loss: 1.0136 - accuracy: 0.7392\n",
      "Epoch 00023: val_loss did not improve from 1.28839\n",
      "57/57 [==============================] - 1s 15ms/step - loss: 1.0162 - accuracy: 0.7393 - val_loss: 1.3556 - val_accuracy: 0.6644\n",
      "Epoch 24/100\n",
      "53/57 [==========================>...] - ETA: 0s - loss: 1.0225 - accuracy: 0.7338\n",
      "Epoch 00024: val_loss improved from 1.28839 to 1.27267, saving model to ./models\\best-reuters-lstm.h5\n",
      "57/57 [==============================] - 1s 15ms/step - loss: 1.0227 - accuracy: 0.7331 - val_loss: 1.2727 - val_accuracy: 0.6939\n",
      "Epoch 25/100\n",
      "53/57 [==========================>...] - ETA: 0s - loss: 0.9645 - accuracy: 0.7522\n",
      "Epoch 00025: val_loss improved from 1.27267 to 1.26691, saving model to ./models\\best-reuters-lstm.h5\n",
      "57/57 [==============================] - 1s 15ms/step - loss: 0.9602 - accuracy: 0.7535 - val_loss: 1.2669 - val_accuracy: 0.6928\n",
      "Epoch 26/100\n",
      "53/57 [==========================>...] - ETA: 0s - loss: 0.9135 - accuracy: 0.7664\n",
      "Epoch 00026: val_loss did not improve from 1.26691\n",
      "57/57 [==============================] - 1s 15ms/step - loss: 0.9201 - accuracy: 0.7653 - val_loss: 1.3083 - val_accuracy: 0.6884\n",
      "Epoch 27/100\n",
      "54/57 [===========================>..] - ETA: 0s - loss: 0.8970 - accuracy: 0.7718\n",
      "Epoch 00027: val_loss did not improve from 1.26691\n",
      "57/57 [==============================] - 1s 15ms/step - loss: 0.8949 - accuracy: 0.7723 - val_loss: 1.3002 - val_accuracy: 0.6939\n",
      "Epoch 28/100\n",
      "54/57 [===========================>..] - ETA: 0s - loss: 0.8726 - accuracy: 0.7791\n",
      "Epoch 00028: val_loss improved from 1.26691 to 1.26674, saving model to ./models\\best-reuters-lstm.h5\n",
      "57/57 [==============================] - 1s 15ms/step - loss: 0.8705 - accuracy: 0.7795 - val_loss: 1.2667 - val_accuracy: 0.6984\n",
      "Epoch 29/100\n",
      "57/57 [==============================] - ETA: 0s - loss: 0.8561 - accuracy: 0.7832\n",
      "Epoch 00029: val_loss did not improve from 1.26674\n",
      "57/57 [==============================] - 1s 15ms/step - loss: 0.8561 - accuracy: 0.7832 - val_loss: 1.2868 - val_accuracy: 0.7017\n",
      "Epoch 30/100\n",
      "54/57 [===========================>..] - ETA: 0s - loss: 0.8146 - accuracy: 0.7950\n",
      "Epoch 00030: val_loss did not improve from 1.26674\n",
      "57/57 [==============================] - 1s 15ms/step - loss: 0.8113 - accuracy: 0.7967 - val_loss: 1.3031 - val_accuracy: 0.7045\n",
      "Epoch 31/100\n",
      "57/57 [==============================] - ETA: 0s - loss: 0.8200 - accuracy: 0.7935\n",
      "Epoch 00031: val_loss did not improve from 1.26674\n",
      "57/57 [==============================] - 1s 16ms/step - loss: 0.8200 - accuracy: 0.7935 - val_loss: 1.2875 - val_accuracy: 0.6967\n",
      "Epoch 32/100\n",
      "53/57 [==========================>...] - ETA: 0s - loss: 0.7788 - accuracy: 0.8011\n",
      "Epoch 00032: val_loss did not improve from 1.26674\n",
      "57/57 [==============================] - 1s 15ms/step - loss: 0.7835 - accuracy: 0.8003 - val_loss: 1.2950 - val_accuracy: 0.7067\n",
      "Epoch 33/100\n",
      "57/57 [==============================] - ETA: 0s - loss: 0.7546 - accuracy: 0.8116\n",
      "Epoch 00033: val_loss did not improve from 1.26674\n",
      "57/57 [==============================] - 1s 15ms/step - loss: 0.7546 - accuracy: 0.8116 - val_loss: 1.3157 - val_accuracy: 0.6934\n",
      "Epoch 34/100\n",
      "54/57 [===========================>..] - ETA: 0s - loss: 0.7310 - accuracy: 0.8171\n",
      "Epoch 00034: val_loss did not improve from 1.26674\n",
      "57/57 [==============================] - 1s 15ms/step - loss: 0.7331 - accuracy: 0.8159 - val_loss: 1.2970 - val_accuracy: 0.7006\n",
      "Epoch 35/100\n",
      "57/57 [==============================] - ETA: 0s - loss: 0.7100 - accuracy: 0.8188\n",
      "Epoch 00035: val_loss did not improve from 1.26674\n",
      "57/57 [==============================] - 1s 15ms/step - loss: 0.7100 - accuracy: 0.8188 - val_loss: 1.3766 - val_accuracy: 0.6956\n",
      "Epoch 36/100\n",
      "55/57 [===========================>..] - ETA: 0s - loss: 0.6973 - accuracy: 0.8230\n",
      "Epoch 00036: val_loss did not improve from 1.26674\n",
      "57/57 [==============================] - 1s 15ms/step - loss: 0.6959 - accuracy: 0.8237 - val_loss: 1.3459 - val_accuracy: 0.7056\n",
      "Epoch 37/100\n",
      "56/57 [============================>.] - ETA: 0s - loss: 0.6948 - accuracy: 0.8235\n",
      "Epoch 00037: val_loss did not improve from 1.26674\n",
      "57/57 [==============================] - 1s 14ms/step - loss: 0.6937 - accuracy: 0.8238 - val_loss: 1.3159 - val_accuracy: 0.7168\n",
      "Epoch 38/100\n",
      "55/57 [===========================>..] - ETA: 0s - loss: 0.6575 - accuracy: 0.8332\n",
      "Epoch 00038: val_loss did not improve from 1.26674\n",
      "57/57 [==============================] - 1s 14ms/step - loss: 0.6599 - accuracy: 0.8327 - val_loss: 1.3266 - val_accuracy: 0.7134\n"
     ]
    }
   ],
   "source": [
    "hist = model.fit(\n",
    "    X_train, Y_train, validation_split=0.2, epochs=100, batch_size=128, callbacks=[mc,es]\n",
    ")"
   ]
  },
  {
   "cell_type": "code",
   "execution_count": 24,
   "metadata": {},
   "outputs": [
    {
     "name": "stdout",
     "output_type": "stream",
     "text": [
      "71/71 [==============================] - 1s 4ms/step - loss: 1.3021 - accuracy: 0.6870\n"
     ]
    },
    {
     "data": {
      "text/plain": [
       "[1.3020752668380737, 0.6869990825653076]"
      ]
     },
     "execution_count": 24,
     "metadata": {},
     "output_type": "execute_result"
    }
   ],
   "source": [
    "best_model = load_model(model_path)\n",
    "best_model.evaluate(X_test, Y_test)"
   ]
  },
  {
   "cell_type": "code",
   "execution_count": 25,
   "metadata": {},
   "outputs": [],
   "source": [
    "y_acc = hist.history['accuracy']\n",
    "y_vloss = hist.history['val_loss']\n",
    "xs = np.arange(1, len(y_acc)+1)"
   ]
  },
  {
   "cell_type": "code",
   "execution_count": 26,
   "metadata": {},
   "outputs": [
    {
     "data": {
      "image/png": "[encoded data removed]",
      "text/plain": [
       "<Figure size 864x576 with 1 Axes>"
      ]
     },
     "metadata": {
      "needs_background": "light"
     },
     "output_type": "display_data"
    }
   ],
   "source": [
    "plt.figure(figsize=(12,8))\n",
    "plt.plot(xs, y_acc, label='train accuracy')\n",
    "plt.plot(xs, y_vloss, label='validation loss')\n",
    "plt.legend(), plt.grid()\n",
    "plt.xlabel('Epoch')\n",
    "plt.show()"
   ]
  }
 ],
 "metadata": {
  "interpreter": {
   "hash": "68756eb6c044f31c46e3e1f38723aea1f0146198488dd3d60c0e4241eb6f7dd0"
  },
  "kernelspec": {
   "display_name": "Python 3.9.12 ('base')",
   "language": "python",
   "name": "python3"
  },
  "language_info": {
   "codemirror_mode": {
    "name": "ipython",
    "version": 3
   },
   "file_extension": ".py",
   "mimetype": "text/x-python",
   "name": "python",
   "nbconvert_exporter": "python",
   "pygments_lexer": "ipython3",
   "version": "3.9.12"
  },
  "orig_nbformat": 4
 },
 "nbformat": 4,
 "nbformat_minor": 2
}
