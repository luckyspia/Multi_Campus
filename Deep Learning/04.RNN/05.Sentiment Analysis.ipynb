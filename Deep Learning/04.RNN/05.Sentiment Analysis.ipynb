{
 "cells": [
  {
   "cell_type": "markdown",
   "metadata": {},
   "source": [
    "## IMDB with RNN"
   ]
  },
  {
   "cell_type": "code",
   "execution_count": 1,
   "metadata": {},
   "outputs": [
    {
     "name": "stdout",
     "output_type": "stream",
     "text": [
      "Downloading data from https://storage.googleapis.com/tensorflow/tf-keras-datasets/imdb.npz\n",
      "17465344/17464789 [==============================] - 0s 0us/step\n",
      "17473536/17464789 [==============================] - 0s 0us/step\n"
     ]
    }
   ],
   "source": [
    "from tensorflow.keras.datasets import imdb\n",
    "(X_train, y_train), (X_test, y_test) = imdb.load_data()"
   ]
  },
  {
   "cell_type": "code",
   "execution_count": 2,
   "metadata": {},
   "outputs": [
    {
     "data": {
      "text/plain": [
       "((25000,), (25000,), (25000,), (25000,))"
      ]
     },
     "execution_count": 2,
     "metadata": {},
     "output_type": "execute_result"
    }
   ],
   "source": [
    "X_train.shape, X_test.shape, y_train.shape, y_test.shape"
   ]
  },
  {
   "cell_type": "code",
   "execution_count": 3,
   "metadata": {},
   "outputs": [
    {
     "name": "stdout",
     "output_type": "stream",
     "text": [
      "[1, 14, 22, 16, 43, 530, 973, 1622, 1385, 65, 458, 4468, 66, 3941, 4, 173, 36, 256, 5, 25, 100, 43, 838, 112, 50, 670, 22665, 9, 35, 480, 284, 5, 150, 4, 172, 112, 167, 21631, 336, 385, 39, 4, 172, 4536, 1111, 17, 546, 38, 13, 447, 4, 192, 50, 16, 6, 147, 2025, 19, 14, 22, 4, 1920, 4613, 469, 4, 22, 71, 87, 12, 16, 43, 530, 38, 76, 15, 13, 1247, 4, 22, 17, 515, 17, 12, 16, 626, 18, 19193, 5, 62, 386, 12, 8, 316, 8, 106, 5, 4, 2223, 5244, 16, 480, 66, 3785, 33, 4, 130, 12, 16, 38, 619, 5, 25, 124, 51, 36, 135, 48, 25, 1415, 33, 6, 22, 12, 215, 28, 77, 52, 5, 14, 407, 16, 82, 10311, 8, 4, 107, 117, 5952, 15, 256, 4, 31050, 7, 3766, 5, 723, 36, 71, 43, 530, 476, 26, 400, 317, 46, 7, 4, 12118, 1029, 13, 104, 88, 4, 381, 15, 297, 98, 32, 2071, 56, 26, 141, 6, 194, 7486, 18, 4, 226, 22, 21, 134, 476, 26, 480, 5, 144, 30, 5535, 18, 51, 36, 28, 224, 92, 25, 104, 4, 226, 65, 16, 38, 1334, 88, 12, 16, 283, 5, 16, 4472, 113, 103, 32, 15, 16, 5345, 19, 178, 32]\n"
     ]
    }
   ],
   "source": [
    "print(X_train[0])"
   ]
  },
  {
   "cell_type": "code",
   "execution_count": 4,
   "metadata": {},
   "outputs": [
    {
     "name": "stdout",
     "output_type": "stream",
     "text": [
      "Downloading data from https://storage.googleapis.com/tensorflow/tf-keras-datasets/imdb_word_index.json\n",
      "1646592/1641221 [==============================] - 0s 0us/step\n",
      "1654784/1641221 [==============================] - 0s 0us/step\n"
     ]
    },
    {
     "data": {
      "text/plain": [
       "88584"
      ]
     },
     "execution_count": 4,
     "metadata": {},
     "output_type": "execute_result"
    }
   ],
   "source": [
    "# 등장한 단어 수\n",
    "len(imdb.get_word_index())"
   ]
  },
  {
   "cell_type": "code",
   "execution_count": 5,
   "metadata": {},
   "outputs": [
    {
     "data": {
      "text/plain": [
       "(2494, 238.71364)"
      ]
     },
     "execution_count": 5,
     "metadata": {},
     "output_type": "execute_result"
    }
   ],
   "source": [
    "# 리뷰 최대 길이, 평균 길이\n",
    "max(len(s) for s in X_train), sum(map(len, X_train)) / len(X_train)"
   ]
  },
  {
   "cell_type": "markdown",
   "metadata": {},
   "source": [
    "#### LSTM Sentiment Analysis\n",
    "- 단어 빈도수: 10,000 (총 88,584)\n",
    "- 리뷰 단어수: 500 (최대 2,494)\n",
    "- 최대 데이터 갯수 → 개별 학습\n",
    "  - train: 25,000 valid: 10,000 test: 15,000"
   ]
  },
  {
   "cell_type": "code",
   "execution_count": 7,
   "metadata": {},
   "outputs": [],
   "source": [
    "import numpy as np\n",
    "import tensorflow as tf\n",
    "seed = 2022\n",
    "np.random.seed(seed)\n",
    "tf.random.set_seed(seed)"
   ]
  },
  {
   "cell_type": "code",
   "execution_count": 14,
   "metadata": {},
   "outputs": [],
   "source": [
    "from tensorflow.keras.models import Sequential, load_model\n",
    "from tensorflow.keras.layers import Embedding, LSTM, Dense\n",
    "from tensorflow.keras.callbacks import ModelCheckpoint, EarlyStopping\n",
    "from sklearn.model_selection import train_test_split\n",
    "from tensorflow.keras.preprocessing.sequence import pad_sequences"
   ]
  },
  {
   "cell_type": "code",
   "execution_count": null,
   "metadata": {},
   "outputs": [],
   "source": [
    "# Full Course\n",
    "X_test, X_valid, y_test, y_valid = train_test_split(\n",
    "    X_test, y_test, test_size=0.4, stratify=y_test\n",
    ")"
   ]
  },
  {
   "cell_type": "code",
   "execution_count": 18,
   "metadata": {},
   "outputs": [],
   "source": [
    "num_words = 10000\n",
    "(X_train, y_train), (_, _) = imdb.load_data(num_words=num_words)"
   ]
  },
  {
   "cell_type": "code",
   "execution_count": 19,
   "metadata": {},
   "outputs": [
    {
     "data": {
      "text/plain": [
       "((20000,), (5000,), (20000,), (5000,))"
      ]
     },
     "execution_count": 19,
     "metadata": {},
     "output_type": "execute_result"
    }
   ],
   "source": [
    "# Simple Course\n",
    "X_train, X_test, y_train, y_test = train_test_split(\n",
    "    X_train, y_train, stratify=y_train, test_size=0.2, random_state=2022\n",
    ")\n",
    "X_train.shape, X_test.shape, y_train.shape, y_test.shape"
   ]
  },
  {
   "cell_type": "code",
   "execution_count": 20,
   "metadata": {},
   "outputs": [
    {
     "data": {
      "text/plain": [
       "((20000, 500), (5000, 500))"
      ]
     },
     "execution_count": 20,
     "metadata": {},
     "output_type": "execute_result"
    }
   ],
   "source": [
    "max_len = 500\n",
    "X_train = pad_sequences(X_train, maxlen=max_len)\n",
    "X_test = pad_sequences(X_test, maxlen=max_len)\n",
    "X_train.shape, X_test.shape"
   ]
  },
  {
   "cell_type": "code",
   "execution_count": 21,
   "metadata": {},
   "outputs": [
    {
     "name": "stdout",
     "output_type": "stream",
     "text": [
      "Model: \"sequential\"\n",
      "_________________________________________________________________\n",
      " Layer (type)                Output Shape              Param #   \n",
      "=================================================================\n",
      " embedding (Embedding)       (None, 500, 100)          1000000   \n",
      "                                                                 \n",
      " lstm (LSTM)                 (None, 128)               117248    \n",
      "                                                                 \n",
      " dense (Dense)               (None, 1)                 129       \n",
      "                                                                 \n",
      "=================================================================\n",
      "Total params: 1,117,377\n",
      "Trainable params: 1,117,377\n",
      "Non-trainable params: 0\n",
      "_________________________________________________________________\n"
     ]
    }
   ],
   "source": [
    "model = Sequential([\n",
    "    Embedding(num_words, 100, input_length=max_len), # 10,000개의 단어를 100차원으로 축소\n",
    "    LSTM(128),\n",
    "    Dense(1, activation='sigmoid')\n",
    "])\n",
    "model.summary()\n",
    "# Embedding shape (500, 100) = 500 단어, 100 개의 임베딩 vector 차원"
   ]
  },
  {
   "cell_type": "code",
   "execution_count": 22,
   "metadata": {},
   "outputs": [],
   "source": [
    "model.compile('adam', 'binary_crossentropy', ['accuracy'])"
   ]
  },
  {
   "cell_type": "code",
   "execution_count": 23,
   "metadata": {},
   "outputs": [],
   "source": [
    "model_path = './models/best-imdb-lstm.h5'\n",
    "mc = ModelCheckpoint(model_path, verbose=1, save_best_only=True)\n",
    "es = EarlyStopping(patience=5)"
   ]
  },
  {
   "cell_type": "code",
   "execution_count": 24,
   "metadata": {},
   "outputs": [
    {
     "name": "stdout",
     "output_type": "stream",
     "text": [
      "Epoch 1/30\n",
      "243/244 [============================>.] - ETA: 0s - loss: 0.4820 - accuracy: 0.7614\n",
      "Epoch 00001: val_loss improved from inf to 0.33993, saving model to ./models\\best-imdb-lstm.h5\n",
      "244/244 [==============================] - 27s 60ms/step - loss: 0.4814 - accuracy: 0.7617 - val_loss: 0.3399 - val_accuracy: 0.8561\n",
      "Epoch 2/30\n",
      "243/244 [============================>.] - ETA: 0s - loss: 0.2569 - accuracy: 0.8992\n",
      "Epoch 00002: val_loss improved from 0.33993 to 0.32649, saving model to ./models\\best-imdb-lstm.h5\n",
      "244/244 [==============================] - 13s 55ms/step - loss: 0.2568 - accuracy: 0.8991 - val_loss: 0.3265 - val_accuracy: 0.8686\n",
      "Epoch 3/30\n",
      "244/244 [==============================] - ETA: 0s - loss: 0.1990 - accuracy: 0.9254\n",
      "Epoch 00003: val_loss did not improve from 0.32649\n",
      "244/244 [==============================] - 13s 53ms/step - loss: 0.1990 - accuracy: 0.9254 - val_loss: 0.3880 - val_accuracy: 0.8611\n",
      "Epoch 4/30\n",
      "244/244 [==============================] - ETA: 0s - loss: 0.1384 - accuracy: 0.9499\n",
      "Epoch 00004: val_loss did not improve from 0.32649\n",
      "244/244 [==============================] - 13s 54ms/step - loss: 0.1384 - accuracy: 0.9499 - val_loss: 0.3936 - val_accuracy: 0.8636\n",
      "Epoch 5/30\n",
      "244/244 [==============================] - ETA: 0s - loss: 0.1821 - accuracy: 0.9291\n",
      "Epoch 00005: val_loss did not improve from 0.32649\n",
      "244/244 [==============================] - 13s 54ms/step - loss: 0.1821 - accuracy: 0.9291 - val_loss: 0.3908 - val_accuracy: 0.8564\n",
      "Epoch 6/30\n",
      "244/244 [==============================] - ETA: 0s - loss: 0.0801 - accuracy: 0.9728\n",
      "Epoch 00006: val_loss did not improve from 0.32649\n",
      "244/244 [==============================] - 15s 60ms/step - loss: 0.0801 - accuracy: 0.9728 - val_loss: 0.4576 - val_accuracy: 0.8593\n",
      "Epoch 7/30\n",
      "244/244 [==============================] - ETA: 0s - loss: 0.0549 - accuracy: 0.9831\n",
      "Epoch 00007: val_loss did not improve from 0.32649\n",
      "244/244 [==============================] - 14s 57ms/step - loss: 0.0549 - accuracy: 0.9831 - val_loss: 0.5000 - val_accuracy: 0.8482\n"
     ]
    }
   ],
   "source": [
    "hist = model.fit(\n",
    "    X_train, y_train, validation_split=0.22,\n",
    "    epochs=30, batch_size=64,callbacks=[mc, es]\n",
    ")"
   ]
  },
  {
   "cell_type": "code",
   "execution_count": 25,
   "metadata": {},
   "outputs": [
    {
     "name": "stdout",
     "output_type": "stream",
     "text": [
      "157/157 [==============================] - 3s 20ms/step - loss: 0.3226 - accuracy: 0.8662\n"
     ]
    },
    {
     "data": {
      "text/plain": [
       "[0.32260990142822266, 0.8661999702453613]"
      ]
     },
     "execution_count": 25,
     "metadata": {},
     "output_type": "execute_result"
    }
   ],
   "source": [
    "best_model = load_model(model_path)\n",
    "best_model.evaluate(X_test, y_test)"
   ]
  },
  {
   "cell_type": "code",
   "execution_count": 26,
   "metadata": {},
   "outputs": [
    {
     "data": {
      "image/png": "[encoded data removed]",
      "text/plain": [
       "<Figure size 864x576 with 1 Axes>"
      ]
     },
     "metadata": {
      "needs_background": "light"
     },
     "output_type": "display_data"
    }
   ],
   "source": [
    "import matplotlib.pyplot as plt\n",
    "\n",
    "y_acc = hist.history['accuracy']\n",
    "y_loss = hist.history['loss']\n",
    "xs = np.arange(1, len(y_acc)+1)\n",
    "\n",
    "plt.figure(figsize=(12, 8))\n",
    "plt.plot(xs, y_acc, label='train accuracy')\n",
    "plt.plot(xs, y_loss, label='train vloss')\n",
    "plt.legend(), plt.grid()\n",
    "plt.xlabel('Epoch'), plt.title('LSTM');"
   ]
  },
  {
   "cell_type": "markdown",
   "metadata": {},
   "source": [
    "## IMDB Sentiment Analysis - Conv1D\n",
    "- Conv1D + Conv1D + Dense (Case 1)\n",
    "- Conv1D + LSTM + Dense (Case 2)\n",
    "- Conv1D + Dense + Dense (Case 3)"
   ]
  },
  {
   "cell_type": "code",
   "execution_count": 34,
   "metadata": {},
   "outputs": [],
   "source": [
    "# Global Maxpooling = Flatten + Maxpooling\n",
    "from tensorflow.keras.datasets import imdb\n",
    "from tensorflow.keras.models import Sequential, load_model\n",
    "from tensorflow.keras.layers import Embedding, LSTM, Dense, Conv1D, MaxPooling1D, GlobalMaxPool1D, Dropout\n",
    "from tensorflow.keras.callbacks import ModelCheckpoint, EarlyStopping\n",
    "from sklearn.model_selection import train_test_split\n",
    "from tensorflow.keras.preprocessing.sequence import pad_sequences"
   ]
  },
  {
   "cell_type": "code",
   "execution_count": 29,
   "metadata": {},
   "outputs": [],
   "source": [
    "num_words = 10000\n",
    "(X_train, y_train), (_, _) = imdb.load_data(num_words=num_words)"
   ]
  },
  {
   "cell_type": "code",
   "execution_count": 30,
   "metadata": {},
   "outputs": [
    {
     "data": {
      "text/plain": [
       "((20000,), (5000,), (20000,), (5000,))"
      ]
     },
     "execution_count": 30,
     "metadata": {},
     "output_type": "execute_result"
    }
   ],
   "source": [
    "X_train, X_test, y_train, y_test = train_test_split(\n",
    "    X_train, y_train, stratify=y_train, test_size=0.2, random_state=2022\n",
    ")\n",
    "X_train.shape, X_test.shape, y_train.shape, y_test.shape"
   ]
  },
  {
   "cell_type": "code",
   "execution_count": 31,
   "metadata": {},
   "outputs": [
    {
     "data": {
      "text/plain": [
       "((20000, 500), (5000, 500))"
      ]
     },
     "execution_count": 31,
     "metadata": {},
     "output_type": "execute_result"
    }
   ],
   "source": [
    "max_len = 500\n",
    "X_train = pad_sequences(X_train, maxlen=max_len)\n",
    "X_test = pad_sequences(X_test, maxlen=max_len)\n",
    "X_train.shape, X_test.shape"
   ]
  },
  {
   "cell_type": "markdown",
   "metadata": {},
   "source": [
    "#### Case 1) Conv1D x 2 "
   ]
  },
  {
   "cell_type": "code",
   "execution_count": 35,
   "metadata": {},
   "outputs": [
    {
     "name": "stdout",
     "output_type": "stream",
     "text": [
      "Model: \"sequential_1\"\n",
      "_________________________________________________________________\n",
      " Layer (type)                Output Shape              Param #   \n",
      "=================================================================\n",
      " embedding_1 (Embedding)     (None, 500, 100)          1000000   \n",
      "                                                                 \n",
      " dropout (Dropout)           (None, 500, 100)          0         \n",
      "                                                                 \n",
      " conv1d (Conv1D)             (None, 494, 64)           44864     \n",
      "                                                                 \n",
      " max_pooling1d (MaxPooling1D  (None, 70, 64)           0         \n",
      " )                                                               \n",
      "                                                                 \n",
      " conv1d_1 (Conv1D)           (None, 66, 64)            20544     \n",
      "                                                                 \n",
      " max_pooling1d_1 (MaxPooling  (None, 13, 64)           0         \n",
      " 1D)                                                             \n",
      "                                                                 \n",
      " global_max_pooling1d (Globa  (None, 64)               0         \n",
      " lMaxPooling1D)                                                  \n",
      "                                                                 \n",
      " dense_1 (Dense)             (None, 1)                 65        \n",
      "                                                                 \n",
      "=================================================================\n",
      "Total params: 1,065,473\n",
      "Trainable params: 1,065,473\n",
      "Non-trainable params: 0\n",
      "_________________________________________________________________\n"
     ]
    }
   ],
   "source": [
    "model_1 = Sequential([\n",
    "    Embedding(num_words, 100, input_length=max_len),\n",
    "    Dropout(0.5),\n",
    "    Conv1D(64, 7, activation='relu'), # height = 7\n",
    "    MaxPooling1D(7), # Conv1D 와 size를 맞춰줌\n",
    "    Conv1D(64, 5, activation='relu'),\n",
    "    MaxPooling1D(5),\n",
    "    GlobalMaxPool1D(),\n",
    "    Dense(1, activation='sigmoid')\n",
    "])\n",
    "model_1.summary()\n",
    "# MaxPooling output = 494개의 행을 7개씩 나눠서 Max 값을 처리, 나머지 4개는 Maxpooling을 진행하지 않음"
   ]
  },
  {
   "cell_type": "code",
   "execution_count": 43,
   "metadata": {},
   "outputs": [],
   "source": [
    "model_1.compile('adam', 'binary_crossentropy',['accuracy'])\n",
    "\n",
    "model_1_path = './models/best-imdb-conv1d.h5'\n",
    "mc = ModelCheckpoint(model_1_path, verbose=1, save_best_only=True)\n",
    "es = EarlyStopping(patience=5)"
   ]
  },
  {
   "cell_type": "code",
   "execution_count": 44,
   "metadata": {},
   "outputs": [
    {
     "name": "stdout",
     "output_type": "stream",
     "text": [
      "Epoch 1/30\n",
      "238/244 [============================>.] - ETA: 0s - loss: 0.0165 - accuracy: 0.9949\n",
      "Epoch 00001: val_loss improved from inf to 0.75492, saving model to ./models\\best-imdb-conv1d.h5\n",
      "244/244 [==============================] - 3s 8ms/step - loss: 0.0164 - accuracy: 0.9948 - val_loss: 0.7549 - val_accuracy: 0.8552\n",
      "Epoch 2/30\n",
      "237/244 [============================>.] - ETA: 0s - loss: 0.0079 - accuracy: 0.9980\n",
      "Epoch 00002: val_loss did not improve from 0.75492\n",
      "244/244 [==============================] - 2s 7ms/step - loss: 0.0079 - accuracy: 0.9979 - val_loss: 0.8336 - val_accuracy: 0.8534\n",
      "Epoch 3/30\n",
      "240/244 [============================>.] - ETA: 0s - loss: 0.0057 - accuracy: 0.9986\n",
      "Epoch 00003: val_loss did not improve from 0.75492\n",
      "244/244 [==============================] - 2s 7ms/step - loss: 0.0056 - accuracy: 0.9986 - val_loss: 0.8884 - val_accuracy: 0.8573\n",
      "Epoch 4/30\n",
      "240/244 [============================>.] - ETA: 0s - loss: 0.0064 - accuracy: 0.9982\n",
      "Epoch 00004: val_loss did not improve from 0.75492\n",
      "244/244 [==============================] - 2s 7ms/step - loss: 0.0065 - accuracy: 0.9981 - val_loss: 0.9323 - val_accuracy: 0.8548\n",
      "Epoch 5/30\n",
      "241/244 [============================>.] - ETA: 0s - loss: 0.0057 - accuracy: 0.9986\n",
      "Epoch 00005: val_loss did not improve from 0.75492\n",
      "244/244 [==============================] - 2s 7ms/step - loss: 0.0057 - accuracy: 0.9986 - val_loss: 0.9458 - val_accuracy: 0.8614\n",
      "Epoch 6/30\n",
      "243/244 [============================>.] - ETA: 0s - loss: 0.0088 - accuracy: 0.9970\n",
      "Epoch 00006: val_loss did not improve from 0.75492\n",
      "244/244 [==============================] - 2s 7ms/step - loss: 0.0088 - accuracy: 0.9971 - val_loss: 1.0445 - val_accuracy: 0.8525\n"
     ]
    }
   ],
   "source": [
    "hist_1 = model_1.fit(\n",
    "    X_train, y_train, validation_split=0.22,\n",
    "    epochs=30, batch_size=64,callbacks=[mc, es]\n",
    ")"
   ]
  },
  {
   "cell_type": "code",
   "execution_count": 45,
   "metadata": {},
   "outputs": [
    {
     "name": "stdout",
     "output_type": "stream",
     "text": [
      "157/157 [==============================] - 0s 2ms/step - loss: 0.7302 - accuracy: 0.8564\n"
     ]
    },
    {
     "data": {
      "text/plain": [
       "[0.7301812767982483, 0.8564000129699707]"
      ]
     },
     "execution_count": 45,
     "metadata": {},
     "output_type": "execute_result"
    }
   ],
   "source": [
    "best_model = load_model(model_1_path)\n",
    "best_model.evaluate(X_test, y_test)"
   ]
  },
  {
   "cell_type": "code",
   "execution_count": 46,
   "metadata": {},
   "outputs": [
    {
     "data": {
      "image/png": "[encoded data removed]",
      "text/plain": [
       "<Figure size 864x576 with 1 Axes>"
      ]
     },
     "metadata": {
      "needs_background": "light"
     },
     "output_type": "display_data"
    }
   ],
   "source": [
    "y_acc_1 = hist_1.history['accuracy']\n",
    "y_loss_1 = hist_1.history['loss']\n",
    "xs_1 = np.arange(1, len(y_acc_1)+1)\n",
    "\n",
    "plt.figure(figsize=(12, 8))\n",
    "plt.plot(xs_1, y_acc_1, label='train accuracy')\n",
    "plt.plot(xs_1, y_loss_1, label='train vloss')\n",
    "plt.legend(), plt.grid()\n",
    "plt.xlabel('Epoch'), plt.title('Conv1D');"
   ]
  },
  {
   "cell_type": "markdown",
   "metadata": {},
   "source": [
    "#### Case 2) Conv1D + LSTM"
   ]
  },
  {
   "cell_type": "code",
   "execution_count": 37,
   "metadata": {},
   "outputs": [
    {
     "name": "stdout",
     "output_type": "stream",
     "text": [
      "Model: \"sequential_2\"\n",
      "_________________________________________________________________\n",
      " Layer (type)                Output Shape              Param #   \n",
      "=================================================================\n",
      " embedding_2 (Embedding)     (None, 500, 100)          1000000   \n",
      "                                                                 \n",
      " dropout_1 (Dropout)         (None, 500, 100)          0         \n",
      "                                                                 \n",
      " conv1d_2 (Conv1D)           (None, 496, 64)           32064     \n",
      "                                                                 \n",
      " max_pooling1d_2 (MaxPooling  (None, 99, 64)           0         \n",
      " 1D)                                                             \n",
      "                                                                 \n",
      " lstm_1 (LSTM)               (None, 100)               66000     \n",
      "                                                                 \n",
      " dense_2 (Dense)             (None, 1)                 101       \n",
      "                                                                 \n",
      "=================================================================\n",
      "Total params: 1,098,165\n",
      "Trainable params: 1,098,165\n",
      "Non-trainable params: 0\n",
      "_________________________________________________________________\n"
     ]
    }
   ],
   "source": [
    "model_2 = Sequential([\n",
    "    Embedding(num_words, 100, input_length=max_len),\n",
    "    Dropout(0.5),\n",
    "    Conv1D(64, 5, activation='relu'), # height = 7\n",
    "    MaxPooling1D(5), # Conv1D 와 size를 맞춰줌\n",
    "    LSTM(100),\n",
    "    Dense(1, activation='sigmoid')\n",
    "])\n",
    "model_2.summary()"
   ]
  },
  {
   "cell_type": "code",
   "execution_count": 47,
   "metadata": {},
   "outputs": [],
   "source": [
    "model_2.compile('adam', 'binary_crossentropy',['accuracy'])\n",
    "\n",
    "model_2_path = './models/best-imdb-conv1d+lstm.h5'\n",
    "mc = ModelCheckpoint(model_2_path, verbose=1, save_best_only=True)\n",
    "es = EarlyStopping(patience=5)"
   ]
  },
  {
   "cell_type": "code",
   "execution_count": 48,
   "metadata": {},
   "outputs": [
    {
     "name": "stdout",
     "output_type": "stream",
     "text": [
      "Epoch 1/30\n",
      "243/244 [============================>.] - ETA: 0s - loss: 0.4521 - accuracy: 0.7663\n",
      "Epoch 00001: val_loss improved from inf to 0.29119, saving model to ./models\\best-imdb-conv1d+lstm.h5\n",
      "244/244 [==============================] - 6s 18ms/step - loss: 0.4516 - accuracy: 0.7666 - val_loss: 0.2912 - val_accuracy: 0.8850\n",
      "Epoch 2/30\n",
      "244/244 [==============================] - ETA: 0s - loss: 0.2269 - accuracy: 0.9120\n",
      "Epoch 00002: val_loss improved from 0.29119 to 0.28493, saving model to ./models\\best-imdb-conv1d+lstm.h5\n",
      "244/244 [==============================] - 4s 17ms/step - loss: 0.2269 - accuracy: 0.9120 - val_loss: 0.2849 - val_accuracy: 0.8827\n",
      "Epoch 3/30\n",
      "244/244 [==============================] - ETA: 0s - loss: 0.1484 - accuracy: 0.9470\n",
      "Epoch 00003: val_loss did not improve from 0.28493\n",
      "244/244 [==============================] - 4s 16ms/step - loss: 0.1484 - accuracy: 0.9470 - val_loss: 0.3062 - val_accuracy: 0.8818\n",
      "Epoch 4/30\n",
      "243/244 [============================>.] - ETA: 0s - loss: 0.1069 - accuracy: 0.9634\n",
      "Epoch 00004: val_loss did not improve from 0.28493\n",
      "244/244 [==============================] - 4s 16ms/step - loss: 0.1068 - accuracy: 0.9635 - val_loss: 0.4044 - val_accuracy: 0.8761\n",
      "Epoch 5/30\n",
      "244/244 [==============================] - ETA: 0s - loss: 0.0732 - accuracy: 0.9762\n",
      "Epoch 00005: val_loss did not improve from 0.28493\n",
      "244/244 [==============================] - 4s 16ms/step - loss: 0.0732 - accuracy: 0.9762 - val_loss: 0.3720 - val_accuracy: 0.8711\n",
      "Epoch 6/30\n",
      "244/244 [==============================] - ETA: 0s - loss: 0.0542 - accuracy: 0.9828\n",
      "Epoch 00006: val_loss did not improve from 0.28493\n",
      "244/244 [==============================] - 4s 17ms/step - loss: 0.0542 - accuracy: 0.9828 - val_loss: 0.4233 - val_accuracy: 0.8802\n",
      "Epoch 7/30\n",
      "242/244 [============================>.] - ETA: 0s - loss: 0.0440 - accuracy: 0.9850\n",
      "Epoch 00007: val_loss did not improve from 0.28493\n",
      "244/244 [==============================] - 4s 17ms/step - loss: 0.0439 - accuracy: 0.9849 - val_loss: 0.4368 - val_accuracy: 0.8800\n"
     ]
    }
   ],
   "source": [
    "hist_2 = model_2.fit(\n",
    "    X_train, y_train, validation_split=0.22,\n",
    "    epochs=30, batch_size=64,callbacks=[mc, es]\n",
    ")"
   ]
  },
  {
   "cell_type": "code",
   "execution_count": 49,
   "metadata": {},
   "outputs": [
    {
     "name": "stdout",
     "output_type": "stream",
     "text": [
      "157/157 [==============================] - 1s 5ms/step - loss: 0.2968 - accuracy: 0.8752\n"
     ]
    },
    {
     "data": {
      "text/plain": [
       "[0.2968238890171051, 0.8751999735832214]"
      ]
     },
     "execution_count": 49,
     "metadata": {},
     "output_type": "execute_result"
    }
   ],
   "source": [
    "best_model = load_model(model_2_path)\n",
    "best_model.evaluate(X_test, y_test)"
   ]
  },
  {
   "cell_type": "code",
   "execution_count": 50,
   "metadata": {},
   "outputs": [
    {
     "data": {
      "image/png": "[encoded data removed]",
      "text/plain": [
       "<Figure size 864x576 with 1 Axes>"
      ]
     },
     "metadata": {
      "needs_background": "light"
     },
     "output_type": "display_data"
    }
   ],
   "source": [
    "y_acc_2 = hist_2.history['accuracy']\n",
    "y_loss_2 = hist_2.history['loss']\n",
    "xs_2 = np.arange(1, len(y_acc_2)+1)\n",
    "\n",
    "plt.figure(figsize=(12, 8))\n",
    "plt.plot(xs_2, y_acc_2, label='train accuracy')\n",
    "plt.plot(xs_2, y_loss_2, label='train vloss')\n",
    "plt.legend(), plt.grid()\n",
    "plt.xlabel('Epoch'), plt.title('Conv1D + LSTM');"
   ]
  },
  {
   "cell_type": "markdown",
   "metadata": {},
   "source": [
    "#### Case 3) Conv1D + Dense"
   ]
  },
  {
   "cell_type": "code",
   "execution_count": 39,
   "metadata": {},
   "outputs": [
    {
     "name": "stdout",
     "output_type": "stream",
     "text": [
      "Model: \"sequential_3\"\n",
      "_________________________________________________________________\n",
      " Layer (type)                Output Shape              Param #   \n",
      "=================================================================\n",
      " embedding_3 (Embedding)     (None, 500, 100)          1000000   \n",
      "                                                                 \n",
      " dropout_2 (Dropout)         (None, 500, 100)          0         \n",
      "                                                                 \n",
      " conv1d_3 (Conv1D)           (None, 494, 64)           44864     \n",
      "                                                                 \n",
      " max_pooling1d_3 (MaxPooling  (None, 70, 64)           0         \n",
      " 1D)                                                             \n",
      "                                                                 \n",
      " global_max_pooling1d_1 (Glo  (None, 64)               0         \n",
      " balMaxPooling1D)                                                \n",
      "                                                                 \n",
      " dense_3 (Dense)             (None, 100)               6500      \n",
      "                                                                 \n",
      " dense_4 (Dense)             (None, 1)                 101       \n",
      "                                                                 \n",
      "=================================================================\n",
      "Total params: 1,051,465\n",
      "Trainable params: 1,051,465\n",
      "Non-trainable params: 0\n",
      "_________________________________________________________________\n"
     ]
    }
   ],
   "source": [
    "model_3 = Sequential([\n",
    "    Embedding(num_words, 100, input_length=max_len),\n",
    "    Dropout(0.5),\n",
    "    Conv1D(64, 7, activation='relu'), # height = 7\n",
    "    MaxPooling1D(7), # Conv1D 와 size를 맞춰줌\n",
    "    GlobalMaxPool1D(),\n",
    "    Dense(100, activation='relu'),\n",
    "    Dense(1, activation='sigmoid')\n",
    "])\n",
    "model_3.summary()"
   ]
  },
  {
   "cell_type": "code",
   "execution_count": 51,
   "metadata": {},
   "outputs": [],
   "source": [
    "model_3.compile('adam', 'binary_crossentropy',['accuracy'])\n",
    "\n",
    "model_3_path = './models/best-imdb-conv1d+Dense.h5'\n",
    "mc = ModelCheckpoint(model_3_path, verbose=1, save_best_only=True)\n",
    "es = EarlyStopping(patience=5)"
   ]
  },
  {
   "cell_type": "code",
   "execution_count": 52,
   "metadata": {},
   "outputs": [
    {
     "name": "stdout",
     "output_type": "stream",
     "text": [
      "Epoch 1/30\n",
      "239/244 [============================>.] - ETA: 0s - loss: 0.5925 - accuracy: 0.6430\n",
      "Epoch 00001: val_loss improved from inf to 0.39758, saving model to ./models\\best-imdb-conv1d+Dense.h5\n",
      "244/244 [==============================] - 2s 8ms/step - loss: 0.5887 - accuracy: 0.6469 - val_loss: 0.3976 - val_accuracy: 0.8282\n",
      "Epoch 2/30\n",
      "237/244 [============================>.] - ETA: 0s - loss: 0.3127 - accuracy: 0.8676\n",
      "Epoch 00002: val_loss improved from 0.39758 to 0.31396, saving model to ./models\\best-imdb-conv1d+Dense.h5\n",
      "244/244 [==============================] - 2s 7ms/step - loss: 0.3126 - accuracy: 0.8676 - val_loss: 0.3140 - val_accuracy: 0.8645\n",
      "Epoch 3/30\n",
      "240/244 [============================>.] - ETA: 0s - loss: 0.2022 - accuracy: 0.9211\n",
      "Epoch 00003: val_loss improved from 0.31396 to 0.30102, saving model to ./models\\best-imdb-conv1d+Dense.h5\n",
      "244/244 [==============================] - 2s 7ms/step - loss: 0.2014 - accuracy: 0.9215 - val_loss: 0.3010 - val_accuracy: 0.8811\n",
      "Epoch 4/30\n",
      "240/244 [============================>.] - ETA: 0s - loss: 0.1356 - accuracy: 0.9511\n",
      "Epoch 00004: val_loss did not improve from 0.30102\n",
      "244/244 [==============================] - 2s 7ms/step - loss: 0.1353 - accuracy: 0.9511 - val_loss: 0.3361 - val_accuracy: 0.8739\n",
      "Epoch 5/30\n",
      "241/244 [============================>.] - ETA: 0s - loss: 0.0860 - accuracy: 0.9699\n",
      "Epoch 00005: val_loss did not improve from 0.30102\n",
      "244/244 [==============================] - 2s 7ms/step - loss: 0.0865 - accuracy: 0.9698 - val_loss: 0.3693 - val_accuracy: 0.8709\n",
      "Epoch 6/30\n",
      "240/244 [============================>.] - ETA: 0s - loss: 0.0550 - accuracy: 0.9814\n",
      "Epoch 00006: val_loss did not improve from 0.30102\n",
      "244/244 [==============================] - 2s 7ms/step - loss: 0.0556 - accuracy: 0.9809 - val_loss: 0.3977 - val_accuracy: 0.8784\n",
      "Epoch 7/30\n",
      "240/244 [============================>.] - ETA: 0s - loss: 0.0394 - accuracy: 0.9865\n",
      "Epoch 00007: val_loss did not improve from 0.30102\n",
      "244/244 [==============================] - 2s 7ms/step - loss: 0.0396 - accuracy: 0.9865 - val_loss: 0.4391 - val_accuracy: 0.8764\n",
      "Epoch 8/30\n",
      "239/244 [============================>.] - ETA: 0s - loss: 0.0309 - accuracy: 0.9901\n",
      "Epoch 00008: val_loss did not improve from 0.30102\n",
      "244/244 [==============================] - 2s 7ms/step - loss: 0.0310 - accuracy: 0.9901 - val_loss: 0.4757 - val_accuracy: 0.8741\n"
     ]
    }
   ],
   "source": [
    "hist_3 = model_3.fit(\n",
    "    X_train, y_train, validation_split=0.22,\n",
    "    epochs=30, batch_size=64,callbacks=[mc, es]\n",
    ")"
   ]
  },
  {
   "cell_type": "code",
   "execution_count": 53,
   "metadata": {},
   "outputs": [
    {
     "name": "stdout",
     "output_type": "stream",
     "text": [
      "157/157 [==============================] - 0s 2ms/step - loss: 0.3009 - accuracy: 0.8820\n"
     ]
    },
    {
     "data": {
      "text/plain": [
       "[0.30093199014663696, 0.8820000290870667]"
      ]
     },
     "execution_count": 53,
     "metadata": {},
     "output_type": "execute_result"
    }
   ],
   "source": [
    "best_model = load_model(model_3_path)\n",
    "best_model.evaluate(X_test, y_test)"
   ]
  },
  {
   "cell_type": "code",
   "execution_count": 54,
   "metadata": {},
   "outputs": [
    {
     "data": {
      "image/png": "[encoded data removed]",
      "text/plain": [
       "<Figure size 864x576 with 1 Axes>"
      ]
     },
     "metadata": {
      "needs_background": "light"
     },
     "output_type": "display_data"
    }
   ],
   "source": [
    "y_acc_3 = hist_3.history['accuracy']\n",
    "y_loss_3 = hist_3.history['loss']\n",
    "xs_3 = np.arange(1, len(y_acc_3)+1)\n",
    "\n",
    "plt.figure(figsize=(12, 8))\n",
    "plt.plot(xs_3, y_acc_3, label='train accuracy')\n",
    "plt.plot(xs_3, y_loss_3, label='train vloss')\n",
    "plt.legend(), plt.grid()\n",
    "plt.xlabel('Epoch'), plt.title('Conv1D + Dense');"
   ]
  }
 ],
 "metadata": {
  "interpreter": {
   "hash": "68756eb6c044f31c46e3e1f38723aea1f0146198488dd3d60c0e4241eb6f7dd0"
  },
  "kernelspec": {
   "display_name": "Python 3.9.12 ('base')",
   "language": "python",
   "name": "python3"
  },
  "language_info": {
   "codemirror_mode": {
    "name": "ipython",
    "version": 3
   },
   "file_extension": ".py",
   "mimetype": "text/x-python",
   "name": "python",
   "nbconvert_exporter": "python",
   "pygments_lexer": "ipython3",
   "version": "3.9.12"
  },
  "orig_nbformat": 4
 },
 "nbformat": 4,
 "nbformat_minor": 2
}
