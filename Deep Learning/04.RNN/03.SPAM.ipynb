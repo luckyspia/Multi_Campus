{
 "cells": [
  {
   "cell_type": "markdown",
   "metadata": {},
   "source": [
    "## SMS SPAM Classification with RNN\n",
    "- Kaggle Data: https://www.kaggle.com/uciml/sms-spam-collection-dataset"
   ]
  },
  {
   "cell_type": "code",
   "execution_count": 1,
   "metadata": {},
   "outputs": [],
   "source": [
    "import pandas as pd\n",
    "url = 'https://raw.githubusercontent.com/ukairia777/tensorflow-nlp-tutorial/main/10.%20RNN%20Text%20Classification/dataset/spam.csv'"
   ]
  },
  {
   "cell_type": "code",
   "execution_count": 2,
   "metadata": {},
   "outputs": [
    {
     "data": {
      "text/html": [
       "<div>\n",
       "<style scoped>\n",
       "    .dataframe tbody tr th:only-of-type {\n",
       "        vertical-align: middle;\n",
       "    }\n",
       "\n",
       "    .dataframe tbody tr th {\n",
       "        vertical-align: top;\n",
       "    }\n",
       "\n",
       "    .dataframe thead th {\n",
       "        text-align: right;\n",
       "    }\n",
       "</style>\n",
       "<table border=\"1\" class=\"dataframe\">\n",
       "  <thead>\n",
       "    <tr style=\"text-align: right;\">\n",
       "      <th></th>\n",
       "      <th>v1</th>\n",
       "      <th>v2</th>\n",
       "      <th>Unnamed: 2</th>\n",
       "      <th>Unnamed: 3</th>\n",
       "      <th>Unnamed: 4</th>\n",
       "    </tr>\n",
       "  </thead>\n",
       "  <tbody>\n",
       "    <tr>\n",
       "      <th>0</th>\n",
       "      <td>ham</td>\n",
       "      <td>Go until jurong point, crazy.. Available only ...</td>\n",
       "      <td>NaN</td>\n",
       "      <td>NaN</td>\n",
       "      <td>NaN</td>\n",
       "    </tr>\n",
       "    <tr>\n",
       "      <th>1</th>\n",
       "      <td>ham</td>\n",
       "      <td>Ok lar... Joking wif u oni...</td>\n",
       "      <td>NaN</td>\n",
       "      <td>NaN</td>\n",
       "      <td>NaN</td>\n",
       "    </tr>\n",
       "    <tr>\n",
       "      <th>2</th>\n",
       "      <td>spam</td>\n",
       "      <td>Free entry in 2 a wkly comp to win FA Cup fina...</td>\n",
       "      <td>NaN</td>\n",
       "      <td>NaN</td>\n",
       "      <td>NaN</td>\n",
       "    </tr>\n",
       "    <tr>\n",
       "      <th>3</th>\n",
       "      <td>ham</td>\n",
       "      <td>U dun say so early hor... U c already then say...</td>\n",
       "      <td>NaN</td>\n",
       "      <td>NaN</td>\n",
       "      <td>NaN</td>\n",
       "    </tr>\n",
       "    <tr>\n",
       "      <th>4</th>\n",
       "      <td>ham</td>\n",
       "      <td>Nah I don't think he goes to usf, he lives aro...</td>\n",
       "      <td>NaN</td>\n",
       "      <td>NaN</td>\n",
       "      <td>NaN</td>\n",
       "    </tr>\n",
       "  </tbody>\n",
       "</table>\n",
       "</div>"
      ],
      "text/plain": [
       "     v1                                                 v2 Unnamed: 2  \\\n",
       "0   ham  Go until jurong point, crazy.. Available only ...        NaN   \n",
       "1   ham                      Ok lar... Joking wif u oni...        NaN   \n",
       "2  spam  Free entry in 2 a wkly comp to win FA Cup fina...        NaN   \n",
       "3   ham  U dun say so early hor... U c already then say...        NaN   \n",
       "4   ham  Nah I don't think he goes to usf, he lives aro...        NaN   \n",
       "\n",
       "  Unnamed: 3 Unnamed: 4  \n",
       "0        NaN        NaN  \n",
       "1        NaN        NaN  \n",
       "2        NaN        NaN  \n",
       "3        NaN        NaN  \n",
       "4        NaN        NaN  "
      ]
     },
     "execution_count": 2,
     "metadata": {},
     "output_type": "execute_result"
    }
   ],
   "source": [
    "df = pd.read_csv(url, encoding='latin1')\n",
    "df.head()"
   ]
  },
  {
   "cell_type": "code",
   "execution_count": 3,
   "metadata": {},
   "outputs": [
    {
     "data": {
      "text/html": [
       "<div>\n",
       "<style scoped>\n",
       "    .dataframe tbody tr th:only-of-type {\n",
       "        vertical-align: middle;\n",
       "    }\n",
       "\n",
       "    .dataframe tbody tr th {\n",
       "        vertical-align: top;\n",
       "    }\n",
       "\n",
       "    .dataframe thead th {\n",
       "        text-align: right;\n",
       "    }\n",
       "</style>\n",
       "<table border=\"1\" class=\"dataframe\">\n",
       "  <thead>\n",
       "    <tr style=\"text-align: right;\">\n",
       "      <th></th>\n",
       "      <th>v1</th>\n",
       "      <th>v2</th>\n",
       "    </tr>\n",
       "  </thead>\n",
       "  <tbody>\n",
       "    <tr>\n",
       "      <th>0</th>\n",
       "      <td>ham</td>\n",
       "      <td>Go until jurong point, crazy.. Available only ...</td>\n",
       "    </tr>\n",
       "    <tr>\n",
       "      <th>1</th>\n",
       "      <td>ham</td>\n",
       "      <td>Ok lar... Joking wif u oni...</td>\n",
       "    </tr>\n",
       "    <tr>\n",
       "      <th>2</th>\n",
       "      <td>spam</td>\n",
       "      <td>Free entry in 2 a wkly comp to win FA Cup fina...</td>\n",
       "    </tr>\n",
       "  </tbody>\n",
       "</table>\n",
       "</div>"
      ],
      "text/plain": [
       "     v1                                                 v2\n",
       "0   ham  Go until jurong point, crazy.. Available only ...\n",
       "1   ham                      Ok lar... Joking wif u oni...\n",
       "2  spam  Free entry in 2 a wkly comp to win FA Cup fina..."
      ]
     },
     "execution_count": 3,
     "metadata": {},
     "output_type": "execute_result"
    }
   ],
   "source": [
    "# Selection\n",
    "df = df[['v1','v2']]\n",
    "df.head(3)"
   ]
  },
  {
   "cell_type": "code",
   "execution_count": 4,
   "metadata": {},
   "outputs": [
    {
     "data": {
      "text/plain": [
       "0"
      ]
     },
     "execution_count": 4,
     "metadata": {},
     "output_type": "execute_result"
    }
   ],
   "source": [
    "# Null data check\n",
    "df.isna().sum().sum()"
   ]
  },
  {
   "cell_type": "code",
   "execution_count": 5,
   "metadata": {},
   "outputs": [
    {
     "data": {
      "text/plain": [
       "((5572, 2), 5169)"
      ]
     },
     "execution_count": 5,
     "metadata": {},
     "output_type": "execute_result"
    }
   ],
   "source": [
    "# 중복 데이터 확인\n",
    "df.shape, df.v2.nunique()"
   ]
  },
  {
   "cell_type": "code",
   "execution_count": 6,
   "metadata": {},
   "outputs": [
    {
     "data": {
      "text/plain": [
       "(5169, 2)"
      ]
     },
     "execution_count": 6,
     "metadata": {},
     "output_type": "execute_result"
    }
   ],
   "source": [
    "df.drop_duplicates(subset=['v2'], inplace=True)\n",
    "df.shape"
   ]
  },
  {
   "cell_type": "code",
   "execution_count": 8,
   "metadata": {},
   "outputs": [
    {
     "data": {
      "text/html": [
       "<div>\n",
       "<style scoped>\n",
       "    .dataframe tbody tr th:only-of-type {\n",
       "        vertical-align: middle;\n",
       "    }\n",
       "\n",
       "    .dataframe tbody tr th {\n",
       "        vertical-align: top;\n",
       "    }\n",
       "\n",
       "    .dataframe thead th {\n",
       "        text-align: right;\n",
       "    }\n",
       "</style>\n",
       "<table border=\"1\" class=\"dataframe\">\n",
       "  <thead>\n",
       "    <tr style=\"text-align: right;\">\n",
       "      <th></th>\n",
       "      <th>v1</th>\n",
       "      <th>v2</th>\n",
       "    </tr>\n",
       "  </thead>\n",
       "  <tbody>\n",
       "    <tr>\n",
       "      <th>0</th>\n",
       "      <td>0</td>\n",
       "      <td>Go until jurong point, crazy.. Available only ...</td>\n",
       "    </tr>\n",
       "    <tr>\n",
       "      <th>1</th>\n",
       "      <td>0</td>\n",
       "      <td>Ok lar... Joking wif u oni...</td>\n",
       "    </tr>\n",
       "    <tr>\n",
       "      <th>2</th>\n",
       "      <td>1</td>\n",
       "      <td>Free entry in 2 a wkly comp to win FA Cup fina...</td>\n",
       "    </tr>\n",
       "    <tr>\n",
       "      <th>3</th>\n",
       "      <td>0</td>\n",
       "      <td>U dun say so early hor... U c already then say...</td>\n",
       "    </tr>\n",
       "    <tr>\n",
       "      <th>4</th>\n",
       "      <td>0</td>\n",
       "      <td>Nah I don't think he goes to usf, he lives aro...</td>\n",
       "    </tr>\n",
       "  </tbody>\n",
       "</table>\n",
       "</div>"
      ],
      "text/plain": [
       "   v1                                                 v2\n",
       "0   0  Go until jurong point, crazy.. Available only ...\n",
       "1   0                      Ok lar... Joking wif u oni...\n",
       "2   1  Free entry in 2 a wkly comp to win FA Cup fina...\n",
       "3   0  U dun say so early hor... U c already then say...\n",
       "4   0  Nah I don't think he goes to usf, he lives aro..."
      ]
     },
     "execution_count": 8,
     "metadata": {},
     "output_type": "execute_result"
    }
   ],
   "source": [
    "# ['ham','spam'] --> [0, 1]\n",
    "df.v1 = df.v1.replace(['ham','spam'], [0,1])\n",
    "df.head()"
   ]
  },
  {
   "cell_type": "code",
   "execution_count": 9,
   "metadata": {},
   "outputs": [
    {
     "data": {
      "text/plain": [
       "0    4516\n",
       "1     653\n",
       "Name: v1, dtype: int64"
      ]
     },
     "execution_count": 9,
     "metadata": {},
     "output_type": "execute_result"
    }
   ],
   "source": [
    "# Ham/Spam 분포\n",
    "df.v1.value_counts()"
   ]
  },
  {
   "cell_type": "code",
   "execution_count": 10,
   "metadata": {},
   "outputs": [],
   "source": [
    "# 전처리완료된 파일 저장\n",
    "df.to_csv('./data/스팸_전처리완료.csv', index=False)"
   ]
  },
  {
   "cell_type": "code",
   "execution_count": 11,
   "metadata": {},
   "outputs": [
    {
     "data": {
      "text/plain": [
       "((5169,), (5169,))"
      ]
     },
     "execution_count": 11,
     "metadata": {},
     "output_type": "execute_result"
    }
   ],
   "source": [
    "x, y = df.v2.values, df.v1.values\n",
    "x.shape, y.shape"
   ]
  },
  {
   "cell_type": "markdown",
   "metadata": {},
   "source": [
    "#### Text Preprocessing"
   ]
  },
  {
   "cell_type": "code",
   "execution_count": 12,
   "metadata": {},
   "outputs": [],
   "source": [
    "from tensorflow.keras.preprocessing.text import Tokenizer\n",
    "from tensorflow.keras.preprocessing.sequence import pad_sequences\n",
    "\n",
    "import re\n",
    "def preprocessing(s):\n",
    "    s = s.encode('utf8').decode('ascii', 'ignore')\n",
    "    s = re.sub('[^a-z0-9 ]', '', s.lower())\n",
    "    return s"
   ]
  },
  {
   "cell_type": "code",
   "execution_count": 13,
   "metadata": {},
   "outputs": [
    {
     "data": {
      "text/plain": [
       "'free entry in 2 a wkly comp to win fa cup final tkts 21st may 2005 text fa to 87121 to receive entry questionstd txt ratetcs apply 08452810075over18s'"
      ]
     },
     "execution_count": 13,
     "metadata": {},
     "output_type": "execute_result"
    }
   ],
   "source": [
    "X_data = [preprocessing(sent) for sent in x]\n",
    "X_data[2]"
   ]
  },
  {
   "cell_type": "code",
   "execution_count": 14,
   "metadata": {},
   "outputs": [
    {
     "data": {
      "text/plain": [
       "9479"
      ]
     },
     "execution_count": 14,
     "metadata": {},
     "output_type": "execute_result"
    }
   ],
   "source": [
    "'free entry in 2 a wkly comp to win fa cup final tkts 21st may 2005 text fa to 87121 to receive entry questionstd txt ratetcs apply 08452810075over18s'\n",
    "# 단어 집합 생성, 크기 확인\n",
    "t = Tokenizer()\n",
    "t.fit_on_texts(X_data)\n",
    "vocab_size = len(t.word_index) + 1\n",
    "vocab_size"
   ]
  },
  {
   "cell_type": "code",
   "execution_count": 15,
   "metadata": {},
   "outputs": [
    {
     "name": "stdout",
     "output_type": "stream",
     "text": [
      "[54, 508, 8, 22, 4, 959, 960, 2, 217, 2566, 1291, 664, 2567, 2568, 268, 2569, 71, 2566, 2, 2570, 2, 336, 508, 3839, 84, 3840, 424, 3841]\n"
     ]
    }
   ],
   "source": [
    "sequences = t.texts_to_sequences(X_data)\n",
    "print(sequences[2])"
   ]
  },
  {
   "cell_type": "code",
   "execution_count": 16,
   "metadata": {},
   "outputs": [
    {
     "data": {
      "text/plain": [
       "171"
      ]
     },
     "execution_count": 16,
     "metadata": {},
     "output_type": "execute_result"
    }
   ],
   "source": [
    "max_len = max(len(seq) for seq in sequences)\n",
    "max_len"
   ]
  },
  {
   "cell_type": "code",
   "execution_count": 17,
   "metadata": {},
   "outputs": [],
   "source": [
    "# 전체 데이터를 max_len 길이에 맞도록 0 padding\n",
    "data = pad_sequences(sequences, maxlen=max_len)"
   ]
  },
  {
   "cell_type": "code",
   "execution_count": 18,
   "metadata": {},
   "outputs": [
    {
     "data": {
      "text/plain": [
       "((4135, 171), (1034, 171), (4135,), (1034,))"
      ]
     },
     "execution_count": 18,
     "metadata": {},
     "output_type": "execute_result"
    }
   ],
   "source": [
    "from sklearn.model_selection import train_test_split\n",
    "X_train, X_test, y_train, y_test = train_test_split(\n",
    "    data, y, stratify=y, test_size=0.2, random_state=2022\n",
    ")\n",
    "X_train.shape, X_test.shape, y_train.shape, y_test.shape"
   ]
  },
  {
   "cell_type": "markdown",
   "metadata": {},
   "source": [
    "#### Modeling"
   ]
  },
  {
   "cell_type": "code",
   "execution_count": 20,
   "metadata": {},
   "outputs": [],
   "source": [
    "import numpy as np\n",
    "import tensorflow as tf\n",
    "\n",
    "seed = 2022\n",
    "np.random.seed(seed)\n",
    "tf.random.set_seed(seed)"
   ]
  },
  {
   "cell_type": "code",
   "execution_count": 21,
   "metadata": {},
   "outputs": [
    {
     "name": "stdout",
     "output_type": "stream",
     "text": [
      "Model: \"sequential\"\n",
      "_________________________________________________________________\n",
      " Layer (type)                Output Shape              Param #   \n",
      "=================================================================\n",
      " embedding (Embedding)       (None, 171, 32)           303328    \n",
      "                                                                 \n",
      " simple_rnn (SimpleRNN)      (None, 32)                2080      \n",
      "                                                                 \n",
      " dense (Dense)               (None, 1)                 33        \n",
      "                                                                 \n",
      "=================================================================\n",
      "Total params: 305,441\n",
      "Trainable params: 305,441\n",
      "Non-trainable params: 0\n",
      "_________________________________________________________________\n"
     ]
    }
   ],
   "source": [
    "from tensorflow.keras.models import Sequential, load_model\n",
    "from tensorflow.keras.layers import Embedding, SimpleRNN, Dense\n",
    "from tensorflow.keras.callbacks import ModelCheckpoint, EarlyStopping\n",
    "\n",
    "model = Sequential([ \n",
    "    Embedding(vocab_size, 32, input_length=max_len),\n",
    "    SimpleRNN(32),\n",
    "    Dense(1, activation='sigmoid')\n",
    "])\n",
    "model.summary()"
   ]
  },
  {
   "cell_type": "code",
   "execution_count": 22,
   "metadata": {},
   "outputs": [],
   "source": [
    "model.compile('adam', 'binary_crossentropy', ['accuracy'])"
   ]
  },
  {
   "cell_type": "code",
   "execution_count": 23,
   "metadata": {},
   "outputs": [],
   "source": [
    "\n",
    "model_path = './models/best-spam-rnn.h5'\n",
    "mc = ModelCheckpoint(model_path, verbose=1, save_best_only=True)\n",
    "es = EarlyStopping(patience=10)"
   ]
  },
  {
   "cell_type": "code",
   "execution_count": 24,
   "metadata": {},
   "outputs": [
    {
     "name": "stdout",
     "output_type": "stream",
     "text": [
      "Epoch 1/100\n",
      "52/52 [==============================] - ETA: 0s - loss: 0.4025 - accuracy: 0.8558\n",
      "Epoch 00001: val_loss improved from inf to 0.24649, saving model to best-spam-rnn.h5\n",
      "52/52 [==============================] - 9s 154ms/step - loss: 0.4025 - accuracy: 0.8558 - val_loss: 0.2465 - val_accuracy: 0.8984\n",
      "Epoch 2/100\n",
      "52/52 [==============================] - ETA: 0s - loss: 0.1693 - accuracy: 0.9516\n",
      "Epoch 00002: val_loss improved from 0.24649 to 0.12450, saving model to best-spam-rnn.h5\n",
      "52/52 [==============================] - 8s 145ms/step - loss: 0.1693 - accuracy: 0.9516 - val_loss: 0.1245 - val_accuracy: 0.9686\n",
      "Epoch 3/100\n",
      "52/52 [==============================] - ETA: 0s - loss: 0.0723 - accuracy: 0.9840\n",
      "Epoch 00003: val_loss improved from 0.12450 to 0.10201, saving model to best-spam-rnn.h5\n",
      "52/52 [==============================] - 8s 162ms/step - loss: 0.0723 - accuracy: 0.9840 - val_loss: 0.1020 - val_accuracy: 0.9674\n",
      "Epoch 4/100\n",
      "52/52 [==============================] - ETA: 0s - loss: 0.0432 - accuracy: 0.9909\n",
      "Epoch 00004: val_loss improved from 0.10201 to 0.08676, saving model to best-spam-rnn.h5\n",
      "52/52 [==============================] - 8s 161ms/step - loss: 0.0432 - accuracy: 0.9909 - val_loss: 0.0868 - val_accuracy: 0.9807\n",
      "Epoch 5/100\n",
      "52/52 [==============================] - ETA: 0s - loss: 0.0274 - accuracy: 0.9958\n",
      "Epoch 00005: val_loss improved from 0.08676 to 0.08581, saving model to best-spam-rnn.h5\n",
      "52/52 [==============================] - 8s 163ms/step - loss: 0.0274 - accuracy: 0.9958 - val_loss: 0.0858 - val_accuracy: 0.9722\n",
      "Epoch 6/100\n",
      "52/52 [==============================] - ETA: 0s - loss: 0.0144 - accuracy: 0.9982\n",
      "Epoch 00006: val_loss improved from 0.08581 to 0.07861, saving model to best-spam-rnn.h5\n",
      "52/52 [==============================] - 8s 159ms/step - loss: 0.0144 - accuracy: 0.9982 - val_loss: 0.0786 - val_accuracy: 0.9758\n",
      "Epoch 7/100\n",
      "52/52 [==============================] - ETA: 0s - loss: 0.0096 - accuracy: 0.9991\n",
      "Epoch 00007: val_loss did not improve from 0.07861\n",
      "52/52 [==============================] - 9s 166ms/step - loss: 0.0096 - accuracy: 0.9991 - val_loss: 0.0795 - val_accuracy: 0.9782\n",
      "Epoch 8/100\n",
      "52/52 [==============================] - ETA: 0s - loss: 0.0086 - accuracy: 0.9991\n",
      "Epoch 00008: val_loss did not improve from 0.07861\n",
      "52/52 [==============================] - 8s 153ms/step - loss: 0.0086 - accuracy: 0.9991 - val_loss: 0.0830 - val_accuracy: 0.9746\n",
      "Epoch 9/100\n",
      "52/52 [==============================] - ETA: 0s - loss: 0.0059 - accuracy: 0.9994\n",
      "Epoch 00009: val_loss did not improve from 0.07861\n",
      "52/52 [==============================] - 8s 153ms/step - loss: 0.0059 - accuracy: 0.9994 - val_loss: 0.0847 - val_accuracy: 0.9746\n",
      "Epoch 10/100\n",
      "52/52 [==============================] - ETA: 0s - loss: 0.0044 - accuracy: 0.9997\n",
      "Epoch 00010: val_loss did not improve from 0.07861\n",
      "52/52 [==============================] - 7s 142ms/step - loss: 0.0044 - accuracy: 0.9997 - val_loss: 0.0898 - val_accuracy: 0.9746\n",
      "Epoch 11/100\n",
      "52/52 [==============================] - ETA: 0s - loss: 0.0036 - accuracy: 0.9997\n",
      "Epoch 00011: val_loss did not improve from 0.07861\n",
      "52/52 [==============================] - 8s 145ms/step - loss: 0.0036 - accuracy: 0.9997 - val_loss: 0.5715 - val_accuracy: 0.7412\n",
      "Epoch 12/100\n",
      "52/52 [==============================] - ETA: 0s - loss: 0.0752 - accuracy: 0.9740\n",
      "Epoch 00012: val_loss improved from 0.07861 to 0.07090, saving model to best-spam-rnn.h5\n",
      "52/52 [==============================] - 8s 146ms/step - loss: 0.0752 - accuracy: 0.9740 - val_loss: 0.0709 - val_accuracy: 0.9819\n",
      "Epoch 13/100\n",
      "52/52 [==============================] - ETA: 0s - loss: 0.0173 - accuracy: 0.9952\n",
      "Epoch 00013: val_loss improved from 0.07090 to 0.06157, saving model to best-spam-rnn.h5\n",
      "52/52 [==============================] - 8s 148ms/step - loss: 0.0173 - accuracy: 0.9952 - val_loss: 0.0616 - val_accuracy: 0.9855\n",
      "Epoch 14/100\n",
      "52/52 [==============================] - ETA: 0s - loss: 0.0075 - accuracy: 0.9991\n",
      "Epoch 00014: val_loss did not improve from 0.06157\n",
      "52/52 [==============================] - 8s 146ms/step - loss: 0.0075 - accuracy: 0.9991 - val_loss: 0.0703 - val_accuracy: 0.9831\n",
      "Epoch 15/100\n",
      "52/52 [==============================] - ETA: 0s - loss: 0.0038 - accuracy: 0.9994\n",
      "Epoch 00015: val_loss did not improve from 0.06157\n",
      "52/52 [==============================] - 7s 143ms/step - loss: 0.0038 - accuracy: 0.9994 - val_loss: 0.0655 - val_accuracy: 0.9843\n",
      "Epoch 16/100\n",
      "52/52 [==============================] - ETA: 0s - loss: 0.0028 - accuracy: 0.9997\n",
      "Epoch 00016: val_loss did not improve from 0.06157\n",
      "52/52 [==============================] - 7s 141ms/step - loss: 0.0028 - accuracy: 0.9997 - val_loss: 0.0737 - val_accuracy: 0.9819\n",
      "Epoch 17/100\n",
      "52/52 [==============================] - ETA: 0s - loss: 0.0021 - accuracy: 0.9997\n",
      "Epoch 00017: val_loss did not improve from 0.06157\n",
      "52/52 [==============================] - 7s 143ms/step - loss: 0.0021 - accuracy: 0.9997 - val_loss: 0.0815 - val_accuracy: 0.9819\n",
      "Epoch 18/100\n",
      "52/52 [==============================] - ETA: 0s - loss: 0.0017 - accuracy: 0.9997\n",
      "Epoch 00018: val_loss did not improve from 0.06157\n",
      "52/52 [==============================] - 7s 141ms/step - loss: 0.0017 - accuracy: 0.9997 - val_loss: 0.0846 - val_accuracy: 0.9807\n",
      "Epoch 19/100\n",
      "52/52 [==============================] - ETA: 0s - loss: 0.0014 - accuracy: 1.0000\n",
      "Epoch 00019: val_loss did not improve from 0.06157\n",
      "52/52 [==============================] - 8s 146ms/step - loss: 0.0014 - accuracy: 1.0000 - val_loss: 0.0885 - val_accuracy: 0.9807\n",
      "Epoch 20/100\n",
      "52/52 [==============================] - ETA: 0s - loss: 0.0012 - accuracy: 1.0000\n",
      "Epoch 00020: val_loss did not improve from 0.06157\n",
      "52/52 [==============================] - 7s 142ms/step - loss: 0.0012 - accuracy: 1.0000 - val_loss: 0.0922 - val_accuracy: 0.9794\n",
      "Epoch 21/100\n",
      "52/52 [==============================] - ETA: 0s - loss: 0.0011 - accuracy: 1.0000\n",
      "Epoch 00021: val_loss did not improve from 0.06157\n",
      "52/52 [==============================] - 7s 141ms/step - loss: 0.0011 - accuracy: 1.0000 - val_loss: 0.0942 - val_accuracy: 0.9794\n",
      "Epoch 22/100\n",
      "52/52 [==============================] - ETA: 0s - loss: 9.9880e-04 - accuracy: 1.0000\n",
      "Epoch 00022: val_loss did not improve from 0.06157\n",
      "52/52 [==============================] - 7s 143ms/step - loss: 9.9880e-04 - accuracy: 1.0000 - val_loss: 0.0960 - val_accuracy: 0.9794\n",
      "Epoch 23/100\n",
      "52/52 [==============================] - ETA: 0s - loss: 9.0716e-04 - accuracy: 1.0000\n",
      "Epoch 00023: val_loss did not improve from 0.06157\n",
      "52/52 [==============================] - 8s 145ms/step - loss: 9.0716e-04 - accuracy: 1.0000 - val_loss: 0.0979 - val_accuracy: 0.9794\n"
     ]
    }
   ],
   "source": [
    "model_path = 'best-spam-rnn.h5'\n",
    "mc = ModelCheckpoint(model_path, verbose=1, save_best_only=True)\n",
    "es = EarlyStopping(patience=10)\n",
    "hist = model.fit(\n",
    "    X_train, y_train, validation_split=0.2,\n",
    "    epochs=100, batch_size=64, callbacks=[mc,es]\n",
    ")"
   ]
  },
  {
   "cell_type": "code",
   "execution_count": 25,
   "metadata": {},
   "outputs": [
    {
     "name": "stdout",
     "output_type": "stream",
     "text": [
      "33/33 [==============================] - 1s 24ms/step - loss: 0.0637 - accuracy: 0.9826\n"
     ]
    },
    {
     "data": {
      "text/plain": [
       "[0.06369025260210037, 0.9825918674468994]"
      ]
     },
     "execution_count": 25,
     "metadata": {},
     "output_type": "execute_result"
    }
   ],
   "source": [
    "best_model = load_model(model_path)\n",
    "best_model.evaluate(X_test, y_test)"
   ]
  },
  {
   "cell_type": "code",
   "execution_count": 26,
   "metadata": {},
   "outputs": [],
   "source": [
    "y_acc = hist.history['accuracy']\n",
    "y_vloss = hist.history['val_loss']\n",
    "xs = np.arange(1, len(y_acc)+1)"
   ]
  },
  {
   "cell_type": "code",
   "execution_count": 27,
   "metadata": {},
   "outputs": [
    {
     "data": {
      "image/png": "[encoded data removed]",
      "text/plain": [
       "<Figure size 864x576 with 1 Axes>"
      ]
     },
     "metadata": {
      "needs_background": "light"
     },
     "output_type": "display_data"
    }
   ],
   "source": [
    "import matplotlib.pyplot as plt\n",
    "\n",
    "plt.figure(figsize=(12,8))\n",
    "plt.plot(xs, y_acc, label='train accuracy')\n",
    "plt.plot(xs, y_vloss, label='validation loss')\n",
    "plt.legend(), plt.grid()\n",
    "plt.xlabel('Epoch')\n",
    "plt.show()"
   ]
  }
 ],
 "metadata": {
  "interpreter": {
   "hash": "68756eb6c044f31c46e3e1f38723aea1f0146198488dd3d60c0e4241eb6f7dd0"
  },
  "kernelspec": {
   "display_name": "Python 3.9.12 ('base')",
   "language": "python",
   "name": "python3"
  },
  "language_info": {
   "codemirror_mode": {
    "name": "ipython",
    "version": 3
   },
   "file_extension": ".py",
   "mimetype": "text/x-python",
   "name": "python",
   "nbconvert_exporter": "python",
   "pygments_lexer": "ipython3",
   "version": "3.9.12"
  },
  "orig_nbformat": 4
 },
 "nbformat": 4,
 "nbformat_minor": 2
}
