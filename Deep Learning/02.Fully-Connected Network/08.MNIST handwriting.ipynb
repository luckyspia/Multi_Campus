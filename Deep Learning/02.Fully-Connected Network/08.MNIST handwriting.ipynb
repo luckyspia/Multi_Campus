{
 "cells": [
  {
   "cell_type": "markdown",
   "metadata": {},
   "source": [
    "## MNIST Handwriting Classification - Neural Network"
   ]
  },
  {
   "cell_type": "code",
   "execution_count": 2,
   "metadata": {},
   "outputs": [],
   "source": [
    "import numpy as np\n",
    "import matplotlib.pyplot as plt\n",
    "import tensorflow as tf\n",
    "\n",
    "seed = 2022\n",
    "np.random.seed(seed)\n",
    "tf.random.set_seed(seed)"
   ]
  },
  {
   "cell_type": "code",
   "execution_count": 3,
   "metadata": {},
   "outputs": [
    {
     "data": {
      "text/plain": [
       "((60000, 28, 28), (60000,), (10000, 28, 28), (10000,))"
      ]
     },
     "execution_count": 3,
     "metadata": {},
     "output_type": "execute_result"
    }
   ],
   "source": [
    "from tensorflow.keras.datasets import mnist\n",
    "(X_train, y_train), (X_test, y_test) = mnist.load_data()\n",
    "X_train.shape, y_train.shape, X_test.shape, y_test.shape"
   ]
  },
  {
   "cell_type": "code",
   "execution_count": 4,
   "metadata": {},
   "outputs": [
    {
     "data": {
      "image/png": "[encoded data removed]",
      "text/plain": [
       "<Figure size 432x288 with 1 Axes>"
      ]
     },
     "metadata": {
      "needs_background": "light"
     },
     "output_type": "display_data"
    }
   ],
   "source": [
    "plt.imshow(X_train[0], cmap='Greys');"
   ]
  },
  {
   "cell_type": "code",
   "execution_count": 5,
   "metadata": {},
   "outputs": [
    {
     "name": "stdout",
     "output_type": "stream",
     "text": [
      "  0   0   0   0   0   0   0   0   0   0   0   0   0   0   0   0   0   0   0   0   0   0   0   0   0   0   0   0 \n",
      "  0   0   0   0   0   0   0   0   0   0   0   0   0   0   0   0   0   0   0   0   0   0   0   0   0   0   0   0 \n",
      "  0   0   0   0   0   0   0   0   0   0   0   0   0   0   0   0   0   0   0   0   0   0   0   0   0   0   0   0 \n",
      "  0   0   0   0   0   0   0   0   0   0   0   0   0   0   0   0   0   0   0   0   0   0   0   0   0   0   0   0 \n",
      "  0   0   0   0   0   0   0   0   0   0   0   0   0   0   0   0   0   0   0   0   0   0   0   0   0   0   0   0 \n",
      "  0   0   0   0   0   0   0   0   0   0   0   0   3  18  18  18 126 136 175  26 166 255 247 127   0   0   0   0 \n",
      "  0   0   0   0   0   0   0   0  30  36  94 154 170 253 253 253 253 253 225 172 253 242 195  64   0   0   0   0 \n",
      "  0   0   0   0   0   0   0  49 238 253 253 253 253 253 253 253 253 251  93  82  82  56  39   0   0   0   0   0 \n",
      "  0   0   0   0   0   0   0  18 219 253 253 253 253 253 198 182 247 241   0   0   0   0   0   0   0   0   0   0 \n",
      "  0   0   0   0   0   0   0   0  80 156 107 253 253 205  11   0  43 154   0   0   0   0   0   0   0   0   0   0 \n",
      "  0   0   0   0   0   0   0   0   0  14   1 154 253  90   0   0   0   0   0   0   0   0   0   0   0   0   0   0 \n",
      "  0   0   0   0   0   0   0   0   0   0   0 139 253 190   2   0   0   0   0   0   0   0   0   0   0   0   0   0 \n",
      "  0   0   0   0   0   0   0   0   0   0   0  11 190 253  70   0   0   0   0   0   0   0   0   0   0   0   0   0 \n",
      "  0   0   0   0   0   0   0   0   0   0   0   0  35 241 225 160 108   1   0   0   0   0   0   0   0   0   0   0 \n",
      "  0   0   0   0   0   0   0   0   0   0   0   0   0  81 240 253 253 119  25   0   0   0   0   0   0   0   0   0 \n",
      "  0   0   0   0   0   0   0   0   0   0   0   0   0   0  45 186 253 253 150  27   0   0   0   0   0   0   0   0 \n",
      "  0   0   0   0   0   0   0   0   0   0   0   0   0   0   0  16  93 252 253 187   0   0   0   0   0   0   0   0 \n",
      "  0   0   0   0   0   0   0   0   0   0   0   0   0   0   0   0   0 249 253 249  64   0   0   0   0   0   0   0 \n",
      "  0   0   0   0   0   0   0   0   0   0   0   0   0   0  46 130 183 253 253 207   2   0   0   0   0   0   0   0 \n",
      "  0   0   0   0   0   0   0   0   0   0   0   0  39 148 229 253 253 253 250 182   0   0   0   0   0   0   0   0 \n",
      "  0   0   0   0   0   0   0   0   0   0  24 114 221 253 253 253 253 201  78   0   0   0   0   0   0   0   0   0 \n",
      "  0   0   0   0   0   0   0   0  23  66 213 253 253 253 253 198  81   2   0   0   0   0   0   0   0   0   0   0 \n",
      "  0   0   0   0   0   0  18 171 219 253 253 253 253 195  80   9   0   0   0   0   0   0   0   0   0   0   0   0 \n",
      "  0   0   0   0  55 172 226 253 253 253 253 244 133  11   0   0   0   0   0   0   0   0   0   0   0   0   0   0 \n",
      "  0   0   0   0 136 253 253 253 212 135 132  16   0   0   0   0   0   0   0   0   0   0   0   0   0   0   0   0 \n",
      "  0   0   0   0   0   0   0   0   0   0   0   0   0   0   0   0   0   0   0   0   0   0   0   0   0   0   0   0 \n",
      "  0   0   0   0   0   0   0   0   0   0   0   0   0   0   0   0   0   0   0   0   0   0   0   0   0   0   0   0 \n",
      "  0   0   0   0   0   0   0   0   0   0   0   0   0   0   0   0   0   0   0   0   0   0   0   0   0   0   0   0 \n"
     ]
    }
   ],
   "source": [
    "import sys\n",
    "for row in X_train[0]:\n",
    "    for x in row:\n",
    "        sys.stdout.write(f'{x:3d} ')\n",
    "    sys.stdout.write('\\n')"
   ]
  },
  {
   "cell_type": "code",
   "execution_count": 6,
   "metadata": {},
   "outputs": [],
   "source": [
    "# X_train, X_test 정규화(0 ~ 1)\n",
    "X_train = X_train / 255.\n",
    "X_test = X_test / 255."
   ]
  },
  {
   "cell_type": "code",
   "execution_count": 7,
   "metadata": {},
   "outputs": [
    {
     "data": {
      "text/plain": [
       "((60000, 784), (10000, 784))"
      ]
     },
     "execution_count": 7,
     "metadata": {},
     "output_type": "execute_result"
    }
   ],
   "source": [
    "# 이미지 차원 변경: 2차원 --> 1차원 (train, test 두 방식 모두 가능)\n",
    "X_train = X_train.reshape(60000, -1)\n",
    "X_test = X_test.reshape(-1, 784)\n",
    "X_train.shape, X_test.shape\n",
    "# 전환 전 = (60000, 28, 28), (10000, 28, 28)"
   ]
  },
  {
   "cell_type": "code",
   "execution_count": 8,
   "metadata": {},
   "outputs": [
    {
     "data": {
      "text/plain": [
       "(array([0, 1, 2, 3, 4, 5, 6, 7, 8, 9], dtype=uint8),\n",
       " array([5923, 6742, 5958, 6131, 5842, 5421, 5918, 6265, 5851, 5949],\n",
       "       dtype=int64))"
      ]
     },
     "execution_count": 8,
     "metadata": {},
     "output_type": "execute_result"
    }
   ],
   "source": [
    "# Y 값 분포\n",
    "np.unique(y_train, return_counts=True)"
   ]
  },
  {
   "cell_type": "code",
   "execution_count": 10,
   "metadata": {},
   "outputs": [
    {
     "data": {
      "text/plain": [
       "((60000,), (10000,))"
      ]
     },
     "execution_count": 10,
     "metadata": {},
     "output_type": "execute_result"
    }
   ],
   "source": [
    "y_train.shape, y_test.shape"
   ]
  },
  {
   "cell_type": "code",
   "execution_count": 9,
   "metadata": {},
   "outputs": [
    {
     "data": {
      "text/plain": [
       "((60000, 10), (10000, 10))"
      ]
     },
     "execution_count": 9,
     "metadata": {},
     "output_type": "execute_result"
    }
   ],
   "source": [
    "# One hot encoding\n",
    "from tensorflow.keras.utils import to_categorical\n",
    "Y_train = to_categorical(y_train)\n",
    "Y_test = to_categorical(y_test)\n",
    "Y_train.shape, Y_test.shape"
   ]
  },
  {
   "cell_type": "code",
   "execution_count": 14,
   "metadata": {},
   "outputs": [
    {
     "name": "stdout",
     "output_type": "stream",
     "text": [
      "Model: \"sequential_1\"\n",
      "_________________________________________________________________\n",
      " Layer (type)                Output Shape              Param #   \n",
      "=================================================================\n",
      " dense_4 (Dense)             (None, 1000)              785000    \n",
      "                                                                 \n",
      " dense_5 (Dense)             (None, 256)               256256    \n",
      "                                                                 \n",
      " dense_6 (Dense)             (None, 48)                12336     \n",
      "                                                                 \n",
      " dense_7 (Dense)             (None, 10)                490       \n",
      "                                                                 \n",
      "=================================================================\n",
      "Total params: 1,054,082\n",
      "Trainable params: 1,054,082\n",
      "Non-trainable params: 0\n",
      "_________________________________________________________________\n"
     ]
    }
   ],
   "source": [
    "from tensorflow.keras.models import Sequential, load_model\n",
    "from tensorflow.keras.layers import Dense, Dropout\n",
    "from tensorflow.keras.callbacks import ModelCheckpoint, EarlyStopping\n",
    "\n",
    "model_1 = Sequential([ \n",
    "    Dense(1000, input_dim=784, activation='relu'),\n",
    "    Dense(256, activation='relu'),\n",
    "    Dense(48, activation='relu'),\n",
    "    Dense(10, activation='softmax')\n",
    "])\n",
    "model_1.summary()"
   ]
  },
  {
   "cell_type": "code",
   "execution_count": 15,
   "metadata": {},
   "outputs": [],
   "source": [
    "model_1.compile('adam', 'categorical_crossentropy', ['accuracy'])"
   ]
  },
  {
   "cell_type": "code",
   "execution_count": 19,
   "metadata": {},
   "outputs": [
    {
     "name": "stdout",
     "output_type": "stream",
     "text": [
      "\n",
      "Epoch 00001: val_loss improved from inf to 0.09342, saving model to ./models\\mnist_best_1.h5\n",
      "\n",
      "Epoch 00002: val_loss did not improve from 0.09342\n",
      "\n",
      "Epoch 00003: val_loss did not improve from 0.09342\n",
      "\n",
      "Epoch 00004: val_loss did not improve from 0.09342\n",
      "\n",
      "Epoch 00005: val_loss did not improve from 0.09342\n",
      "\n",
      "Epoch 00006: val_loss did not improve from 0.09342\n",
      "\n",
      "Epoch 00007: val_loss did not improve from 0.09342\n",
      "\n",
      "Epoch 00008: val_loss did not improve from 0.09342\n",
      "\n",
      "Epoch 00009: val_loss did not improve from 0.09342\n",
      "\n",
      "Epoch 00010: val_loss did not improve from 0.09342\n",
      "\n",
      "Epoch 00011: val_loss did not improve from 0.09342\n"
     ]
    }
   ],
   "source": [
    "mc_1 = ModelCheckpoint('./models/mnist_best_1.h5', verbose=1, save_best_only=True)\n",
    "es_1 = EarlyStopping(patience=10)\n",
    "hist_1 = model_1.fit(X_train, Y_train, validation_split=0.2,\n",
    "                   epochs=100, batch_size=200, verbose=0,\n",
    "                   callbacks=[mc_1, es_1])"
   ]
  },
  {
   "cell_type": "code",
   "execution_count": 20,
   "metadata": {},
   "outputs": [
    {
     "name": "stdout",
     "output_type": "stream",
     "text": [
      "313/313 [==============================] - 1s 2ms/step - loss: 0.0755 - accuracy: 0.9834\n"
     ]
    },
    {
     "data": {
      "text/plain": [
       "[0.07549247145652771, 0.9833999872207642]"
      ]
     },
     "execution_count": 20,
     "metadata": {},
     "output_type": "execute_result"
    }
   ],
   "source": [
    "best_model_1 = load_model('./models/mnist_best_1.h5')\n",
    "best_model_1.evaluate(X_test, Y_test)"
   ]
  },
  {
   "cell_type": "code",
   "execution_count": 21,
   "metadata": {},
   "outputs": [
    {
     "name": "stdout",
     "output_type": "stream",
     "text": [
      "Model: \"sequential_2\"\n",
      "_________________________________________________________________\n",
      " Layer (type)                Output Shape              Param #   \n",
      "=================================================================\n",
      " dense_8 (Dense)             (None, 1000)              785000    \n",
      "                                                                 \n",
      " dropout (Dropout)           (None, 1000)              0         \n",
      "                                                                 \n",
      " dense_9 (Dense)             (None, 256)               256256    \n",
      "                                                                 \n",
      " dropout_1 (Dropout)         (None, 256)               0         \n",
      "                                                                 \n",
      " dense_10 (Dense)            (None, 48)                12336     \n",
      "                                                                 \n",
      " dense_11 (Dense)            (None, 10)                490       \n",
      "                                                                 \n",
      "=================================================================\n",
      "Total params: 1,054,082\n",
      "Trainable params: 1,054,082\n",
      "Non-trainable params: 0\n",
      "_________________________________________________________________\n"
     ]
    }
   ],
   "source": [
    "# Add Dropout\n",
    "model_2 = Sequential([ \n",
    "    Dense(1000, input_dim=784, activation='relu'),\n",
    "    Dropout(0.25),\n",
    "    Dense(256, activation='relu'),\n",
    "    Dropout(0.25),\n",
    "    Dense(48, activation='relu'),\n",
    "    Dense(10, activation='softmax')\n",
    "])\n",
    "model_2.summary()"
   ]
  },
  {
   "cell_type": "code",
   "execution_count": 22,
   "metadata": {},
   "outputs": [],
   "source": [
    "model_2.compile('adam', 'categorical_crossentropy', ['accuracy'])"
   ]
  },
  {
   "cell_type": "code",
   "execution_count": 23,
   "metadata": {},
   "outputs": [
    {
     "name": "stdout",
     "output_type": "stream",
     "text": [
      "\n",
      "Epoch 00001: val_loss improved from inf to 0.12418, saving model to ./models\\mnist_best_2.h5\n",
      "\n",
      "Epoch 00002: val_loss improved from 0.12418 to 0.09187, saving model to ./models\\mnist_best_2.h5\n",
      "\n",
      "Epoch 00003: val_loss improved from 0.09187 to 0.08696, saving model to ./models\\mnist_best_2.h5\n",
      "\n",
      "Epoch 00004: val_loss improved from 0.08696 to 0.08599, saving model to ./models\\mnist_best_2.h5\n",
      "\n",
      "Epoch 00005: val_loss improved from 0.08599 to 0.07526, saving model to ./models\\mnist_best_2.h5\n",
      "\n",
      "Epoch 00006: val_loss did not improve from 0.07526\n",
      "\n",
      "Epoch 00007: val_loss did not improve from 0.07526\n",
      "\n",
      "Epoch 00008: val_loss did not improve from 0.07526\n",
      "\n",
      "Epoch 00009: val_loss did not improve from 0.07526\n",
      "\n",
      "Epoch 00010: val_loss did not improve from 0.07526\n",
      "\n",
      "Epoch 00011: val_loss did not improve from 0.07526\n",
      "\n",
      "Epoch 00012: val_loss did not improve from 0.07526\n",
      "\n",
      "Epoch 00013: val_loss did not improve from 0.07526\n",
      "\n",
      "Epoch 00014: val_loss did not improve from 0.07526\n",
      "\n",
      "Epoch 00015: val_loss did not improve from 0.07526\n"
     ]
    }
   ],
   "source": [
    "mc_2 = ModelCheckpoint('./models/mnist_best_2.h5', verbose=1, save_best_only=True)\n",
    "es_2 = EarlyStopping(patience=10)\n",
    "hist_2 = model_2.fit(X_train, Y_train, validation_split=0.2,\n",
    "                   epochs=100, batch_size=200, verbose=0,\n",
    "                   callbacks=[mc_2, es_2])"
   ]
  },
  {
   "cell_type": "code",
   "execution_count": 24,
   "metadata": {},
   "outputs": [
    {
     "name": "stdout",
     "output_type": "stream",
     "text": [
      "313/313 [==============================] - 1s 2ms/step - loss: 0.0688 - accuracy: 0.9800\n"
     ]
    },
    {
     "data": {
      "text/plain": [
       "[0.06876510381698608, 0.9800000190734863]"
      ]
     },
     "execution_count": 24,
     "metadata": {},
     "output_type": "execute_result"
    }
   ],
   "source": [
    "best_model_2 = load_model('./models/mnist_best_2.h5')\n",
    "best_model_2.evaluate(X_test, Y_test)"
   ]
  },
  {
   "cell_type": "code",
   "execution_count": 25,
   "metadata": {},
   "outputs": [],
   "source": [
    "y_acc_1 = hist_1.history['accuracy']\n",
    "y_vloss_1 = hist_1.history['val_loss']\n",
    "xs_1 = np.arange(1, len(y_acc_1)+1)\n",
    "y_acc_2 = hist_2.history['accuracy']\n",
    "y_vloss_2 = hist_2.history['val_loss']\n",
    "xs_2 = np.arange(1, len(y_acc_2)+1)"
   ]
  },
  {
   "cell_type": "code",
   "execution_count": 26,
   "metadata": {},
   "outputs": [
    {
     "data": {
      "image/png": "[encoded data removed]",
      "text/plain": [
       "<Figure size 1440x576 with 2 Axes>"
      ]
     },
     "metadata": {
      "needs_background": "light"
     },
     "output_type": "display_data"
    }
   ],
   "source": [
    "plt.figure(figsize=(20,8))\n",
    "plt.subplot(121)\n",
    "plt.plot(xs_1, y_acc_1, label='train accuracy')\n",
    "plt.plot(xs_1, y_vloss_1, label='validation loss')\n",
    "plt.legend(), plt.grid()\n",
    "plt.ylim([0,1.2])\n",
    "plt.xlabel('Epoch'), plt.title('Without Dropout')\n",
    "\n",
    "plt.subplot(122)\n",
    "plt.plot(xs_2, y_acc_2, label='train accuracy')\n",
    "plt.plot(xs_2, y_vloss_2, label='validation loss')\n",
    "plt.legend(), plt.grid()\n",
    "plt.ylim([0,1.2])\n",
    "plt.xlabel('Epoch'), plt.title('With Dropout')\n",
    "\n",
    "plt.show()"
   ]
  }
 ],
 "metadata": {
  "interpreter": {
   "hash": "68756eb6c044f31c46e3e1f38723aea1f0146198488dd3d60c0e4241eb6f7dd0"
  },
  "kernelspec": {
   "display_name": "Python 3.9.12 ('base')",
   "language": "python",
   "name": "python3"
  },
  "language_info": {
   "codemirror_mode": {
    "name": "ipython",
    "version": 3
   },
   "file_extension": ".py",
   "mimetype": "text/x-python",
   "name": "python",
   "nbconvert_exporter": "python",
   "pygments_lexer": "ipython3",
   "version": "3.9.12"
  },
  "orig_nbformat": 4
 },
 "nbformat": 4,
 "nbformat_minor": 2
}
