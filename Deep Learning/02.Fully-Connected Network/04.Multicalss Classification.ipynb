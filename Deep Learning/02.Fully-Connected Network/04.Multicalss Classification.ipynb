{
 "cells": [
  {
   "cell_type": "markdown",
   "metadata": {},
   "source": [
    "## Multiclass Classification"
   ]
  },
  {
   "cell_type": "markdown",
   "metadata": {},
   "source": [
    "#### Wine Data"
   ]
  },
  {
   "cell_type": "code",
   "execution_count": 3,
   "metadata": {},
   "outputs": [],
   "source": [
    "import numpy as np\n",
    "import pandas as pd\n",
    "import matplotlib.pyplot as plt\n",
    "import tensorflow as tf\n",
    "\n",
    "seed = 2022\n",
    "np.random.seed(seed)\n",
    "tf.random.set_seed(seed)"
   ]
  },
  {
   "cell_type": "code",
   "execution_count": 4,
   "metadata": {},
   "outputs": [
    {
     "data": {
      "text/plain": [
       "(178, 13)"
      ]
     },
     "execution_count": 4,
     "metadata": {},
     "output_type": "execute_result"
    }
   ],
   "source": [
    "from sklearn.datasets import load_wine\n",
    "wine = load_wine()\n",
    "wine.data.shape"
   ]
  },
  {
   "cell_type": "code",
   "execution_count": 5,
   "metadata": {},
   "outputs": [],
   "source": [
    "# X 는 표준화\n",
    "from sklearn.preprocessing import StandardScaler\n",
    "wine_std = StandardScaler().fit_transform(wine.data)"
   ]
  },
  {
   "cell_type": "code",
   "execution_count": 6,
   "metadata": {},
   "outputs": [
    {
     "data": {
      "text/plain": [
       "array([[1., 0., 0.],\n",
       "       [1., 0., 0.],\n",
       "       [1., 0., 0.],\n",
       "       [1., 0., 0.],\n",
       "       [1., 0., 0.]], dtype=float32)"
      ]
     },
     "execution_count": 6,
     "metadata": {},
     "output_type": "execute_result"
    }
   ],
   "source": [
    "# y 는 원핫인코딩\n",
    "from tensorflow.keras.utils import to_categorical\n",
    "Y = to_categorical(wine.target)\n",
    "Y[:5]"
   ]
  },
  {
   "cell_type": "code",
   "execution_count": 7,
   "metadata": {},
   "outputs": [
    {
     "data": {
      "text/plain": [
       "((142, 13), (36, 13), (142, 3), (36, 3))"
      ]
     },
     "execution_count": 7,
     "metadata": {},
     "output_type": "execute_result"
    }
   ],
   "source": [
    "from sklearn.model_selection import train_test_split\n",
    "X_train, X_test, Y_train, Y_test = train_test_split(\n",
    "    wine_std, Y, stratify=Y, test_size=0.2, random_state=seed\n",
    ")\n",
    "X_train.shape, X_test.shape, Y_train.shape, Y_test.shape"
   ]
  },
  {
   "cell_type": "code",
   "execution_count": 9,
   "metadata": {},
   "outputs": [
    {
     "name": "stdout",
     "output_type": "stream",
     "text": [
      "Model: \"sequential\"\n",
      "_________________________________________________________________\n",
      " Layer (type)                Output Shape              Param #   \n",
      "=================================================================\n",
      " dense (Dense)               (None, 30)                420       \n",
      "                                                                 \n",
      " dense_1 (Dense)             (None, 12)                372       \n",
      "                                                                 \n",
      " dense_2 (Dense)             (None, 3)                 39        \n",
      "                                                                 \n",
      "=================================================================\n",
      "Total params: 831\n",
      "Trainable params: 831\n",
      "Non-trainable params: 0\n",
      "_________________________________________________________________\n"
     ]
    }
   ],
   "source": [
    "from tensorflow.keras.models import Sequential\n",
    "from tensorflow.keras.layers import Dense\n",
    "\n",
    "model = Sequential([\n",
    "    Dense(30, input_dim=13, activation='relu'),\n",
    "    Dense(12, activation='relu'),\n",
    "    Dense(3, activation='softmax')\n",
    "])\n",
    "model.summary()"
   ]
  },
  {
   "cell_type": "code",
   "execution_count": 10,
   "metadata": {},
   "outputs": [],
   "source": [
    "model.compile('adam', loss='categorical_crossentropy', metrics=['accuracy'])"
   ]
  },
  {
   "cell_type": "code",
   "execution_count": 11,
   "metadata": {},
   "outputs": [
    {
     "name": "stdout",
     "output_type": "stream",
     "text": [
      "Epoch 1/100\n",
      "2/2 [==============================] - 1s 148ms/step - loss: 1.9052 - accuracy: 0.3097 - val_loss: 1.6885 - val_accuracy: 0.2414\n",
      "Epoch 2/100\n",
      "2/2 [==============================] - 0s 20ms/step - loss: 1.7974 - accuracy: 0.3274 - val_loss: 1.5971 - val_accuracy: 0.2414\n",
      "Epoch 3/100\n",
      "2/2 [==============================] - 0s 22ms/step - loss: 1.6979 - accuracy: 0.3274 - val_loss: 1.5142 - val_accuracy: 0.2414\n",
      "Epoch 4/100\n",
      "2/2 [==============================] - 0s 20ms/step - loss: 1.6102 - accuracy: 0.3363 - val_loss: 1.4398 - val_accuracy: 0.2759\n",
      "Epoch 5/100\n",
      "2/2 [==============================] - 0s 21ms/step - loss: 1.5276 - accuracy: 0.3363 - val_loss: 1.3735 - val_accuracy: 0.3103\n",
      "Epoch 6/100\n",
      "2/2 [==============================] - 0s 22ms/step - loss: 1.4533 - accuracy: 0.3540 - val_loss: 1.3120 - val_accuracy: 0.3448\n",
      "Epoch 7/100\n",
      "2/2 [==============================] - 0s 20ms/step - loss: 1.3849 - accuracy: 0.3894 - val_loss: 1.2561 - val_accuracy: 0.3448\n",
      "Epoch 8/100\n",
      "2/2 [==============================] - 0s 31ms/step - loss: 1.3211 - accuracy: 0.3982 - val_loss: 1.2059 - val_accuracy: 0.3793\n",
      "Epoch 9/100\n",
      "2/2 [==============================] - 0s 23ms/step - loss: 1.2617 - accuracy: 0.4336 - val_loss: 1.1593 - val_accuracy: 0.4138\n",
      "Epoch 10/100\n",
      "2/2 [==============================] - 0s 22ms/step - loss: 1.2093 - accuracy: 0.4513 - val_loss: 1.1157 - val_accuracy: 0.4483\n",
      "Epoch 11/100\n",
      "2/2 [==============================] - 0s 20ms/step - loss: 1.1600 - accuracy: 0.4602 - val_loss: 1.0763 - val_accuracy: 0.5172\n",
      "Epoch 12/100\n",
      "2/2 [==============================] - 0s 20ms/step - loss: 1.1148 - accuracy: 0.4956 - val_loss: 1.0410 - val_accuracy: 0.5172\n",
      "Epoch 13/100\n",
      "2/2 [==============================] - 0s 21ms/step - loss: 1.0720 - accuracy: 0.4956 - val_loss: 1.0088 - val_accuracy: 0.5517\n",
      "Epoch 14/100\n",
      "2/2 [==============================] - 0s 22ms/step - loss: 1.0346 - accuracy: 0.5310 - val_loss: 0.9797 - val_accuracy: 0.5862\n",
      "Epoch 15/100\n",
      "2/2 [==============================] - 0s 22ms/step - loss: 1.0003 - accuracy: 0.5575 - val_loss: 0.9535 - val_accuracy: 0.5862\n",
      "Epoch 16/100\n",
      "2/2 [==============================] - 0s 22ms/step - loss: 0.9690 - accuracy: 0.5664 - val_loss: 0.9290 - val_accuracy: 0.6207\n",
      "Epoch 17/100\n",
      "2/2 [==============================] - 0s 21ms/step - loss: 0.9397 - accuracy: 0.5841 - val_loss: 0.9055 - val_accuracy: 0.6207\n",
      "Epoch 18/100\n",
      "2/2 [==============================] - 0s 20ms/step - loss: 0.9120 - accuracy: 0.5841 - val_loss: 0.8836 - val_accuracy: 0.6207\n",
      "Epoch 19/100\n",
      "2/2 [==============================] - 0s 21ms/step - loss: 0.8872 - accuracy: 0.5841 - val_loss: 0.8628 - val_accuracy: 0.6552\n",
      "Epoch 20/100\n",
      "2/2 [==============================] - 0s 20ms/step - loss: 0.8635 - accuracy: 0.6018 - val_loss: 0.8431 - val_accuracy: 0.6552\n",
      "Epoch 21/100\n",
      "2/2 [==============================] - 0s 20ms/step - loss: 0.8404 - accuracy: 0.6195 - val_loss: 0.8242 - val_accuracy: 0.6552\n",
      "Epoch 22/100\n",
      "2/2 [==============================] - 0s 21ms/step - loss: 0.8195 - accuracy: 0.6283 - val_loss: 0.8059 - val_accuracy: 0.6897\n",
      "Epoch 23/100\n",
      "2/2 [==============================] - 0s 21ms/step - loss: 0.7987 - accuracy: 0.6372 - val_loss: 0.7885 - val_accuracy: 0.6897\n",
      "Epoch 24/100\n",
      "2/2 [==============================] - 0s 20ms/step - loss: 0.7789 - accuracy: 0.6726 - val_loss: 0.7715 - val_accuracy: 0.6897\n",
      "Epoch 25/100\n",
      "2/2 [==============================] - 0s 21ms/step - loss: 0.7594 - accuracy: 0.7080 - val_loss: 0.7555 - val_accuracy: 0.6897\n",
      "Epoch 26/100\n",
      "2/2 [==============================] - 0s 19ms/step - loss: 0.7409 - accuracy: 0.7168 - val_loss: 0.7400 - val_accuracy: 0.7241\n",
      "Epoch 27/100\n",
      "2/2 [==============================] - 0s 20ms/step - loss: 0.7227 - accuracy: 0.7345 - val_loss: 0.7248 - val_accuracy: 0.7241\n",
      "Epoch 28/100\n",
      "2/2 [==============================] - 0s 21ms/step - loss: 0.7051 - accuracy: 0.7345 - val_loss: 0.7096 - val_accuracy: 0.7586\n",
      "Epoch 29/100\n",
      "2/2 [==============================] - 0s 20ms/step - loss: 0.6880 - accuracy: 0.7345 - val_loss: 0.6944 - val_accuracy: 0.7586\n",
      "Epoch 30/100\n",
      "2/2 [==============================] - 0s 19ms/step - loss: 0.6714 - accuracy: 0.7434 - val_loss: 0.6793 - val_accuracy: 0.7931\n",
      "Epoch 31/100\n",
      "2/2 [==============================] - 0s 20ms/step - loss: 0.6553 - accuracy: 0.7699 - val_loss: 0.6641 - val_accuracy: 0.7931\n",
      "Epoch 32/100\n",
      "2/2 [==============================] - 0s 19ms/step - loss: 0.6397 - accuracy: 0.7876 - val_loss: 0.6491 - val_accuracy: 0.8276\n",
      "Epoch 33/100\n",
      "2/2 [==============================] - 0s 19ms/step - loss: 0.6246 - accuracy: 0.8053 - val_loss: 0.6346 - val_accuracy: 0.8966\n",
      "Epoch 34/100\n",
      "2/2 [==============================] - 0s 20ms/step - loss: 0.6100 - accuracy: 0.8053 - val_loss: 0.6205 - val_accuracy: 0.8966\n",
      "Epoch 35/100\n",
      "2/2 [==============================] - 0s 20ms/step - loss: 0.5959 - accuracy: 0.8053 - val_loss: 0.6070 - val_accuracy: 0.8966\n",
      "Epoch 36/100\n",
      "2/2 [==============================] - 0s 22ms/step - loss: 0.5821 - accuracy: 0.8230 - val_loss: 0.5943 - val_accuracy: 0.8966\n",
      "Epoch 37/100\n",
      "2/2 [==============================] - 0s 20ms/step - loss: 0.5684 - accuracy: 0.8230 - val_loss: 0.5824 - val_accuracy: 0.8966\n",
      "Epoch 38/100\n",
      "2/2 [==============================] - 0s 22ms/step - loss: 0.5550 - accuracy: 0.8319 - val_loss: 0.5708 - val_accuracy: 0.8966\n",
      "Epoch 39/100\n",
      "2/2 [==============================] - 0s 20ms/step - loss: 0.5417 - accuracy: 0.8407 - val_loss: 0.5593 - val_accuracy: 0.8966\n",
      "Epoch 40/100\n",
      "2/2 [==============================] - 0s 22ms/step - loss: 0.5288 - accuracy: 0.8496 - val_loss: 0.5478 - val_accuracy: 0.8966\n",
      "Epoch 41/100\n",
      "2/2 [==============================] - 0s 21ms/step - loss: 0.5163 - accuracy: 0.8673 - val_loss: 0.5362 - val_accuracy: 0.8966\n",
      "Epoch 42/100\n",
      "2/2 [==============================] - 0s 20ms/step - loss: 0.5042 - accuracy: 0.8673 - val_loss: 0.5248 - val_accuracy: 0.8966\n",
      "Epoch 43/100\n",
      "2/2 [==============================] - 0s 20ms/step - loss: 0.4924 - accuracy: 0.8673 - val_loss: 0.5138 - val_accuracy: 0.8966\n",
      "Epoch 44/100\n",
      "2/2 [==============================] - 0s 19ms/step - loss: 0.4807 - accuracy: 0.8761 - val_loss: 0.5032 - val_accuracy: 0.8966\n",
      "Epoch 45/100\n",
      "2/2 [==============================] - 0s 19ms/step - loss: 0.4695 - accuracy: 0.8761 - val_loss: 0.4930 - val_accuracy: 0.8966\n",
      "Epoch 46/100\n",
      "2/2 [==============================] - 0s 21ms/step - loss: 0.4583 - accuracy: 0.8761 - val_loss: 0.4829 - val_accuracy: 0.8966\n",
      "Epoch 47/100\n",
      "2/2 [==============================] - 0s 20ms/step - loss: 0.4476 - accuracy: 0.8761 - val_loss: 0.4731 - val_accuracy: 0.8966\n",
      "Epoch 48/100\n",
      "2/2 [==============================] - 0s 22ms/step - loss: 0.4373 - accuracy: 0.9027 - val_loss: 0.4639 - val_accuracy: 0.8966\n",
      "Epoch 49/100\n",
      "2/2 [==============================] - 0s 20ms/step - loss: 0.4273 - accuracy: 0.9204 - val_loss: 0.4548 - val_accuracy: 0.8966\n",
      "Epoch 50/100\n",
      "2/2 [==============================] - 0s 20ms/step - loss: 0.4174 - accuracy: 0.9381 - val_loss: 0.4461 - val_accuracy: 0.8966\n",
      "Epoch 51/100\n",
      "2/2 [==============================] - 0s 20ms/step - loss: 0.4080 - accuracy: 0.9381 - val_loss: 0.4377 - val_accuracy: 0.8966\n",
      "Epoch 52/100\n",
      "2/2 [==============================] - 0s 20ms/step - loss: 0.3987 - accuracy: 0.9558 - val_loss: 0.4295 - val_accuracy: 0.9310\n",
      "Epoch 53/100\n",
      "2/2 [==============================] - 0s 20ms/step - loss: 0.3898 - accuracy: 0.9558 - val_loss: 0.4213 - val_accuracy: 0.9310\n",
      "Epoch 54/100\n",
      "2/2 [==============================] - 0s 19ms/step - loss: 0.3812 - accuracy: 0.9558 - val_loss: 0.4131 - val_accuracy: 0.9310\n",
      "Epoch 55/100\n",
      "2/2 [==============================] - 0s 21ms/step - loss: 0.3729 - accuracy: 0.9558 - val_loss: 0.4050 - val_accuracy: 0.9310\n",
      "Epoch 56/100\n",
      "2/2 [==============================] - 0s 21ms/step - loss: 0.3648 - accuracy: 0.9646 - val_loss: 0.3968 - val_accuracy: 0.9310\n",
      "Epoch 57/100\n",
      "2/2 [==============================] - 0s 20ms/step - loss: 0.3570 - accuracy: 0.9646 - val_loss: 0.3886 - val_accuracy: 0.9310\n",
      "Epoch 58/100\n",
      "2/2 [==============================] - 0s 20ms/step - loss: 0.3487 - accuracy: 0.9646 - val_loss: 0.3803 - val_accuracy: 0.9310\n",
      "Epoch 59/100\n",
      "2/2 [==============================] - 0s 18ms/step - loss: 0.3406 - accuracy: 0.9735 - val_loss: 0.3722 - val_accuracy: 0.9310\n",
      "Epoch 60/100\n",
      "2/2 [==============================] - 0s 22ms/step - loss: 0.3325 - accuracy: 0.9735 - val_loss: 0.3644 - val_accuracy: 0.9310\n",
      "Epoch 61/100\n",
      "2/2 [==============================] - 0s 20ms/step - loss: 0.3244 - accuracy: 0.9735 - val_loss: 0.3568 - val_accuracy: 0.9310\n",
      "Epoch 62/100\n",
      "2/2 [==============================] - 0s 21ms/step - loss: 0.3162 - accuracy: 0.9735 - val_loss: 0.3494 - val_accuracy: 0.9310\n",
      "Epoch 63/100\n",
      "2/2 [==============================] - 0s 19ms/step - loss: 0.3085 - accuracy: 0.9735 - val_loss: 0.3420 - val_accuracy: 0.9310\n",
      "Epoch 64/100\n",
      "2/2 [==============================] - 0s 20ms/step - loss: 0.3007 - accuracy: 0.9735 - val_loss: 0.3347 - val_accuracy: 0.9310\n",
      "Epoch 65/100\n",
      "2/2 [==============================] - 0s 20ms/step - loss: 0.2932 - accuracy: 0.9735 - val_loss: 0.3275 - val_accuracy: 0.9310\n",
      "Epoch 66/100\n",
      "2/2 [==============================] - 0s 20ms/step - loss: 0.2860 - accuracy: 0.9735 - val_loss: 0.3206 - val_accuracy: 0.9310\n",
      "Epoch 67/100\n",
      "2/2 [==============================] - 0s 20ms/step - loss: 0.2789 - accuracy: 0.9735 - val_loss: 0.3137 - val_accuracy: 0.9310\n",
      "Epoch 68/100\n",
      "2/2 [==============================] - 0s 20ms/step - loss: 0.2717 - accuracy: 0.9735 - val_loss: 0.3070 - val_accuracy: 0.9310\n",
      "Epoch 69/100\n",
      "2/2 [==============================] - 0s 21ms/step - loss: 0.2651 - accuracy: 0.9735 - val_loss: 0.3005 - val_accuracy: 0.9310\n",
      "Epoch 70/100\n",
      "2/2 [==============================] - 0s 20ms/step - loss: 0.2581 - accuracy: 0.9735 - val_loss: 0.2941 - val_accuracy: 0.9655\n",
      "Epoch 71/100\n",
      "2/2 [==============================] - 0s 21ms/step - loss: 0.2514 - accuracy: 0.9735 - val_loss: 0.2877 - val_accuracy: 0.9655\n",
      "Epoch 72/100\n",
      "2/2 [==============================] - 0s 20ms/step - loss: 0.2451 - accuracy: 0.9735 - val_loss: 0.2813 - val_accuracy: 0.9655\n",
      "Epoch 73/100\n",
      "2/2 [==============================] - 0s 21ms/step - loss: 0.2387 - accuracy: 0.9735 - val_loss: 0.2748 - val_accuracy: 0.9655\n",
      "Epoch 74/100\n",
      "2/2 [==============================] - 0s 21ms/step - loss: 0.2327 - accuracy: 0.9735 - val_loss: 0.2682 - val_accuracy: 0.9655\n",
      "Epoch 75/100\n",
      "2/2 [==============================] - 0s 21ms/step - loss: 0.2268 - accuracy: 0.9735 - val_loss: 0.2614 - val_accuracy: 0.9655\n",
      "Epoch 76/100\n",
      "2/2 [==============================] - 0s 21ms/step - loss: 0.2209 - accuracy: 0.9735 - val_loss: 0.2546 - val_accuracy: 0.9655\n",
      "Epoch 77/100\n",
      "2/2 [==============================] - 0s 21ms/step - loss: 0.2153 - accuracy: 0.9735 - val_loss: 0.2481 - val_accuracy: 0.9655\n",
      "Epoch 78/100\n",
      "2/2 [==============================] - 0s 22ms/step - loss: 0.2098 - accuracy: 0.9735 - val_loss: 0.2416 - val_accuracy: 0.9655\n",
      "Epoch 79/100\n",
      "2/2 [==============================] - 0s 22ms/step - loss: 0.2045 - accuracy: 0.9735 - val_loss: 0.2352 - val_accuracy: 0.9655\n",
      "Epoch 80/100\n",
      "2/2 [==============================] - 0s 21ms/step - loss: 0.1996 - accuracy: 0.9735 - val_loss: 0.2289 - val_accuracy: 0.9655\n",
      "Epoch 81/100\n",
      "2/2 [==============================] - 0s 21ms/step - loss: 0.1945 - accuracy: 0.9735 - val_loss: 0.2229 - val_accuracy: 0.9655\n",
      "Epoch 82/100\n",
      "2/2 [==============================] - 0s 23ms/step - loss: 0.1898 - accuracy: 0.9735 - val_loss: 0.2171 - val_accuracy: 0.9655\n",
      "Epoch 83/100\n",
      "2/2 [==============================] - 0s 20ms/step - loss: 0.1850 - accuracy: 0.9735 - val_loss: 0.2115 - val_accuracy: 0.9655\n",
      "Epoch 84/100\n",
      "2/2 [==============================] - 0s 21ms/step - loss: 0.1805 - accuracy: 0.9735 - val_loss: 0.2060 - val_accuracy: 0.9655\n",
      "Epoch 85/100\n",
      "2/2 [==============================] - 0s 20ms/step - loss: 0.1759 - accuracy: 0.9735 - val_loss: 0.2005 - val_accuracy: 0.9655\n",
      "Epoch 86/100\n",
      "2/2 [==============================] - 0s 20ms/step - loss: 0.1716 - accuracy: 0.9735 - val_loss: 0.1950 - val_accuracy: 0.9655\n",
      "Epoch 87/100\n",
      "2/2 [==============================] - 0s 20ms/step - loss: 0.1675 - accuracy: 0.9735 - val_loss: 0.1898 - val_accuracy: 0.9655\n",
      "Epoch 88/100\n",
      "2/2 [==============================] - 0s 21ms/step - loss: 0.1634 - accuracy: 0.9735 - val_loss: 0.1848 - val_accuracy: 0.9655\n",
      "Epoch 89/100\n",
      "2/2 [==============================] - 0s 20ms/step - loss: 0.1595 - accuracy: 0.9735 - val_loss: 0.1798 - val_accuracy: 0.9655\n",
      "Epoch 90/100\n",
      "2/2 [==============================] - 0s 21ms/step - loss: 0.1556 - accuracy: 0.9735 - val_loss: 0.1750 - val_accuracy: 0.9655\n",
      "Epoch 91/100\n",
      "2/2 [==============================] - 0s 20ms/step - loss: 0.1517 - accuracy: 0.9735 - val_loss: 0.1703 - val_accuracy: 0.9655\n",
      "Epoch 92/100\n",
      "2/2 [==============================] - 0s 20ms/step - loss: 0.1483 - accuracy: 0.9823 - val_loss: 0.1659 - val_accuracy: 1.0000\n",
      "Epoch 93/100\n",
      "2/2 [==============================] - 0s 20ms/step - loss: 0.1448 - accuracy: 0.9823 - val_loss: 0.1617 - val_accuracy: 1.0000\n",
      "Epoch 94/100\n",
      "2/2 [==============================] - 0s 25ms/step - loss: 0.1415 - accuracy: 0.9823 - val_loss: 0.1578 - val_accuracy: 1.0000\n",
      "Epoch 95/100\n",
      "2/2 [==============================] - 0s 22ms/step - loss: 0.1382 - accuracy: 0.9823 - val_loss: 0.1541 - val_accuracy: 1.0000\n",
      "Epoch 96/100\n",
      "2/2 [==============================] - 0s 21ms/step - loss: 0.1351 - accuracy: 0.9823 - val_loss: 0.1507 - val_accuracy: 1.0000\n",
      "Epoch 97/100\n",
      "2/2 [==============================] - 0s 23ms/step - loss: 0.1320 - accuracy: 0.9823 - val_loss: 0.1475 - val_accuracy: 1.0000\n",
      "Epoch 98/100\n",
      "2/2 [==============================] - 0s 20ms/step - loss: 0.1291 - accuracy: 0.9823 - val_loss: 0.1444 - val_accuracy: 1.0000\n",
      "Epoch 99/100\n",
      "2/2 [==============================] - 0s 26ms/step - loss: 0.1264 - accuracy: 0.9823 - val_loss: 0.1414 - val_accuracy: 1.0000\n",
      "Epoch 100/100\n",
      "2/2 [==============================] - 0s 24ms/step - loss: 0.1237 - accuracy: 0.9823 - val_loss: 0.1385 - val_accuracy: 1.0000\n"
     ]
    }
   ],
   "source": [
    "hist = model.fit(X_train, Y_train, validation_split=0.2,\n",
    "                 epochs=100, batch_size=100)"
   ]
  },
  {
   "cell_type": "code",
   "execution_count": 12,
   "metadata": {},
   "outputs": [
    {
     "name": "stdout",
     "output_type": "stream",
     "text": [
      "2/2 [==============================] - 0s 3ms/step - loss: 0.1301 - accuracy: 0.9722\n"
     ]
    },
    {
     "data": {
      "text/plain": [
       "[0.1300567388534546, 0.9722222089767456]"
      ]
     },
     "execution_count": 12,
     "metadata": {},
     "output_type": "execute_result"
    }
   ],
   "source": [
    "model.evaluate(X_test, Y_test)"
   ]
  },
  {
   "cell_type": "code",
   "execution_count": 13,
   "metadata": {},
   "outputs": [],
   "source": [
    "y_acc = hist.history['accuracy']\n",
    "y_vloss = hist.history['val_loss']\n",
    "xs = np.arange(1, len(y_acc)+1)"
   ]
  },
  {
   "cell_type": "code",
   "execution_count": 14,
   "metadata": {},
   "outputs": [
    {
     "data": {
      "image/png": "[encoded data removed]",
      "text/plain": [
       "<Figure size 864x576 with 1 Axes>"
      ]
     },
     "metadata": {
      "needs_background": "light"
     },
     "output_type": "display_data"
    }
   ],
   "source": [
    "plt.figure(figsize=(12,8))\n",
    "plt.plot(xs, y_acc, label='train accuracy')\n",
    "plt.plot(xs, y_vloss, label='validation loss')\n",
    "plt.legend(), plt.grid()\n",
    "plt.xlabel('Epoch')\n",
    "plt.show()"
   ]
  },
  {
   "cell_type": "code",
   "execution_count": 24,
   "metadata": {},
   "outputs": [
    {
     "name": "stdout",
     "output_type": "stream",
     "text": [
      "Model: \"sequential_2\"\n",
      "_________________________________________________________________\n",
      " Layer (type)                Output Shape              Param #   \n",
      "=================================================================\n",
      " dense_6 (Dense)             (None, 30)                420       \n",
      "                                                                 \n",
      " dense_7 (Dense)             (None, 12)                372       \n",
      "                                                                 \n",
      " dense_8 (Dense)             (None, 3)                 39        \n",
      "                                                                 \n",
      "=================================================================\n",
      "Total params: 831\n",
      "Trainable params: 831\n",
      "Non-trainable params: 0\n",
      "_________________________________________________________________\n"
     ]
    }
   ],
   "source": [
    "model_2 = Sequential([ \n",
    "    Dense(30, input_dim=13, activation='relu'),\n",
    "    Dense(12, activation='relu'),\n",
    "    Dense(3, activation='softmax')      # 노드수는 y의 종류(N)수, 활성화함수는 softmax\n",
    "])\n",
    "model_2.summary()"
   ]
  },
  {
   "cell_type": "code",
   "execution_count": 25,
   "metadata": {},
   "outputs": [],
   "source": [
    "model_2.compile('adam', loss='categorical_crossentropy', metrics=['accuracy'])"
   ]
  },
  {
   "cell_type": "code",
   "execution_count": 26,
   "metadata": {},
   "outputs": [],
   "source": [
    "history_2 = model_2.fit(X_train, Y_train, validation_split=0.2,\n",
    "                    epochs=1000, batch_size=100, verbose=0)"
   ]
  },
  {
   "cell_type": "code",
   "execution_count": 27,
   "metadata": {},
   "outputs": [
    {
     "name": "stdout",
     "output_type": "stream",
     "text": [
      "2/2 [==============================] - 0s 3ms/step - loss: 8.4267e-04 - accuracy: 1.0000\n"
     ]
    },
    {
     "data": {
      "text/plain": [
       "[0.000842672074213624, 1.0]"
      ]
     },
     "execution_count": 27,
     "metadata": {},
     "output_type": "execute_result"
    }
   ],
   "source": [
    "model_2.evaluate(X_test, Y_test)"
   ]
  },
  {
   "cell_type": "code",
   "execution_count": 28,
   "metadata": {},
   "outputs": [],
   "source": [
    "y_acc_2 = history_2.history['accuracy']\n",
    "y_vloss_2 = history_2.history['val_loss']\n",
    "xs_2 = np.arange(1, len(y_acc_2)+1)"
   ]
  },
  {
   "cell_type": "code",
   "execution_count": 29,
   "metadata": {},
   "outputs": [
    {
     "data": {
      "image/png": "[encoded data removed]",
      "text/plain": [
       "<Figure size 864x576 with 1 Axes>"
      ]
     },
     "metadata": {
      "needs_background": "light"
     },
     "output_type": "display_data"
    }
   ],
   "source": [
    "plt.figure(figsize=(12,8))\n",
    "plt.plot(xs_2, y_acc_2, label='train accuracy')\n",
    "plt.plot(xs_2, y_vloss_2, label='validation loss')\n",
    "plt.legend(), plt.grid()\n",
    "plt.xlabel('Epoch')\n",
    "plt.show()"
   ]
  },
  {
   "cell_type": "markdown",
   "metadata": {},
   "source": [
    "- Model Save & Load"
   ]
  },
  {
   "cell_type": "code",
   "execution_count": 31,
   "metadata": {},
   "outputs": [],
   "source": [
    "model_2.save('./models/wine.h5')"
   ]
  },
  {
   "cell_type": "code",
   "execution_count": 33,
   "metadata": {},
   "outputs": [
    {
     "name": "stdout",
     "output_type": "stream",
     "text": [
      "2/2 [==============================] - 0s 3ms/step - loss: 8.4267e-04 - accuracy: 1.0000\n"
     ]
    },
    {
     "data": {
      "text/plain": [
       "[0.000842672074213624, 1.0]"
      ]
     },
     "execution_count": 33,
     "metadata": {},
     "output_type": "execute_result"
    }
   ],
   "source": [
    "from tensorflow.keras.models import load_model\n",
    "my_model = load_model('./models/wine.h5')\n",
    "my_model.evaluate(X_test, Y_test)"
   ]
  },
  {
   "cell_type": "markdown",
   "metadata": {},
   "source": [
    "- Test"
   ]
  },
  {
   "cell_type": "code",
   "execution_count": 35,
   "metadata": {},
   "outputs": [
    {
     "data": {
      "text/plain": [
       "(array([-1.13720713, -0.23011443, -2.43634632, -0.59905169, -0.192495  ,\n",
       "        -0.10433159,  0.14128858, -0.82071924, -0.33447089, -0.76049691,\n",
       "         1.37126518,  0.49197446, -0.11748635]),\n",
       " array([0., 1., 0.], dtype=float32))"
      ]
     },
     "execution_count": 35,
     "metadata": {},
     "output_type": "execute_result"
    }
   ],
   "source": [
    "wine_std[100], Y[100]"
   ]
  },
  {
   "cell_type": "code",
   "execution_count": 36,
   "metadata": {},
   "outputs": [
    {
     "data": {
      "text/plain": [
       "array(['class_0', 'class_1', 'class_2'], dtype='<U7')"
      ]
     },
     "execution_count": 36,
     "metadata": {},
     "output_type": "execute_result"
    }
   ],
   "source": [
    "wine.target_names"
   ]
  },
  {
   "cell_type": "code",
   "execution_count": 37,
   "metadata": {},
   "outputs": [
    {
     "name": "stdout",
     "output_type": "stream",
     "text": [
      "1/1 [==============================] - 0s 17ms/step - loss: 5.3644e-06 - accuracy: 1.0000\n"
     ]
    },
    {
     "data": {
      "text/plain": [
       "[5.364403477869928e-06, 1.0]"
      ]
     },
     "execution_count": 37,
     "metadata": {},
     "output_type": "execute_result"
    }
   ],
   "source": [
    "my_model.evaluate(wine_std[100].reshape(1, -1), Y[100].reshape(1, -1))"
   ]
  }
 ],
 "metadata": {
  "interpreter": {
   "hash": "68756eb6c044f31c46e3e1f38723aea1f0146198488dd3d60c0e4241eb6f7dd0"
  },
  "kernelspec": {
   "display_name": "Python 3.9.12 ('base')",
   "language": "python",
   "name": "python3"
  },
  "language_info": {
   "codemirror_mode": {
    "name": "ipython",
    "version": 3
   },
   "file_extension": ".py",
   "mimetype": "text/x-python",
   "name": "python",
   "nbconvert_exporter": "python",
   "pygments_lexer": "ipython3",
   "version": "3.9.12"
  },
  "orig_nbformat": 4
 },
 "nbformat": 4,
 "nbformat_minor": 2
}
