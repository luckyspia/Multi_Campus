{
  "cells": [
    {
      "cell_type": "code",
      "execution_count": 1,
      "metadata": {
        "id": "mFvfqbtjb6yT"
      },
      "outputs": [],
      "source": [
        "import pandas as pd\n",
        "import numpy as np\n",
        "from sklearn.datasets import load_digits\n",
        "from sklearn.preprocessing import StandardScaler\n",
        "import tensorflow as tf\n",
        "from tensorflow.keras.utils import to_categorical\n"
      ]
    },
    {
      "cell_type": "code",
      "execution_count": 2,
      "metadata": {
        "id": "MpX93x8PcF5_"
      },
      "outputs": [],
      "source": [
        "np.random.seed(2022)\n",
        "\n",
        "digits = load_digits()\n",
        "digits_std = StandardScaler().fit_transform(digits.data)\n",
        "Y = to_categorical(digits.target)"
      ]
    },
    {
      "cell_type": "code",
      "execution_count": 3,
      "metadata": {
        "id": "fcEYFr8HcfbY"
      },
      "outputs": [],
      "source": [
        "from sklearn.model_selection import train_test_split\n",
        "X_train, X_test, Y_train, Y_test = train_test_split(\n",
        "    digits_std, Y, stratify=Y, test_size=0.2, random_state=2022\n",
        ")"
      ]
    },
    {
      "cell_type": "code",
      "execution_count": 4,
      "metadata": {
        "colab": {
          "base_uri": "https://localhost:8080/"
        },
        "id": "no4vsjd_c_8C",
        "outputId": "2877d89f-d250-45eb-bab9-7fd84977d4a6"
      },
      "outputs": [
        {
          "data": {
            "text/plain": [
              "(1437, 64)"
            ]
          },
          "execution_count": 4,
          "metadata": {},
          "output_type": "execute_result"
        }
      ],
      "source": [
        "X_train.shape"
      ]
    },
    {
      "cell_type": "code",
      "execution_count": 5,
      "metadata": {
        "id": "7TzdUjvYcu2c"
      },
      "outputs": [],
      "source": [
        "from tensorflow.keras.models import Sequential\n",
        "from tensorflow.keras.layers import Dense"
      ]
    },
    {
      "cell_type": "code",
      "execution_count": 53,
      "metadata": {
        "colab": {
          "base_uri": "https://localhost:8080/"
        },
        "id": "tq8eR_uwc0mO",
        "outputId": "520ac11a-71ee-4060-eb42-9d6f1a5a0594"
      },
      "outputs": [
        {
          "name": "stdout",
          "output_type": "stream",
          "text": [
            "Model: \"sequential_6\"\n",
            "_________________________________________________________________\n",
            " Layer (type)                Output Shape              Param #   \n",
            "=================================================================\n",
            " dense_31 (Dense)            (None, 1024)              66560     \n",
            "                                                                 \n",
            " dense_32 (Dense)            (None, 512)               524800    \n",
            "                                                                 \n",
            " dense_33 (Dense)            (None, 256)               131328    \n",
            "                                                                 \n",
            " dense_34 (Dense)            (None, 128)               32896     \n",
            "                                                                 \n",
            " dense_35 (Dense)            (None, 10)                1290      \n",
            "                                                                 \n",
            "=================================================================\n",
            "Total params: 756,874\n",
            "Trainable params: 756,874\n",
            "Non-trainable params: 0\n",
            "_________________________________________________________________\n"
          ]
        }
      ],
      "source": [
        "model = Sequential([\n",
        "                    Dense(1024, input_dim=64, activation='relu'),\n",
        "                    Dense(512, activation='relu'),\n",
        "                    Dense(256, activation='relu'),\n",
        "                    Dense(128, activation='relu'),\n",
        "                    Dense(10, activation='softmax')\n",
        "])\n",
        "model.summary()"
      ]
    },
    {
      "cell_type": "code",
      "execution_count": 54,
      "metadata": {
        "id": "XFtj6QnAdODa"
      },
      "outputs": [],
      "source": [
        "model.compile('adam', loss='categorical_crossentropy', metrics=['accuracy'])"
      ]
    },
    {
      "cell_type": "code",
      "execution_count": 44,
      "metadata": {
        "id": "C--RrcVAdkYB"
      },
      "outputs": [],
      "source": [
        "from tensorflow.keras.callbacks import ModelCheckpoint, EarlyStopping\n",
        "modelpath = 'model_5.h5'\n",
        "mc = ModelCheckpoint(filepath=modelpath,monitor='val_loss', verbose=0, save_best_only=True)\n",
        "es = EarlyStopping(monitor='val_loss',patience=30)"
      ]
    },
    {
      "cell_type": "code",
      "execution_count": 55,
      "metadata": {
        "colab": {
          "base_uri": "https://localhost:8080/"
        },
        "id": "0J7K3oPNdWUl",
        "outputId": "af633e62-ba1a-4b6b-8417-8faa3b0ab83a"
      },
      "outputs": [
        {
          "name": "stdout",
          "output_type": "stream",
          "text": [
            "Epoch 1/100\n",
            "12/12 [==============================] - 1s 17ms/step - loss: 1.1649 - accuracy: 0.7032 - val_loss: 0.2609 - val_accuracy: 0.9028\n",
            "Epoch 2/100\n",
            "12/12 [==============================] - 0s 5ms/step - loss: 0.1662 - accuracy: 0.9513 - val_loss: 0.1501 - val_accuracy: 0.9410\n",
            "Epoch 3/100\n",
            "12/12 [==============================] - 0s 6ms/step - loss: 0.0771 - accuracy: 0.9730 - val_loss: 0.1872 - val_accuracy: 0.9479\n",
            "Epoch 4/100\n",
            "12/12 [==============================] - 0s 5ms/step - loss: 0.0431 - accuracy: 0.9843 - val_loss: 0.1717 - val_accuracy: 0.9514\n",
            "Epoch 5/100\n",
            "12/12 [==============================] - 0s 5ms/step - loss: 0.0348 - accuracy: 0.9939 - val_loss: 0.1450 - val_accuracy: 0.9549\n",
            "Epoch 6/100\n",
            "12/12 [==============================] - 0s 5ms/step - loss: 0.0130 - accuracy: 0.9983 - val_loss: 0.2489 - val_accuracy: 0.9410\n",
            "Epoch 7/100\n",
            "12/12 [==============================] - 0s 5ms/step - loss: 0.0486 - accuracy: 0.9922 - val_loss: 0.1798 - val_accuracy: 0.9618\n",
            "Epoch 8/100\n",
            "12/12 [==============================] - 0s 5ms/step - loss: 0.0332 - accuracy: 0.9930 - val_loss: 0.1521 - val_accuracy: 0.9514\n",
            "Epoch 9/100\n",
            "12/12 [==============================] - 0s 6ms/step - loss: 0.0104 - accuracy: 0.9983 - val_loss: 0.1716 - val_accuracy: 0.9583\n",
            "Epoch 10/100\n",
            "12/12 [==============================] - 0s 5ms/step - loss: 0.0031 - accuracy: 1.0000 - val_loss: 0.2121 - val_accuracy: 0.9583\n",
            "Epoch 11/100\n",
            "12/12 [==============================] - 0s 5ms/step - loss: 0.0015 - accuracy: 1.0000 - val_loss: 0.1910 - val_accuracy: 0.9618\n",
            "Epoch 12/100\n",
            "12/12 [==============================] - 0s 7ms/step - loss: 7.7259e-04 - accuracy: 1.0000 - val_loss: 0.1834 - val_accuracy: 0.9583\n",
            "Epoch 13/100\n",
            "12/12 [==============================] - 0s 5ms/step - loss: 5.5228e-04 - accuracy: 1.0000 - val_loss: 0.1845 - val_accuracy: 0.9653\n",
            "Epoch 14/100\n",
            "12/12 [==============================] - 0s 5ms/step - loss: 4.5579e-04 - accuracy: 1.0000 - val_loss: 0.1843 - val_accuracy: 0.9653\n",
            "Epoch 15/100\n",
            "12/12 [==============================] - 0s 5ms/step - loss: 3.7722e-04 - accuracy: 1.0000 - val_loss: 0.1818 - val_accuracy: 0.9653\n",
            "Epoch 16/100\n",
            "12/12 [==============================] - 0s 5ms/step - loss: 3.3143e-04 - accuracy: 1.0000 - val_loss: 0.1801 - val_accuracy: 0.9653\n",
            "Epoch 17/100\n",
            "12/12 [==============================] - 0s 5ms/step - loss: 2.9484e-04 - accuracy: 1.0000 - val_loss: 0.1803 - val_accuracy: 0.9653\n",
            "Epoch 18/100\n",
            "12/12 [==============================] - 0s 5ms/step - loss: 2.6630e-04 - accuracy: 1.0000 - val_loss: 0.1801 - val_accuracy: 0.9653\n",
            "Epoch 19/100\n",
            "12/12 [==============================] - 0s 5ms/step - loss: 2.4117e-04 - accuracy: 1.0000 - val_loss: 0.1795 - val_accuracy: 0.9653\n",
            "Epoch 20/100\n",
            "12/12 [==============================] - 0s 5ms/step - loss: 2.2168e-04 - accuracy: 1.0000 - val_loss: 0.1794 - val_accuracy: 0.9653\n",
            "Epoch 21/100\n",
            "12/12 [==============================] - 0s 5ms/step - loss: 2.0331e-04 - accuracy: 1.0000 - val_loss: 0.1800 - val_accuracy: 0.9653\n",
            "Epoch 22/100\n",
            "12/12 [==============================] - 0s 5ms/step - loss: 1.8920e-04 - accuracy: 1.0000 - val_loss: 0.1785 - val_accuracy: 0.9653\n",
            "Epoch 23/100\n",
            "12/12 [==============================] - 0s 5ms/step - loss: 1.7480e-04 - accuracy: 1.0000 - val_loss: 0.1790 - val_accuracy: 0.9653\n",
            "Epoch 24/100\n",
            "12/12 [==============================] - 0s 5ms/step - loss: 1.6211e-04 - accuracy: 1.0000 - val_loss: 0.1784 - val_accuracy: 0.9653\n",
            "Epoch 25/100\n",
            "12/12 [==============================] - 0s 6ms/step - loss: 1.5087e-04 - accuracy: 1.0000 - val_loss: 0.1788 - val_accuracy: 0.9653\n",
            "Epoch 26/100\n",
            "12/12 [==============================] - 0s 5ms/step - loss: 1.4069e-04 - accuracy: 1.0000 - val_loss: 0.1781 - val_accuracy: 0.9653\n",
            "Epoch 27/100\n",
            "12/12 [==============================] - 0s 5ms/step - loss: 1.3250e-04 - accuracy: 1.0000 - val_loss: 0.1781 - val_accuracy: 0.9653\n",
            "Epoch 28/100\n",
            "12/12 [==============================] - 0s 6ms/step - loss: 1.2429e-04 - accuracy: 1.0000 - val_loss: 0.1785 - val_accuracy: 0.9653\n",
            "Epoch 29/100\n",
            "12/12 [==============================] - 0s 7ms/step - loss: 1.1754e-04 - accuracy: 1.0000 - val_loss: 0.1790 - val_accuracy: 0.9653\n",
            "Epoch 30/100\n",
            "12/12 [==============================] - 0s 5ms/step - loss: 1.1096e-04 - accuracy: 1.0000 - val_loss: 0.1780 - val_accuracy: 0.9653\n",
            "Epoch 31/100\n",
            "12/12 [==============================] - 0s 5ms/step - loss: 1.0479e-04 - accuracy: 1.0000 - val_loss: 0.1779 - val_accuracy: 0.9653\n",
            "Epoch 32/100\n",
            "12/12 [==============================] - 0s 5ms/step - loss: 9.8933e-05 - accuracy: 1.0000 - val_loss: 0.1784 - val_accuracy: 0.9653\n",
            "Epoch 33/100\n",
            "12/12 [==============================] - 0s 5ms/step - loss: 9.4215e-05 - accuracy: 1.0000 - val_loss: 0.1783 - val_accuracy: 0.9653\n",
            "Epoch 34/100\n",
            "12/12 [==============================] - 0s 5ms/step - loss: 9.0085e-05 - accuracy: 1.0000 - val_loss: 0.1780 - val_accuracy: 0.9653\n",
            "Epoch 35/100\n",
            "12/12 [==============================] - 0s 7ms/step - loss: 8.5221e-05 - accuracy: 1.0000 - val_loss: 0.1779 - val_accuracy: 0.9688\n"
          ]
        }
      ],
      "source": [
        "hist = model.fit(X_train, Y_train, validation_split=0.2,\n",
        "                 epochs=100, batch_size=100, callbacks=[mc, es])"
      ]
    },
    {
      "cell_type": "code",
      "execution_count": 56,
      "metadata": {
        "colab": {
          "base_uri": "https://localhost:8080/"
        },
        "id": "D-FdzHyMdZ1x",
        "outputId": "c4e3af77-018d-418b-b706-43ca6422ee67"
      },
      "outputs": [
        {
          "name": "stdout",
          "output_type": "stream",
          "text": [
            "12/12 [==============================] - 0s 3ms/step - loss: 0.0469 - accuracy: 0.9861\n"
          ]
        },
        {
          "data": {
            "text/plain": [
              "[0.04689835384488106, 0.9861111044883728]"
            ]
          },
          "execution_count": 56,
          "metadata": {},
          "output_type": "execute_result"
        }
      ],
      "source": [
        "model.evaluate(X_test, Y_test)"
      ]
    },
    {
      "cell_type": "code",
      "execution_count": 39,
      "metadata": {
        "colab": {
          "base_uri": "https://localhost:8080/"
        },
        "id": "MQQZfyP1dcl4",
        "outputId": "fa659ee6-c936-4baf-935d-4cb479986b16"
      },
      "outputs": [
        {
          "name": "stdout",
          "output_type": "stream",
          "text": [
            "12/12 [==============================] - 0s 4ms/step - loss: 0.0413 - accuracy: 0.9917\n"
          ]
        },
        {
          "data": {
            "text/plain": [
              "[0.04131609573960304, 0.9916666746139526]"
            ]
          },
          "execution_count": 39,
          "metadata": {},
          "output_type": "execute_result"
        }
      ],
      "source": [
        "from tensorflow.keras.models import load_model\n",
        "best_model = load_model('model_3.h5')\n",
        "best_model.evaluate(X_test, Y_test)"
      ]
    }
  ],
  "metadata": {
    "accelerator": "GPU",
    "colab": {
      "name": "submit.ipynb",
      "provenance": []
    },
    "interpreter": {
      "hash": "68756eb6c044f31c46e3e1f38723aea1f0146198488dd3d60c0e4241eb6f7dd0"
    },
    "kernelspec": {
      "display_name": "Python 3.8.8 ('base')",
      "language": "python",
      "name": "python3"
    },
    "language_info": {
      "name": "python",
      "version": "3.8.8"
    }
  },
  "nbformat": 4,
  "nbformat_minor": 0
}
