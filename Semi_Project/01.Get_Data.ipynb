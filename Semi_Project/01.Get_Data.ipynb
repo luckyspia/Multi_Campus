{
 "cells": [
  {
   "cell_type": "code",
   "execution_count": 1,
   "metadata": {},
   "outputs": [],
   "source": [
    "import requests\n",
    "from bs4 import BeautifulSoup\n",
    "import pandas as pd"
   ]
  },
  {
   "cell_type": "code",
   "execution_count": 2,
   "metadata": {},
   "outputs": [],
   "source": [
    "# https://www.tripadvisor.co.kr/Attractions-g297888-Activities-a_allAttractions.true-Gyeongju_Gyeongsangbuk_do.html\n",
    "first_url = 'https://www.tripadvisor.co.kr/Attraction_Review-g297888-d320364-Reviews-Bulguksa_Temple-Gyeongju_Gyeongsangbuk_do.html'\n",
    "url = 'https://www.tripadvisor.co.kr/Attraction_Review-g297888-d320364-Reviews-or10-Bulguksa_Temple-Gyeongju_Gyeongsangbuk_do.html'"
   ]
  },
  {
   "cell_type": "code",
   "execution_count": 3,
   "metadata": {},
   "outputs": [],
   "source": [
    "res = requests.get(url)\n",
    "\n",
    "soup = BeautifulSoup(res.text, 'lxml')\n",
    "\n",
    "print(soup.find_all('span', attrs={\"class\":\"NejBf\"}))"
   ]
  },
  {
   "cell_type": "code",
   "execution_count": null,
   "metadata": {},
   "outputs": [],
   "source": [
    "soup.find('a')"
   ]
  },
  {
   "cell_type": "code",
   "execution_count": null,
   "metadata": {},
   "outputs": [],
   "source": [
    "res = requests.get(url)"
   ]
  },
  {
   "cell_type": "code",
   "execution_count": 5,
   "metadata": {},
   "outputs": [],
   "source": [
    "from selenium.webdriver import Chrome\n",
    "driver = Chrome('../../../practice/chromedriver.exe')"
   ]
  },
  {
   "cell_type": "code",
   "execution_count": 6,
   "metadata": {},
   "outputs": [],
   "source": [
    "driver.get(url)"
   ]
  },
  {
   "cell_type": "code",
   "execution_count": 12,
   "metadata": {},
   "outputs": [],
   "source": [
    "titles = driver.find_elements_by_class_name('NejBf')"
   ]
  },
  {
   "cell_type": "code",
   "execution_count": 14,
   "metadata": {},
   "outputs": [
    {
     "name": "stdout",
     "output_type": "stream",
     "text": [
      "아침에 사람 적을 때 가면 더 좋습니다\n",
      "불국사는 워낙 사람이 늘 많아서 이왕 갈 거면 아침 일찍 가서 좀 사람 없고 여유로울 때 보는 게 좋아요. 안 그러면 사람 바글바글...\n",
      "주차지옥..\n",
      "그냥 오래된 절입니다. 저는 솔직히 말씀드려서 경주 갔으니까 불국사 한번은 가야지 라는 생각으로 갔었는데, 솔직히 말해서 그냥 절이예요..\n",
      "\n",
      "그래도 역사적으로 문화가 깊은 공간이기 때문에 꼭 가보시면 좋을 것 같네요.\n",
      "명불허전\n",
      "한여름이지만 불국사 올라가는 길은 숲길이라 시원하고 불국사에서 먹은 약숫물이 정말 시원했어요 사람은 많았지만 어릴때 수학여행와서 대충둘러봤던 다보탑과 석가탑을 어른이 되어 다시 보니 감회가 새로웠습니다.\n",
      "여행\n",
      "외국어 안내 선생님을 잘 만났습니다.\n",
      "늦은 오후에 가 보시고, 6시 반부터 하는 기도시간 (사물놀이 포함) 을 노려 보세요.\n",
      "특별한 경험이 됩니다.\n",
      "오랫만에 다시 옴.\n",
      "오랫만에 다시 와서 좋았음.\n",
      "사진도 예쁘게 나오고,,\n",
      "\n",
      "한국이 참 국제화 됐구나 싶은게, 나이 많은 미국사람이랑 프랑스 젊은 여자 아가씨 들도 보였었음.\n",
      "불국사의 반전\n",
      "사생대회가 잇는날! 불국사에서 걸그룹 댄스와 팝송이 나오다니! 가정의 달 행사 하는건 좋은데 한적한 사찰을 생각하고 간 불국사에서 완젼 배신을 받은 느낌! 이럴거면입장료를 받자 말던지!\n",
      "아주 유명한 사찰\n",
      "우리나라에서 가장 유명한 사찰이라고 볼 수 있는 불국사.\n",
      "경주 수학여행으로 빠질 수 없는 곳이였음.\n",
      "경주 들린다면 꼭 가보길 추천.\n",
      "우리나라 사람은 꼭 한번 가 봐야 할 사찰\n",
      "신라시대 세워진 사찰. 다른 사찰에서는 보기 힘들며 주로 궁궐에 있는 회랑이 있는 사찰. 역사적 의미와 건축가가 한평생 건축한 의미가 살아있는 사찰. 그러나 유료주차장, 박물관 유료화 등 너무 세속에 물드는 것이 조금 아쉽다.\n",
      "언제봐도 멋있습니다.\n",
      "언제봐도 멋있는 불국사입니다. 14년전에 방문했을때보다 입장제한이 늘긴 했지만 여전히 고찰을 느끼기에 손색이 없습니다. 아동이 상당히 많습니다. 참고하세요.\n",
      "불국사는..가야죠\n",
      "경주는 제가 좋아하는 국내여행지역인데요. 불국사는 갈때마다 무조건 갑니다. 계절마다 다른 모습을 보여주기도 하고 다보탑,석가탑 보수가 끝이나서 그걸 보기 위해 갈만 하고, 4월에 벚꽃에 이어 피는 불국사 입구쪽에 있는 왕벚꽃밭 강추합니다\n"
     ]
    }
   ],
   "source": [
    "for title in titles:\n",
    "    print(title.text)"
   ]
  },
  {
   "cell_type": "code",
   "execution_count": 16,
   "metadata": {},
   "outputs": [
    {
     "data": {
      "text/plain": [
       "20"
      ]
     },
     "execution_count": 16,
     "metadata": {},
     "output_type": "execute_result"
    }
   ],
   "source": [
    "len(titles)"
   ]
  },
  {
   "cell_type": "code",
   "execution_count": 20,
   "metadata": {},
   "outputs": [
    {
     "name": "stdout",
     "output_type": "stream",
     "text": [
      "그냥 오래된 절입니다. 저는 솔직히 말씀드려서 경주 갔으니까 불국사 한번은 가야지 라는 생각으로 갔었는데, 솔직히 말해서 그냥 절이예요..\n",
      "\n",
      "그래도 역사적으로 문화가 깊은 공간이기 때문에 꼭 가보시면 좋을 것 같네요.\n"
     ]
    }
   ],
   "source": [
    "print(titles[3].text)"
   ]
  },
  {
   "cell_type": "code",
   "execution_count": 21,
   "metadata": {},
   "outputs": [],
   "source": [
    "dates = driver.find_elements_by_class_name('eRduX')"
   ]
  },
  {
   "cell_type": "code",
   "execution_count": 23,
   "metadata": {},
   "outputs": [
    {
     "name": "stdout",
     "output_type": "stream",
     "text": [
      "2019년 7월 • 커플\n",
      "2019년 5월 • 커플\n",
      "2019년 5월 • 가족\n",
      "2019년 5월 • 친구\n",
      "2019년 4월 • 가족\n",
      "2019년 4월 • 가족\n",
      "2018년 8월 • 커플\n",
      "2019년 3월 • 커플\n",
      "2019년 2월 • 개인\n",
      "2018년 4월 • 친구\n"
     ]
    }
   ],
   "source": [
    "for date in dates:\n",
    "    print(date.text)"
   ]
  },
  {
   "cell_type": "code",
   "execution_count": 42,
   "metadata": {},
   "outputs": [],
   "source": [
    "labels = driver.find_elements_by_class_name('RWYKj d H0')"
   ]
  },
  {
   "cell_type": "code",
   "execution_count": 43,
   "metadata": {},
   "outputs": [],
   "source": [
    "for label in labels:\n",
    "    print(label.get_attribute('aria-label'))"
   ]
  },
  {
   "cell_type": "code",
   "execution_count": 58,
   "metadata": {},
   "outputs": [
    {
     "data": {
      "text/plain": [
       "'풍선 5개 중 5.0'"
      ]
     },
     "execution_count": 58,
     "metadata": {},
     "output_type": "execute_result"
    }
   ],
   "source": [
    "driver.find_element_by_css_selector('#tab-data-qa-reviews-0 > div > div.dHjBB > div:nth-child(10) > span > div > div:nth-child(2) > svg').get_attribute('aria-label')\n",
    "#tab-data-qa-reviews-0 > div > div.dHjBB > div:nth-child(1) > span > div > div:nth-child(2) > svg\n",
    "#tab-data-qa-reviews-0 > div > div.dHjBB > div:nth-child(2) > span > div > div:nth-child(2)"
   ]
  },
  {
   "cell_type": "code",
   "execution_count": null,
   "metadata": {},
   "outputs": [],
   "source": []
  }
 ],
 "metadata": {
  "interpreter": {
   "hash": "7d8033f6c2facdf0c540ae24185783756312e465f81bc1a6a1c85e47e304566e"
  },
  "kernelspec": {
   "display_name": "Python 3 (ipykernel)",
   "language": "python",
   "name": "python3"
  },
  "language_info": {
   "codemirror_mode": {
    "name": "ipython",
    "version": 3
   },
   "file_extension": ".py",
   "mimetype": "text/x-python",
   "name": "python",
   "nbconvert_exporter": "python",
   "pygments_lexer": "ipython3",
   "version": "3.8.8"
  }
 },
 "nbformat": 4,
 "nbformat_minor": 2
}
