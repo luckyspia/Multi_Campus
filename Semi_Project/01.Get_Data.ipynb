{
 "cells": [
  {
   "cell_type": "markdown",
   "metadata": {},
   "source": [
    "## 노인일자리 여기"
   ]
  },
  {
   "cell_type": "code",
   "execution_count": 15,
   "metadata": {},
   "outputs": [],
   "source": [
    "import requests\n",
    "from bs4 import BeautifulSoup as bs\n",
    "import pandas as pd\n",
    "from tqdm import tqdm\n",
    "from selenium.webdriver import Chrome\n",
    "from selenium.webdriver.common.keys import Keys\n",
    "from selenium.webdriver.common.by import By\n",
    "import time\n",
    "import numpy as np"
   ]
  },
  {
   "cell_type": "code",
   "execution_count": 2,
   "metadata": {},
   "outputs": [],
   "source": [
    "# https://www.tripadvisor.co.kr/Attractions-g297888-Activities-a_allAttractions.true-Gyeongju_Gyeongsangbuk_do.html\n",
    "url = 'https://www.seniorro.or.kr:4431/seniorro/main/organization.do'"
   ]
  },
  {
   "cell_type": "code",
   "execution_count": 3,
   "metadata": {},
   "outputs": [],
   "source": [
    "browser = Chrome()\n",
    "browser.get(url)"
   ]
  },
  {
   "cell_type": "code",
   "execution_count": 16,
   "metadata": {},
   "outputs": [
    {
     "name": "stdout",
     "output_type": "stream",
     "text": [
      "['서울', '강원', '경기', '경남', '경북', '광주', '대구', '대전', '부산', '울산', '인천', '전남', '전북', '제주', '충남', '충북', '세종']\n"
     ]
    }
   ],
   "source": [
    "reg_html = bs(browser.page_source, \"html.parser\")\n",
    "reg_soup=reg_html.find('select',id=\"areaTotCd\")       # 대분류 건수 확인\n",
    "reg_opt=reg_soup.find_all('option')\n",
    "\n",
    "reg_name=[reg_opt[i].text for i in range(1, len(reg_opt))]\n",
    "print(reg_name)"
   ]
  },
  {
   "cell_type": "code",
   "execution_count": 24,
   "metadata": {},
   "outputs": [],
   "source": [
    "region_loc = browser.find_element(By.ID,'areaTotCd')"
   ]
  },
  {
   "cell_type": "code",
   "execution_count": 25,
   "metadata": {},
   "outputs": [],
   "source": [
    "region_loc.send_keys('서울')"
   ]
  },
  {
   "cell_type": "code",
   "execution_count": null,
   "metadata": {},
   "outputs": [],
   "source": [
    "for reg in reg_name:\n",
    "    region_loc.send_keys(reg)"
   ]
  },
  {
   "cell_type": "code",
   "execution_count": 27,
   "metadata": {},
   "outputs": [],
   "source": [
    "search_btn = browser.find_element(By.XPATH,'//*[@id=\"orgSearchBtn\"]')\n",
    "search_btn.send_keys(Keys.ENTER)"
   ]
  },
  {
   "cell_type": "code",
   "execution_count": 61,
   "metadata": {},
   "outputs": [],
   "source": [
    "sido = []\n",
    "sigungu = []\n",
    "name = []\n",
    "addr = []\n",
    "\n",
    "regions = browser.find_elements(By.TAG_NAME,'tr')[1:]\n",
    "for region in regions:\n",
    "    sido.append(region.text.split()[0])\n",
    "    sigungu.append(region.text.split()[1])\n",
    "\n",
    "names = browser.find_elements(By.CLASS_NAME,\"txt-l\")\n",
    "for i in range(1, 11):\n",
    "    if i == 1:\n",
    "        name.append(names[i].text)\n",
    "        addr.append(names[i+1].text)\n",
    "    else:\n",
    "        name.append(names[i + (i-1)].text)\n",
    "        addr.append(names[i*2].text)"
   ]
  },
  {
   "cell_type": "code",
   "execution_count": 65,
   "metadata": {},
   "outputs": [
    {
     "data": {
      "text/plain": [
       "27"
      ]
     },
     "execution_count": 65,
     "metadata": {},
     "output_type": "execute_result"
    }
   ],
   "source": [
    "len(browser.find_elements(By.TAG_NAME,'li'))"
   ]
  },
  {
   "cell_type": "code",
   "execution_count": 74,
   "metadata": {},
   "outputs": [
    {
     "data": {
      "text/plain": [
       "5"
      ]
     },
     "execution_count": 74,
     "metadata": {},
     "output_type": "execute_result"
    }
   ],
   "source": [
    "len(browser.find_element(By.CLASS_NAME,\"pagingNum\").find_elements(By.TAG_NAME,'li')[2:][:-2])"
   ]
  },
  {
   "cell_type": "code",
   "execution_count": null,
   "metadata": {},
   "outputs": [],
   "source": []
  }
 ],
 "metadata": {
  "interpreter": {
   "hash": "7d8033f6c2facdf0c540ae24185783756312e465f81bc1a6a1c85e47e304566e"
  },
  "kernelspec": {
   "display_name": "Python 3 (ipykernel)",
   "language": "python",
   "name": "python3"
  },
  "language_info": {
   "codemirror_mode": {
    "name": "ipython",
    "version": 3
   },
   "file_extension": ".py",
   "mimetype": "text/x-python",
   "name": "python",
   "nbconvert_exporter": "python",
   "pygments_lexer": "ipython3",
   "version": "3.8.8"
  }
 },
 "nbformat": 4,
 "nbformat_minor": 2
}
